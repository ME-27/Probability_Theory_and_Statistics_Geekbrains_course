{
 "cells": [
  {
   "cell_type": "markdown",
   "id": "e00ae915",
   "metadata": {},
   "source": [
    "# Poisson Distribution"
   ]
  },
  {
   "cell_type": "markdown",
   "id": "b13f7a2b",
   "metadata": {},
   "source": [
    "https://www.youtube.com/watch?v=cPOChr_kuQs&list=PLTNMv857s9WVzutwxaMb0YZKW7hoveGLS&index=4"
   ]
  },
  {
   "cell_type": "code",
   "execution_count": 1,
   "id": "c407cac6",
   "metadata": {},
   "outputs": [],
   "source": [
    "from scipy.stats import poisson\n",
    "import matplotlib.pyplot as plt\n",
    "import seaborn as sb\n",
    "\n",
    "from numpy import random\n",
    "import math"
   ]
  },
  {
   "cell_type": "code",
   "execution_count": 2,
   "id": "4ac7a8b0",
   "metadata": {},
   "outputs": [],
   "source": [
    "    import warnings\n",
    "    warnings.filterwarnings('ignore')"
   ]
  },
  {
   "cell_type": "markdown",
   "id": "e9b052d2",
   "metadata": {},
   "source": [
    "### Quick Rundown:\n",
    "\n",
    "- discrete distribution\n",
    "- describes the number of events occuring in a fixed time interval or region of opportunity \n",
    "- requires only one parameter - $\\lambda$, which is expected number of events per time interval\n",
    "- bounded by 0 and $\\infty$"
   ]
  },
  {
   "cell_type": "markdown",
   "id": "a362f263",
   "metadata": {},
   "source": [
    "__NB:__ $\\lambda$ doesn't need to be an integer, it can be a float number too!"
   ]
  },
  {
   "cell_type": "markdown",
   "id": "e7d88248",
   "metadata": {},
   "source": [
    "### Assumptions:\n",
    "- the rate at which events occur is constant\n",
    "- the occurance of one event does not affect the occurance of a subsequent event (i.e. events are independent)"
   ]
  },
  {
   "cell_type": "markdown",
   "id": "832b921f",
   "metadata": {},
   "source": [
    "### Probability Mass Function (PMF):"
   ]
  },
  {
   "cell_type": "markdown",
   "id": "2faa1be1",
   "metadata": {},
   "source": [
    "### $$P(X=x)=\\frac{e^{-\\lambda}\\lambda^x}{x!}$$"
   ]
  },
  {
   "cell_type": "markdown",
   "id": "189eca5b",
   "metadata": {},
   "source": [
    "### visualization:"
   ]
  },
  {
   "cell_type": "code",
   "execution_count": 3,
   "id": "022824d6",
   "metadata": {},
   "outputs": [
    {
     "data": {
      "text/plain": [
       "[Text(0.5, 0, 'Poisson'), Text(0, 0.5, 'Frequency')]"
      ]
     },
     "execution_count": 3,
     "metadata": {},
     "output_type": "execute_result"
    },
    {
     "data": {
      "image/png": "[encoded data removed]",
      "text/plain": [
       "<Figure size 432x288 with 1 Axes>"
      ]
     },
     "metadata": {
      "needs_background": "light"
     },
     "output_type": "display_data"
    }
   ],
   "source": [
    "data_poisson = poisson.rvs(mu=2, size=10000, loc=0)  # loc - where x-axis starts, loc=0 - by default\n",
    "                                                   # mu = lambda\n",
    "ax = sb.distplot(data_poisson,\n",
    "                  kde=True,\n",
    "                  color='green',\n",
    "                  hist_kws={\"linewidth\": 25,'alpha':1})\n",
    "ax.set(xlabel='Poisson', ylabel='Frequency')"
   ]
  },
  {
   "cell_type": "markdown",
   "id": "783277f8",
   "metadata": {},
   "source": [
    "### another visualization:"
   ]
  },
  {
   "cell_type": "code",
   "execution_count": 4,
   "id": "5b26b527",
   "metadata": {},
   "outputs": [
    {
     "data": {
      "image/png": "[encoded data removed]",
      "text/plain": [
       "<Figure size 432x288 with 1 Axes>"
      ]
     },
     "metadata": {
      "needs_background": "light"
     },
     "output_type": "display_data"
    }
   ],
   "source": [
    "sb.distplot(random.poisson(lam=3, size=10000), kde=False)\n",
    "plt.show()"
   ]
  },
  {
   "cell_type": "code",
   "execution_count": null,
   "id": "7bc334ff",
   "metadata": {},
   "outputs": [],
   "source": []
  },
  {
   "cell_type": "markdown",
   "id": "e70c9e02",
   "metadata": {},
   "source": [
    "### example:"
   ]
  },
  {
   "cell_type": "markdown",
   "id": "880e9449",
   "metadata": {},
   "source": [
    "Exclusive Wines import Argentinian wine into Australia. They have begun advertising on Facebook to direct traffic to their website where customers can order wine online. The number of click-through sales from the ad is Poisson distributed with a mean of 12 click-through sales per day. Find the probability of getting:"
   ]
  },
  {
   "cell_type": "markdown",
   "id": "1f45ec29",
   "metadata": {},
   "source": [
    "    a) exactly 10 click-through sales in the first day"
   ]
  },
  {
   "cell_type": "markdown",
   "id": "6750953d",
   "metadata": {},
   "source": [
    "### $$P(X=10)=\\frac{e^{-12}12^{10}}{10!}=$$"
   ]
  },
  {
   "cell_type": "code",
   "execution_count": 7,
   "id": "3a61f259",
   "metadata": {},
   "outputs": [
    {
     "data": {
      "text/plain": [
       "0.1048372558836594"
      ]
     },
     "execution_count": 7,
     "metadata": {},
     "output_type": "execute_result"
    }
   ],
   "source": [
    "((math.e ** -12) * 12 ** 10) / math.factorial(10)"
   ]
  },
  {
   "cell_type": "markdown",
   "id": "0d5765fc",
   "metadata": {},
   "source": [
    "or we can use built-in __probability mass function__:"
   ]
  },
  {
   "cell_type": "code",
   "execution_count": 9,
   "id": "4736bb3e",
   "metadata": {},
   "outputs": [
    {
     "data": {
      "text/plain": [
       "0.10483725588365922"
      ]
     },
     "execution_count": 9,
     "metadata": {},
     "output_type": "execute_result"
    }
   ],
   "source": [
    "poisson.pmf(k=10, mu=12)"
   ]
  },
  {
   "cell_type": "code",
   "execution_count": null,
   "id": "2ff4b5bb",
   "metadata": {},
   "outputs": [],
   "source": []
  },
  {
   "cell_type": "markdown",
   "id": "93e59ad7",
   "metadata": {},
   "source": [
    "    b) at least 10 click-through sales in the first day"
   ]
  },
  {
   "cell_type": "markdown",
   "id": "23c6bb7f",
   "metadata": {},
   "source": [
    "we can use built-in __cumulative distribution functon__:"
   ]
  },
  {
   "cell_type": "code",
   "execution_count": 12,
   "id": "89b97823",
   "metadata": {},
   "outputs": [
    {
     "data": {
      "text/plain": [
       "0.7576078383294875"
      ]
     },
     "execution_count": 12,
     "metadata": {},
     "output_type": "execute_result"
    }
   ],
   "source": [
    "1 - poisson.cdf(k=9, mu=12)"
   ]
  },
  {
   "cell_type": "markdown",
   "id": "366f6f66",
   "metadata": {},
   "source": [
    "or built-in __survival functon__:"
   ]
  },
  {
   "cell_type": "code",
   "execution_count": 13,
   "id": "b9a66e77",
   "metadata": {},
   "outputs": [
    {
     "data": {
      "text/plain": [
       "0.7576078383294875"
      ]
     },
     "execution_count": 13,
     "metadata": {},
     "output_type": "execute_result"
    }
   ],
   "source": [
    "poisson.sf(k=9, mu=12)"
   ]
  },
  {
   "cell_type": "markdown",
   "id": "af01da64",
   "metadata": {},
   "source": [
    "    c) more than 1 click-through sale in the first hour"
   ]
  },
  {
   "cell_type": "markdown",
   "id": "3209e87e",
   "metadata": {},
   "source": [
    "### $$\\lambda=\\frac{12}{24}=0.5$$"
   ]
  },
  {
   "cell_type": "code",
   "execution_count": 14,
   "id": "bdd0c4c9",
   "metadata": {},
   "outputs": [
    {
     "data": {
      "text/plain": [
       "0.09020401043104986"
      ]
     },
     "execution_count": 14,
     "metadata": {},
     "output_type": "execute_result"
    }
   ],
   "source": [
    "1 - poisson.cdf(k=1, mu=0.5)"
   ]
  },
  {
   "cell_type": "code",
   "execution_count": 15,
   "id": "9b135725",
   "metadata": {},
   "outputs": [
    {
     "data": {
      "text/plain": [
       "0.09020401043104986"
      ]
     },
     "execution_count": 15,
     "metadata": {},
     "output_type": "execute_result"
    }
   ],
   "source": [
    "poisson.sf(k=1, mu=0.5)"
   ]
  },
  {
   "cell_type": "code",
   "execution_count": null,
   "id": "eddfd7ee",
   "metadata": {},
   "outputs": [],
   "source": []
  },
  {
   "cell_type": "markdown",
   "id": "8a01ef5f",
   "metadata": {},
   "source": [
    "    d) do you think the Poisson distribution is appropriate for this scenario in reality?"
   ]
  },
  {
   "cell_type": "markdown",
   "id": "4c498805",
   "metadata": {},
   "source": [
    "!The rate at which events occur must be constant!"
   ]
  },
  {
   "cell_type": "markdown",
   "id": "93acfe0a",
   "metadata": {},
   "source": [
    "__answer:__ not all hours are equal! At 6am people are less active in clicking to buy a whine than at 6pm! But it seems better work with days."
   ]
  },
  {
   "cell_type": "code",
   "execution_count": null,
   "id": "d41d2eb7",
   "metadata": {},
   "outputs": [],
   "source": []
  }
 ],
 "metadata": {
  "kernelspec": {
   "display_name": "Python 3",
   "language": "python",
   "name": "python3"
  },
  "language_info": {
   "codemirror_mode": {
    "name": "ipython",
    "version": 3
   },
   "file_extension": ".py",
   "mimetype": "text/x-python",
   "name": "python",
   "nbconvert_exporter": "python",
   "pygments_lexer": "ipython3",
   "version": "3.8.8"
  }
 },
 "nbformat": 4,
 "nbformat_minor": 5
}
