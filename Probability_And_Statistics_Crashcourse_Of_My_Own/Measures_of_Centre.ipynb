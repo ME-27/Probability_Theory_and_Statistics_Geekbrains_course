{
 "cells": [
  {
   "cell_type": "markdown",
   "id": "69cbaeda",
   "metadata": {},
   "source": [
    "# Measures of Centre / Central Tendency"
   ]
  },
  {
   "cell_type": "markdown",
   "id": "89a4edd6",
   "metadata": {},
   "source": [
    "https://www.youtube.com/watch?v=mk8tOD0t8M0"
   ]
  },
  {
   "cell_type": "markdown",
   "id": "0cb2eeb9",
   "metadata": {},
   "source": [
    "## Mode"
   ]
  },
  {
   "cell_type": "markdown",
   "id": "b6a8e758",
   "metadata": {},
   "source": [
    "#### refers to the data value that is most frequently observed"
   ]
  },
  {
   "cell_type": "markdown",
   "id": "142df707",
   "metadata": {},
   "source": [
    "example:"
   ]
  },
  {
   "cell_type": "markdown",
   "id": "cbd8de1c",
   "metadata": {},
   "source": [
    "there is given a sample of random people and we measure their heights:"
   ]
  },
  {
   "cell_type": "code",
   "execution_count": 1,
   "id": "fb15b643",
   "metadata": {},
   "outputs": [],
   "source": [
    "heights_of_sample_of_random_people = [154, 139, 154, 192, 180, 140, 154, 155, 192]"
   ]
  },
  {
   "cell_type": "code",
   "execution_count": 2,
   "id": "ccaa121a",
   "metadata": {},
   "outputs": [
    {
     "data": {
      "text/plain": [
       "[139, 140, 154, 154, 154, 155, 180, 192, 192]"
      ]
     },
     "execution_count": 2,
     "metadata": {},
     "output_type": "execute_result"
    }
   ],
   "source": [
    "heights_of_sample_of_random_people.sort()\n",
    "heights_of_sample_of_random_people"
   ]
  },
  {
   "cell_type": "code",
   "execution_count": 3,
   "id": "71a66bd0",
   "metadata": {},
   "outputs": [],
   "source": [
    "import pandas as pd"
   ]
  },
  {
   "cell_type": "code",
   "execution_count": 4,
   "id": "629450ca",
   "metadata": {},
   "outputs": [
    {
     "data": {
      "text/plain": [
       "154    3\n",
       "192    2\n",
       "180    1\n",
       "139    1\n",
       "140    1\n",
       "155    1\n",
       "dtype: int64"
      ]
     },
     "execution_count": 4,
     "metadata": {},
     "output_type": "execute_result"
    }
   ],
   "source": [
    "pd.Series(heights_of_sample_of_random_people).value_counts()"
   ]
  },
  {
   "cell_type": "markdown",
   "id": "3b2eec05",
   "metadata": {},
   "source": [
    "so, 154 is the most frequent value of the data - its mode"
   ]
  },
  {
   "cell_type": "markdown",
   "id": "f0c0087b",
   "metadata": {},
   "source": [
    "## Median"
   ]
  },
  {
   "cell_type": "markdown",
   "id": "cfef5f9d",
   "metadata": {},
   "source": [
    "#### refers to the data value that is positioned in the middle of an ordered dataset"
   ]
  },
  {
   "cell_type": "markdown",
   "id": "94a543db",
   "metadata": {},
   "source": [
    "for odd numbers:"
   ]
  },
  {
   "cell_type": "code",
   "execution_count": 5,
   "id": "dfcfb8d8",
   "metadata": {},
   "outputs": [
    {
     "data": {
      "text/plain": [
       "[139, 140, 154, 154, 154, 155, 180, 192, 192]"
      ]
     },
     "execution_count": 5,
     "metadata": {},
     "output_type": "execute_result"
    }
   ],
   "source": [
    "heights_of_sample_of_random_people"
   ]
  },
  {
   "cell_type": "code",
   "execution_count": 6,
   "id": "00347e00",
   "metadata": {},
   "outputs": [
    {
     "name": "stdout",
     "output_type": "stream",
     "text": [
      "index of median element: 4\n",
      "\n",
      "median: 154\n"
     ]
    }
   ],
   "source": [
    "n = len(heights_of_sample_of_random_people)\n",
    "index_of_median_element = int(((n + 1)/2)-1)  # -1 is because we count indexes from 0\n",
    "print(f'index of median element: {index_of_median_element}')\n",
    "\n",
    "median = heights_of_sample_of_random_people[index_of_median_element]\n",
    "print(f'\\nmedian: {median}')"
   ]
  },
  {
   "cell_type": "markdown",
   "id": "89e5e530",
   "metadata": {},
   "source": [
    "for even numbers:"
   ]
  },
  {
   "cell_type": "code",
   "execution_count": 7,
   "id": "09b27e79",
   "metadata": {},
   "outputs": [
    {
     "data": {
      "text/plain": [
       "[139, 140, 154, 154, 154, 155, 180, 192, 192, 193]"
      ]
     },
     "execution_count": 7,
     "metadata": {},
     "output_type": "execute_result"
    }
   ],
   "source": [
    "heights_of_sample_of_random_people.append(193)  # let's add one more value to our data\n",
    "heights_of_sample_of_random_people"
   ]
  },
  {
   "cell_type": "code",
   "execution_count": 8,
   "id": "31380ec3",
   "metadata": {},
   "outputs": [
    {
     "name": "stdout",
     "output_type": "stream",
     "text": [
      "index of first median element: 4\n",
      "index of second median element: 5\n",
      "\n",
      "median: 154.5\n"
     ]
    }
   ],
   "source": [
    "n = len(heights_of_sample_of_random_people)\n",
    "index_of_median_element_1 = int(((n + 1)/2)-1)\n",
    "index_of_median_element_2 = index_of_median_element_1 + 1\n",
    "\n",
    "print(f'index of first median element: {index_of_median_element_1}')\n",
    "print(f'index of second median element: {index_of_median_element_2}')\n",
    "\n",
    "median = (heights_of_sample_of_random_people[index_of_median_element_1] +\\\n",
    "          heights_of_sample_of_random_people[index_of_median_element_2])/2\n",
    "print(f'\\nmedian: {median}')"
   ]
  },
  {
   "cell_type": "markdown",
   "id": "4205c3c8",
   "metadata": {},
   "source": [
    "## Mean"
   ]
  },
  {
   "cell_type": "markdown",
   "id": "16acd6c8",
   "metadata": {},
   "source": [
    "#### is just another name for aruthmetic average"
   ]
  },
  {
   "cell_type": "markdown",
   "id": "266e7b86",
   "metadata": {},
   "source": [
    "### $$\\overline{x}=\\frac{\\sum x_i}{n}$$"
   ]
  },
  {
   "cell_type": "code",
   "execution_count": 9,
   "id": "74c32cd1",
   "metadata": {},
   "outputs": [
    {
     "data": {
      "text/plain": [
       "[139, 140, 154, 154, 154, 155, 180, 192, 192, 193]"
      ]
     },
     "execution_count": 9,
     "metadata": {},
     "output_type": "execute_result"
    }
   ],
   "source": [
    "heights_of_sample_of_random_people"
   ]
  },
  {
   "cell_type": "code",
   "execution_count": 10,
   "id": "028457d0",
   "metadata": {},
   "outputs": [
    {
     "data": {
      "text/plain": [
       "165.3"
      ]
     },
     "execution_count": 10,
     "metadata": {},
     "output_type": "execute_result"
    }
   ],
   "source": [
    "sum(heights_of_sample_of_random_people)/len(heights_of_sample_of_random_people)"
   ]
  },
  {
   "cell_type": "code",
   "execution_count": null,
   "id": "dc266e41",
   "metadata": {},
   "outputs": [],
   "source": []
  }
 ],
 "metadata": {
  "kernelspec": {
   "display_name": "Python 3",
   "language": "python",
   "name": "python3"
  },
  "language_info": {
   "codemirror_mode": {
    "name": "ipython",
    "version": 3
   },
   "file_extension": ".py",
   "mimetype": "text/x-python",
   "name": "python",
   "nbconvert_exporter": "python",
   "pygments_lexer": "ipython3",
   "version": "3.8.8"
  }
 },
 "nbformat": 4,
 "nbformat_minor": 5
}
