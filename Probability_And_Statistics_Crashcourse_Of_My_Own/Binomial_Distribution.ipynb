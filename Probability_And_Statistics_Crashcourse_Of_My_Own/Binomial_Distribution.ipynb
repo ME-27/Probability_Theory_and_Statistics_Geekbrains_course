{
 "cells": [
  {
   "cell_type": "markdown",
   "id": "2a007992",
   "metadata": {},
   "source": [
    "# Binomial Distribution"
   ]
  },
  {
   "cell_type": "markdown",
   "id": "65dc83dc",
   "metadata": {},
   "source": [
    "https://www.youtube.com/watch?v=e04_wUoscBU&list=PLTNMv857s9WVzutwxaMb0YZKW7hoveGLS&index=3"
   ]
  },
  {
   "cell_type": "code",
   "execution_count": 1,
   "id": "322c68de",
   "metadata": {},
   "outputs": [],
   "source": [
    "from scipy.stats import binom\n",
    "import seaborn as sb\n",
    "import math"
   ]
  },
  {
   "cell_type": "code",
   "execution_count": 2,
   "id": "83f3732c",
   "metadata": {},
   "outputs": [],
   "source": [
    "import warnings\n",
    "warnings.filterwarnings('ignore')"
   ]
  },
  {
   "cell_type": "markdown",
   "id": "72a04f67",
   "metadata": {},
   "source": [
    "### Pre-requisites:\n",
    "- there are two potential outcomes per trial\n",
    "- the probability of success (p) is the same across all trials\n",
    "- the number of trials is fixed\n",
    "- each trial is independent"
   ]
  },
  {
   "cell_type": "markdown",
   "id": "77e9ba71",
   "metadata": {},
   "source": [
    "### $$P(X=x)=C_x^np^x(1-p)^{n-x}$$"
   ]
  },
  {
   "cell_type": "markdown",
   "id": "2afaf284",
   "metadata": {},
   "source": [
    "where:"
   ]
  },
  {
   "cell_type": "markdown",
   "id": "798af22b",
   "metadata": {},
   "source": [
    "### $$C_x^n=\\frac{n!}{x!(n-x)!}$$"
   ]
  },
  {
   "cell_type": "markdown",
   "id": "042a43e7",
   "metadata": {},
   "source": [
    "### visualization:"
   ]
  },
  {
   "cell_type": "code",
   "execution_count": 3,
   "id": "d6d0ccaf",
   "metadata": {},
   "outputs": [
    {
     "data": {
      "text/plain": [
       "[Text(0.5, 0, 'Binomial'), Text(0, 0.5, 'Frequency')]"
      ]
     },
     "execution_count": 3,
     "metadata": {},
     "output_type": "execute_result"
    },
    {
     "data": {
      "image/png": "[encoded data removed]",
      "text/plain": [
       "<Figure size 432x288 with 1 Axes>"
      ]
     },
     "metadata": {
      "needs_background": "light"
     },
     "output_type": "display_data"
    }
   ],
   "source": [
    "data_binom = binom.rvs(n=20,p=0.8,loc=0,size=1000)\n",
    "ax = sb.distplot(data_binom,\n",
    "                  kde=True,\n",
    "                  color='blue',\n",
    "                  hist_kws={\"linewidth\": 25,'alpha':1})\n",
    "ax.set(xlabel='Binomial', ylabel='Frequency')"
   ]
  },
  {
   "cell_type": "markdown",
   "id": "c3fa253b",
   "metadata": {},
   "source": [
    "### example:"
   ]
  },
  {
   "cell_type": "markdown",
   "id": "d20073bc",
   "metadata": {},
   "source": [
    "Studies show colour blindness affects about 8% of men. A random sample of 10 men is taken. Find the probability that:"
   ]
  },
  {
   "cell_type": "markdown",
   "id": "502e46ed",
   "metadata": {},
   "source": [
    "    a) all 10 men are colour blind "
   ]
  },
  {
   "cell_type": "markdown",
   "id": "a20216cd",
   "metadata": {},
   "source": [
    "$$P(X=10)=\\frac{10!}{10!(10-10)!}0.08^{10}(1-0.08)^{10-10}=0.08^{10}$$"
   ]
  },
  {
   "cell_type": "code",
   "execution_count": 4,
   "id": "52a402e2",
   "metadata": {},
   "outputs": [
    {
     "data": {
      "text/plain": [
       "1.0737418240000003e-11"
      ]
     },
     "execution_count": 4,
     "metadata": {},
     "output_type": "execute_result"
    }
   ],
   "source": [
    "0.08 ** 10"
   ]
  },
  {
   "cell_type": "markdown",
   "id": "0f2dd6f4",
   "metadata": {},
   "source": [
    "or we can use built-in __probability mass function__:"
   ]
  },
  {
   "cell_type": "code",
   "execution_count": 5,
   "id": "89b41d59",
   "metadata": {},
   "outputs": [
    {
     "data": {
      "text/plain": [
       "1.0737418239999982e-11"
      ]
     },
     "execution_count": 5,
     "metadata": {},
     "output_type": "execute_result"
    }
   ],
   "source": [
    "binom.pmf(k=10, n=10, p=0.08)"
   ]
  },
  {
   "cell_type": "code",
   "execution_count": null,
   "id": "508f7de8",
   "metadata": {},
   "outputs": [],
   "source": []
  },
  {
   "cell_type": "markdown",
   "id": "c564cd87",
   "metadata": {},
   "source": [
    "    b) no men are colour blind"
   ]
  },
  {
   "cell_type": "markdown",
   "id": "169bb274",
   "metadata": {},
   "source": [
    "$$P(X=0)=\\frac{10!}{0!(10-0)!}0.08^{0}(1-0.08)^{10-0}=0.92^{10}$$"
   ]
  },
  {
   "cell_type": "code",
   "execution_count": 6,
   "id": "6e170cb3",
   "metadata": {},
   "outputs": [
    {
     "data": {
      "text/plain": [
       "0.4343884542236323"
      ]
     },
     "execution_count": 6,
     "metadata": {},
     "output_type": "execute_result"
    }
   ],
   "source": [
    "0.92 ** 10"
   ]
  },
  {
   "cell_type": "code",
   "execution_count": 7,
   "id": "12e9532d",
   "metadata": {},
   "outputs": [
    {
     "data": {
      "text/plain": [
       "0.43438845422363215"
      ]
     },
     "execution_count": 7,
     "metadata": {},
     "output_type": "execute_result"
    }
   ],
   "source": [
    "binom.pmf(k=0, n=10, p=0.08)"
   ]
  },
  {
   "cell_type": "code",
   "execution_count": null,
   "id": "5fd3807a",
   "metadata": {},
   "outputs": [],
   "source": []
  },
  {
   "cell_type": "markdown",
   "id": "74bce05c",
   "metadata": {},
   "source": [
    "    c) exactly 2 men are colour blind"
   ]
  },
  {
   "cell_type": "markdown",
   "id": "b85ac900",
   "metadata": {},
   "source": [
    "$$P(X=2)=\\frac{10!}{2!(10-2)!}0.08^{2}(1-0.08)^{10-2}=$$"
   ]
  },
  {
   "cell_type": "code",
   "execution_count": 8,
   "id": "678e2153",
   "metadata": {},
   "outputs": [
    {
     "data": {
      "text/plain": [
       "0.14780703546361781"
      ]
     },
     "execution_count": 8,
     "metadata": {},
     "output_type": "execute_result"
    }
   ],
   "source": [
    "((9 * 10) / 2) * (0.08 ** 2) * (0.92 ** 8)"
   ]
  },
  {
   "cell_type": "code",
   "execution_count": 9,
   "id": "2029ea2b",
   "metadata": {},
   "outputs": [
    {
     "data": {
      "text/plain": [
       "0.14780703546361768"
      ]
     },
     "execution_count": 9,
     "metadata": {},
     "output_type": "execute_result"
    }
   ],
   "source": [
    "binom.pmf(k=2, n=10, p=0.08)"
   ]
  },
  {
   "cell_type": "code",
   "execution_count": null,
   "id": "24a7e3d5",
   "metadata": {},
   "outputs": [],
   "source": []
  },
  {
   "cell_type": "markdown",
   "id": "9767af2c",
   "metadata": {},
   "source": [
    "    d) at least 2 men are colour blind"
   ]
  },
  {
   "cell_type": "markdown",
   "id": "5a400f4d",
   "metadata": {},
   "source": [
    "$$P(X>=2)=1-P(X<=1)=1-P(X=1)-P(X=0)$$"
   ]
  },
  {
   "cell_type": "code",
   "execution_count": 10,
   "id": "d772f29d",
   "metadata": {},
   "outputs": [
    {
     "data": {
      "text/plain": [
       "0.43438845422363215"
      ]
     },
     "execution_count": 10,
     "metadata": {},
     "output_type": "execute_result"
    }
   ],
   "source": [
    "binom.pmf(k=0, n=10, p=0.08)"
   ]
  },
  {
   "cell_type": "code",
   "execution_count": 11,
   "id": "78d925da",
   "metadata": {},
   "outputs": [
    {
     "data": {
      "text/plain": [
       "0.3777290906292457"
      ]
     },
     "execution_count": 11,
     "metadata": {},
     "output_type": "execute_result"
    }
   ],
   "source": [
    "binom.pmf(k=1, n=10, p=0.08)"
   ]
  },
  {
   "cell_type": "code",
   "execution_count": 12,
   "id": "598f6dab",
   "metadata": {},
   "outputs": [
    {
     "data": {
      "text/plain": [
       "0.1878824551471222"
      ]
     },
     "execution_count": 12,
     "metadata": {},
     "output_type": "execute_result"
    }
   ],
   "source": [
    "1 - binom.pmf(k=1, n=10, p=0.08) - binom.pmf(k=0, n=10, p=0.08)"
   ]
  },
  {
   "cell_type": "markdown",
   "id": "04ff0bd0",
   "metadata": {},
   "source": [
    "or we can use built-in __cumulative distribution functon__:"
   ]
  },
  {
   "cell_type": "code",
   "execution_count": 13,
   "id": "b6d4df79",
   "metadata": {},
   "outputs": [
    {
     "data": {
      "text/plain": [
       "0.18788245514712232"
      ]
     },
     "execution_count": 13,
     "metadata": {},
     "output_type": "execute_result"
    }
   ],
   "source": [
    "1 - binom.cdf(k=1, n=10, p=0.08)"
   ]
  },
  {
   "cell_type": "markdown",
   "id": "d1f45569",
   "metadata": {},
   "source": [
    "or built-in __survival functon__:"
   ]
  },
  {
   "cell_type": "code",
   "execution_count": 14,
   "id": "7479f5e7",
   "metadata": {},
   "outputs": [
    {
     "data": {
      "text/plain": [
       "0.18788245514712254"
      ]
     },
     "execution_count": 14,
     "metadata": {},
     "output_type": "execute_result"
    }
   ],
   "source": [
    "binom.sf(k=1, n=10, p=0.08)"
   ]
  },
  {
   "cell_type": "code",
   "execution_count": null,
   "id": "4b22f1f0",
   "metadata": {},
   "outputs": [],
   "source": []
  },
  {
   "cell_type": "markdown",
   "id": "2706a88d",
   "metadata": {},
   "source": [
    "    e) the expected number of colour blind men in the sample"
   ]
  },
  {
   "cell_type": "markdown",
   "id": "12e043ae",
   "metadata": {},
   "source": [
    "$$E(X)=np=10 * 0.08 = 0.8$$"
   ]
  },
  {
   "cell_type": "code",
   "execution_count": null,
   "id": "1991224a",
   "metadata": {},
   "outputs": [],
   "source": []
  },
  {
   "cell_type": "markdown",
   "id": "14f11314",
   "metadata": {},
   "source": [
    "    f) the standard deviation of the number of colour blind men in the sample"
   ]
  },
  {
   "cell_type": "markdown",
   "id": "d7816e3b",
   "metadata": {},
   "source": [
    "    varience:"
   ]
  },
  {
   "cell_type": "markdown",
   "id": "adaadfb3",
   "metadata": {},
   "source": [
    "$$V(X)=np(1-p)=10 * 0.08 * 0.92 \\approx 0.736$$"
   ]
  },
  {
   "cell_type": "code",
   "execution_count": 15,
   "id": "afa6b13d",
   "metadata": {},
   "outputs": [
    {
     "data": {
      "text/plain": [
       "0.7360000000000001"
      ]
     },
     "execution_count": 15,
     "metadata": {},
     "output_type": "execute_result"
    }
   ],
   "source": [
    "binom.var(n=10, p=0.08)"
   ]
  },
  {
   "cell_type": "markdown",
   "id": "0b300554",
   "metadata": {},
   "source": [
    "    standard devition:"
   ]
  },
  {
   "cell_type": "markdown",
   "id": "b9fe6024",
   "metadata": {},
   "source": [
    "$$SD(X)=\\sqrt{V(X)}=\\sqrt{0.736} \\approx 0.8579$$"
   ]
  },
  {
   "cell_type": "code",
   "execution_count": 16,
   "id": "929f47f0",
   "metadata": {},
   "outputs": [
    {
     "data": {
      "text/plain": [
       "0.8579044235810888"
      ]
     },
     "execution_count": 16,
     "metadata": {},
     "output_type": "execute_result"
    }
   ],
   "source": [
    "binom.std(n=10, p=0.08)"
   ]
  },
  {
   "cell_type": "code",
   "execution_count": null,
   "id": "b3073346",
   "metadata": {},
   "outputs": [],
   "source": []
  }
 ],
 "metadata": {
  "kernelspec": {
   "display_name": "Python 3",
   "language": "python",
   "name": "python3"
  },
  "language_info": {
   "codemirror_mode": {
    "name": "ipython",
    "version": 3
   },
   "file_extension": ".py",
   "mimetype": "text/x-python",
   "name": "python",
   "nbconvert_exporter": "python",
   "pygments_lexer": "ipython3",
   "version": "3.8.8"
  }
 },
 "nbformat": 4,
 "nbformat_minor": 5
}
