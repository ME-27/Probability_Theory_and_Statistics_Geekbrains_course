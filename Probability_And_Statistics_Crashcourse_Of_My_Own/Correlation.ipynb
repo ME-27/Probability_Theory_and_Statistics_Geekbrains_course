{
 "cells": [
  {
   "cell_type": "markdown",
   "id": "f3402bf1",
   "metadata": {},
   "source": [
    "# Correlation"
   ]
  },
  {
   "cell_type": "markdown",
   "id": "929012fb",
   "metadata": {},
   "source": [
    "https://www.youtube.com/watch?v=DAH8DyLXdjM"
   ]
  },
  {
   "cell_type": "markdown",
   "id": "4c51bd21",
   "metadata": {},
   "source": [
    "#### tells about the direction and strength of a linear relationship shared between two quantitative variables"
   ]
  },
  {
   "cell_type": "markdown",
   "id": "eabf6034",
   "metadata": {},
   "source": [
    "### $$r=\\frac{1}{(n-1)s_xs_y}\\sum(x_i-\\overline{x})(y_i-\\overline{y})$$"
   ]
  },
  {
   "cell_type": "markdown",
   "id": "14d29efe",
   "metadata": {},
   "source": [
    "where:"
   ]
  },
  {
   "cell_type": "markdown",
   "id": "29ce6a33",
   "metadata": {},
   "source": [
    "### $$\\sigma=s=\\sqrt{\\frac{\\sum (x_i-\\overline{x})^2}{n-1}}$$"
   ]
  },
  {
   "cell_type": "markdown",
   "id": "55fa9f9c",
   "metadata": {},
   "source": [
    "example:"
   ]
  },
  {
   "cell_type": "markdown",
   "id": "47279e1f",
   "metadata": {},
   "source": [
    "\n",
    "a teacher wants to determine the correlation between the number of hours spent studying and test scores"
   ]
  },
  {
   "cell_type": "code",
   "execution_count": 1,
   "id": "16c38603",
   "metadata": {},
   "outputs": [],
   "source": [
    "import pandas as pd"
   ]
  },
  {
   "cell_type": "code",
   "execution_count": 2,
   "id": "1f8b4fb1",
   "metadata": {},
   "outputs": [],
   "source": [
    "student_name = ['John', 'Allie', 'Mark', 'Samantha', 'Jessica', 'Joseph']\n",
    "hours_spent = pd.Series([13, 15, 7, 3, 10, 27])\n",
    "test_score = pd.Series([53, 69, 92, 10, 85, 99])"
   ]
  },
  {
   "cell_type": "markdown",
   "id": "e2bc07d8",
   "metadata": {},
   "source": [
    "let's illustrated the data with scatterplot:"
   ]
  },
  {
   "cell_type": "code",
   "execution_count": 3,
   "id": "71bb1586",
   "metadata": {},
   "outputs": [],
   "source": [
    "from matplotlib import pyplot as plt"
   ]
  },
  {
   "cell_type": "code",
   "execution_count": 4,
   "id": "9f1b5a09",
   "metadata": {},
   "outputs": [
    {
     "data": {
      "image/png": "[encoded data removed]",
      "text/plain": [
       "<Figure size 432x288 with 1 Axes>"
      ]
     },
     "metadata": {
      "needs_background": "light"
     },
     "output_type": "display_data"
    }
   ],
   "source": [
    "plt.scatter(hours_spent, test_score)\n",
    "plt.show()"
   ]
  },
  {
   "cell_type": "markdown",
   "id": "e1ce97a3",
   "metadata": {},
   "source": [
    "let's calculate the means:"
   ]
  },
  {
   "cell_type": "code",
   "execution_count": 5,
   "id": "24bb9147",
   "metadata": {},
   "outputs": [
    {
     "data": {
      "text/plain": [
       "12.5"
      ]
     },
     "execution_count": 5,
     "metadata": {},
     "output_type": "execute_result"
    }
   ],
   "source": [
    "hours_spent_mean = sum(hours_spent)/(len(hours_spent))\n",
    "hours_spent_mean"
   ]
  },
  {
   "cell_type": "code",
   "execution_count": 6,
   "id": "5c7e2e7a",
   "metadata": {},
   "outputs": [
    {
     "data": {
      "text/plain": [
       "68.0"
      ]
     },
     "execution_count": 6,
     "metadata": {},
     "output_type": "execute_result"
    }
   ],
   "source": [
    "test_score_mean = sum(test_score)/(len(test_score))\n",
    "test_score_mean"
   ]
  },
  {
   "cell_type": "markdown",
   "id": "4276be19",
   "metadata": {},
   "source": [
    "let's verify with built-in functions:"
   ]
  },
  {
   "cell_type": "code",
   "execution_count": 7,
   "id": "0ae27837",
   "metadata": {},
   "outputs": [
    {
     "data": {
      "text/plain": [
       "(12.5, 68.0)"
      ]
     },
     "execution_count": 7,
     "metadata": {},
     "output_type": "execute_result"
    }
   ],
   "source": [
    "hours_spent.mean(), test_score.mean()"
   ]
  },
  {
   "cell_type": "markdown",
   "id": "b8bb2900",
   "metadata": {},
   "source": [
    "let's calculate the standard deviations:"
   ]
  },
  {
   "cell_type": "code",
   "execution_count": 8,
   "id": "9b2c2261",
   "metadata": {},
   "outputs": [
    {
     "data": {
      "text/plain": [
       "8.28854631404084"
      ]
     },
     "execution_count": 8,
     "metadata": {},
     "output_type": "execute_result"
    }
   ],
   "source": [
    "hours_spent_std = (sum((hours_spent - hours_spent_mean) ** 2) /(len(hours_spent)-1)) ** 0.5\n",
    "hours_spent_std"
   ]
  },
  {
   "cell_type": "code",
   "execution_count": 9,
   "id": "331038eb",
   "metadata": {},
   "outputs": [
    {
     "data": {
      "text/plain": [
       "32.91200388915874"
      ]
     },
     "execution_count": 9,
     "metadata": {},
     "output_type": "execute_result"
    }
   ],
   "source": [
    "test_score_std = (sum((test_score - test_score_mean) ** 2) /(len(test_score)-1)) ** 0.5\n",
    "test_score_std"
   ]
  },
  {
   "cell_type": "markdown",
   "id": "5c2aa1b4",
   "metadata": {},
   "source": [
    "let's verify with built-in functions:"
   ]
  },
  {
   "cell_type": "code",
   "execution_count": 10,
   "id": "76b2949e",
   "metadata": {},
   "outputs": [
    {
     "data": {
      "text/plain": [
       "(8.28854631404084, 32.91200388915874)"
      ]
     },
     "execution_count": 10,
     "metadata": {},
     "output_type": "execute_result"
    }
   ],
   "source": [
    "hours_spent.std(), test_score.std()"
   ]
  },
  {
   "cell_type": "code",
   "execution_count": 11,
   "id": "80e6be84",
   "metadata": {},
   "outputs": [
    {
     "data": {
      "text/html": [
       "<div>\n",
       "<style scoped>\n",
       "    .dataframe tbody tr th:only-of-type {\n",
       "        vertical-align: middle;\n",
       "    }\n",
       "\n",
       "    .dataframe tbody tr th {\n",
       "        vertical-align: top;\n",
       "    }\n",
       "\n",
       "    .dataframe thead th {\n",
       "        text-align: right;\n",
       "    }\n",
       "</style>\n",
       "<table border=\"1\" class=\"dataframe\">\n",
       "  <thead>\n",
       "    <tr style=\"text-align: right;\">\n",
       "      <th></th>\n",
       "      <th>student_name</th>\n",
       "      <th>x</th>\n",
       "      <th>y</th>\n",
       "      <th>x - x_mean</th>\n",
       "      <th>y - y_mean</th>\n",
       "      <th>(x - x_mean)(y - y_mean)</th>\n",
       "    </tr>\n",
       "  </thead>\n",
       "  <tbody>\n",
       "    <tr>\n",
       "      <th>0</th>\n",
       "      <td>John</td>\n",
       "      <td>13</td>\n",
       "      <td>53</td>\n",
       "      <td>0.5</td>\n",
       "      <td>-15.0</td>\n",
       "      <td>-7.5</td>\n",
       "    </tr>\n",
       "    <tr>\n",
       "      <th>1</th>\n",
       "      <td>Allie</td>\n",
       "      <td>15</td>\n",
       "      <td>69</td>\n",
       "      <td>2.5</td>\n",
       "      <td>1.0</td>\n",
       "      <td>2.5</td>\n",
       "    </tr>\n",
       "    <tr>\n",
       "      <th>2</th>\n",
       "      <td>Mark</td>\n",
       "      <td>7</td>\n",
       "      <td>92</td>\n",
       "      <td>-5.5</td>\n",
       "      <td>24.0</td>\n",
       "      <td>-132.0</td>\n",
       "    </tr>\n",
       "    <tr>\n",
       "      <th>3</th>\n",
       "      <td>Samantha</td>\n",
       "      <td>3</td>\n",
       "      <td>10</td>\n",
       "      <td>-9.5</td>\n",
       "      <td>-58.0</td>\n",
       "      <td>551.0</td>\n",
       "    </tr>\n",
       "    <tr>\n",
       "      <th>4</th>\n",
       "      <td>Jessica</td>\n",
       "      <td>10</td>\n",
       "      <td>85</td>\n",
       "      <td>-2.5</td>\n",
       "      <td>17.0</td>\n",
       "      <td>-42.5</td>\n",
       "    </tr>\n",
       "    <tr>\n",
       "      <th>5</th>\n",
       "      <td>Joseph</td>\n",
       "      <td>27</td>\n",
       "      <td>99</td>\n",
       "      <td>14.5</td>\n",
       "      <td>31.0</td>\n",
       "      <td>449.5</td>\n",
       "    </tr>\n",
       "  </tbody>\n",
       "</table>\n",
       "</div>"
      ],
      "text/plain": [
       "  student_name   x   y  x - x_mean  y - y_mean  (x - x_mean)(y - y_mean)\n",
       "0         John  13  53         0.5       -15.0                      -7.5\n",
       "1        Allie  15  69         2.5         1.0                       2.5\n",
       "2         Mark   7  92        -5.5        24.0                    -132.0\n",
       "3     Samantha   3  10        -9.5       -58.0                     551.0\n",
       "4      Jessica  10  85        -2.5        17.0                     -42.5\n",
       "5       Joseph  27  99        14.5        31.0                     449.5"
      ]
     },
     "execution_count": 11,
     "metadata": {},
     "output_type": "execute_result"
    }
   ],
   "source": [
    "pd.DataFrame({\n",
    "    'student_name': student_name,\n",
    "    'x': hours_spent,\n",
    "    'y': test_score,\n",
    "    'x - x_mean': hours_spent - hours_spent_mean,\n",
    "    'y - y_mean': test_score - test_score_mean,\n",
    "    '(x - x_mean)(y - y_mean)': (hours_spent - hours_spent_mean) * (test_score - test_score_mean)  \n",
    "})"
   ]
  },
  {
   "cell_type": "markdown",
   "id": "b0606787",
   "metadata": {},
   "source": [
    "let's calculate the right part of the formula:"
   ]
  },
  {
   "cell_type": "markdown",
   "id": "3c583956",
   "metadata": {},
   "source": [
    "$$\\sum(x_i-\\overline{x})(y_i-\\overline{y})$$"
   ]
  },
  {
   "cell_type": "code",
   "execution_count": 12,
   "id": "8af94b2d",
   "metadata": {},
   "outputs": [
    {
     "data": {
      "text/plain": [
       "821.0"
      ]
     },
     "execution_count": 12,
     "metadata": {},
     "output_type": "execute_result"
    }
   ],
   "source": [
    "right_part = sum((hours_spent - hours_spent_mean) * (test_score - test_score_mean))\n",
    "right_part"
   ]
  },
  {
   "cell_type": "markdown",
   "id": "1fd5b79c",
   "metadata": {},
   "source": [
    "and let's calculate the correlation (r):"
   ]
  },
  {
   "cell_type": "code",
   "execution_count": 13,
   "id": "56229a82",
   "metadata": {},
   "outputs": [],
   "source": [
    "n = len(hours_spent)"
   ]
  },
  {
   "cell_type": "code",
   "execution_count": 14,
   "id": "e38670f6",
   "metadata": {},
   "outputs": [
    {
     "data": {
      "text/plain": [
       "0.6019223349693679"
      ]
     },
     "execution_count": 14,
     "metadata": {},
     "output_type": "execute_result"
    }
   ],
   "source": [
    "r = 1/((n - 1) * hours_spent_std * test_score_std) * right_part\n",
    "r"
   ]
  },
  {
   "cell_type": "markdown",
   "id": "7a56e41a",
   "metadata": {},
   "source": [
    "let's verify with pearsonr function from scipy.stats:"
   ]
  },
  {
   "cell_type": "code",
   "execution_count": 15,
   "id": "462558a6",
   "metadata": {},
   "outputs": [],
   "source": [
    "from scipy.stats import pearsonr"
   ]
  },
  {
   "cell_type": "code",
   "execution_count": 16,
   "id": "1fff80aa",
   "metadata": {},
   "outputs": [
    {
     "data": {
      "text/plain": [
       "0.6019223349693681"
      ]
     },
     "execution_count": 16,
     "metadata": {},
     "output_type": "execute_result"
    }
   ],
   "source": [
    "corr, _ = pearsonr(hours_spent, test_score)\n",
    "corr"
   ]
  },
  {
   "cell_type": "code",
   "execution_count": null,
   "id": "3c63b25f",
   "metadata": {},
   "outputs": [],
   "source": []
  }
 ],
 "metadata": {
  "kernelspec": {
   "display_name": "Python 3",
   "language": "python",
   "name": "python3"
  },
  "language_info": {
   "codemirror_mode": {
    "name": "ipython",
    "version": 3
   },
   "file_extension": ".py",
   "mimetype": "text/x-python",
   "name": "python",
   "nbconvert_exporter": "python",
   "pygments_lexer": "ipython3",
   "version": "3.8.8"
  }
 },
 "nbformat": 4,
 "nbformat_minor": 5
}
