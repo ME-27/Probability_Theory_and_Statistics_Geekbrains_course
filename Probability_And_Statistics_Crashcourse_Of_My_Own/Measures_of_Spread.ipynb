{
 "cells": [
  {
   "cell_type": "markdown",
   "id": "ceb27d69",
   "metadata": {},
   "source": [
    "# Measures of Spread"
   ]
  },
  {
   "cell_type": "markdown",
   "id": "6e16692d",
   "metadata": {},
   "source": [
    "https://www.youtube.com/watch?v=mk8tOD0t8M0"
   ]
  },
  {
   "cell_type": "markdown",
   "id": "89dd1d8d",
   "metadata": {},
   "source": [
    "## Range"
   ]
  },
  {
   "cell_type": "markdown",
   "id": "318b819f",
   "metadata": {},
   "source": [
    "#### it tells us how much room a distribution takes"
   ]
  },
  {
   "cell_type": "markdown",
   "id": "9f775ee9",
   "metadata": {},
   "source": [
    "### $$range = max - min$$"
   ]
  },
  {
   "cell_type": "markdown",
   "id": "e759fc0d",
   "metadata": {},
   "source": [
    "example:"
   ]
  },
  {
   "cell_type": "markdown",
   "id": "8138fa66",
   "metadata": {},
   "source": [
    "there is given a sample of random people and we measure their heights:"
   ]
  },
  {
   "cell_type": "code",
   "execution_count": 1,
   "id": "bc145f05",
   "metadata": {},
   "outputs": [],
   "source": [
    "heights_of_sample_of_random_people = [154, 139, 154, 192, 180, 140, 154, 155, 192]"
   ]
  },
  {
   "cell_type": "code",
   "execution_count": 2,
   "id": "46d74320",
   "metadata": {},
   "outputs": [
    {
     "data": {
      "text/plain": [
       "[139, 140, 154, 154, 154, 155, 180, 192, 192]"
      ]
     },
     "execution_count": 2,
     "metadata": {},
     "output_type": "execute_result"
    }
   ],
   "source": [
    "heights_of_sample_of_random_people.sort()\n",
    "heights_of_sample_of_random_people"
   ]
  },
  {
   "cell_type": "code",
   "execution_count": 3,
   "id": "1af083a8",
   "metadata": {},
   "outputs": [
    {
     "data": {
      "text/plain": [
       "53"
      ]
     },
     "execution_count": 3,
     "metadata": {},
     "output_type": "execute_result"
    }
   ],
   "source": [
    "range_ = max(heights_of_sample_of_random_people) - min(heights_of_sample_of_random_people)\n",
    "range_"
   ]
  },
  {
   "cell_type": "markdown",
   "id": "07c479ee",
   "metadata": {},
   "source": [
    "## Standard Deviation"
   ]
  },
  {
   "cell_type": "markdown",
   "id": "a9d48fa2",
   "metadata": {},
   "source": [
    "#### indicates how close the values in a dataset are to the mean"
   ]
  },
  {
   "cell_type": "markdown",
   "id": "1c2d4ab5",
   "metadata": {},
   "source": [
    "### $$\\sigma=s=\\sqrt{\\frac{\\sum (x_i-\\overline{x})^2}{n-1}}$$"
   ]
  },
  {
   "cell_type": "markdown",
   "id": "91aafac2",
   "metadata": {},
   "source": [
    "example:"
   ]
  },
  {
   "cell_type": "markdown",
   "id": "f96013a0",
   "metadata": {},
   "source": [
    "let's compute the standard deviation for the following dataset:"
   ]
  },
  {
   "cell_type": "code",
   "execution_count": 4,
   "id": "34010b51",
   "metadata": {},
   "outputs": [],
   "source": [
    "x_i = [10, 12, 16, 19, 20]"
   ]
  },
  {
   "cell_type": "code",
   "execution_count": 5,
   "id": "2f50c4df",
   "metadata": {},
   "outputs": [],
   "source": [
    "import pandas as pd"
   ]
  },
  {
   "cell_type": "code",
   "execution_count": 6,
   "id": "4857ccde",
   "metadata": {},
   "outputs": [],
   "source": [
    "x_i = pd.Series(x_i)"
   ]
  },
  {
   "cell_type": "markdown",
   "id": "391aac00",
   "metadata": {},
   "source": [
    "the mean of the dataset:"
   ]
  },
  {
   "cell_type": "code",
   "execution_count": 7,
   "id": "dc85ec90",
   "metadata": {},
   "outputs": [
    {
     "data": {
      "text/plain": [
       "15.4"
      ]
     },
     "execution_count": 7,
     "metadata": {},
     "output_type": "execute_result"
    }
   ],
   "source": [
    "x_i_mean = x_i.mean()\n",
    "x_i_mean"
   ]
  },
  {
   "cell_type": "code",
   "execution_count": 8,
   "id": "a63ab025",
   "metadata": {},
   "outputs": [
    {
     "data": {
      "text/plain": [
       "0   -5.4\n",
       "1   -3.4\n",
       "2    0.6\n",
       "3    3.6\n",
       "4    4.6\n",
       "dtype: float64"
      ]
     },
     "execution_count": 8,
     "metadata": {},
     "output_type": "execute_result"
    }
   ],
   "source": [
    "x_i_and_x_mean_difference = x_i - x_i_mean\n",
    "x_i_and_x_mean_difference"
   ]
  },
  {
   "cell_type": "code",
   "execution_count": 9,
   "id": "4fa1ff6c",
   "metadata": {},
   "outputs": [
    {
     "data": {
      "text/plain": [
       "0    29.16\n",
       "1    11.56\n",
       "2     0.36\n",
       "3    12.96\n",
       "4    21.16\n",
       "dtype: float64"
      ]
     },
     "execution_count": 9,
     "metadata": {},
     "output_type": "execute_result"
    }
   ],
   "source": [
    "x_i_and_x_mean_difference_squared = x_i_and_x_mean_difference ** 2\n",
    "x_i_and_x_mean_difference_squared"
   ]
  },
  {
   "cell_type": "markdown",
   "id": "cc91994d",
   "metadata": {},
   "source": [
    "let's illustrate our findings:"
   ]
  },
  {
   "cell_type": "code",
   "execution_count": 10,
   "id": "03cfd5ec",
   "metadata": {},
   "outputs": [
    {
     "data": {
      "text/html": [
       "<div>\n",
       "<style scoped>\n",
       "    .dataframe tbody tr th:only-of-type {\n",
       "        vertical-align: middle;\n",
       "    }\n",
       "\n",
       "    .dataframe tbody tr th {\n",
       "        vertical-align: top;\n",
       "    }\n",
       "\n",
       "    .dataframe thead th {\n",
       "        text-align: right;\n",
       "    }\n",
       "</style>\n",
       "<table border=\"1\" class=\"dataframe\">\n",
       "  <thead>\n",
       "    <tr style=\"text-align: right;\">\n",
       "      <th></th>\n",
       "      <th>x_i</th>\n",
       "      <th>x_i - x_mean</th>\n",
       "      <th>(x_i - x_mean)^2</th>\n",
       "    </tr>\n",
       "  </thead>\n",
       "  <tbody>\n",
       "    <tr>\n",
       "      <th>0</th>\n",
       "      <td>10</td>\n",
       "      <td>-5.4</td>\n",
       "      <td>29.16</td>\n",
       "    </tr>\n",
       "    <tr>\n",
       "      <th>1</th>\n",
       "      <td>12</td>\n",
       "      <td>-3.4</td>\n",
       "      <td>11.56</td>\n",
       "    </tr>\n",
       "    <tr>\n",
       "      <th>2</th>\n",
       "      <td>16</td>\n",
       "      <td>0.6</td>\n",
       "      <td>0.36</td>\n",
       "    </tr>\n",
       "    <tr>\n",
       "      <th>3</th>\n",
       "      <td>19</td>\n",
       "      <td>3.6</td>\n",
       "      <td>12.96</td>\n",
       "    </tr>\n",
       "    <tr>\n",
       "      <th>4</th>\n",
       "      <td>20</td>\n",
       "      <td>4.6</td>\n",
       "      <td>21.16</td>\n",
       "    </tr>\n",
       "  </tbody>\n",
       "</table>\n",
       "</div>"
      ],
      "text/plain": [
       "   x_i  x_i - x_mean  (x_i - x_mean)^2\n",
       "0   10          -5.4             29.16\n",
       "1   12          -3.4             11.56\n",
       "2   16           0.6              0.36\n",
       "3   19           3.6             12.96\n",
       "4   20           4.6             21.16"
      ]
     },
     "execution_count": 10,
     "metadata": {},
     "output_type": "execute_result"
    }
   ],
   "source": [
    "pd.DataFrame({\n",
    "    'x_i': x_i,\n",
    "    'x_i - x_mean': x_i_and_x_mean_difference,\n",
    "    '(x_i - x_mean)^2': x_i_and_x_mean_difference_squared\n",
    "})"
   ]
  },
  {
   "cell_type": "markdown",
   "id": "b9809a85",
   "metadata": {},
   "source": [
    "let's compute the standard deviation:"
   ]
  },
  {
   "cell_type": "code",
   "execution_count": 11,
   "id": "72924376",
   "metadata": {},
   "outputs": [
    {
     "data": {
      "text/plain": [
       "4.33589667773576"
      ]
     },
     "execution_count": 11,
     "metadata": {},
     "output_type": "execute_result"
    }
   ],
   "source": [
    "std = (x_i_and_x_mean_difference_squared.sum() / (len(x_i) - 1)) ** 0.5\n",
    "std"
   ]
  },
  {
   "cell_type": "markdown",
   "id": "5e3345f2",
   "metadata": {},
   "source": [
    "or we can use the built-in function:"
   ]
  },
  {
   "cell_type": "code",
   "execution_count": 12,
   "id": "3879de9b",
   "metadata": {},
   "outputs": [
    {
     "data": {
      "text/plain": [
       "4.33589667773576"
      ]
     },
     "execution_count": 12,
     "metadata": {},
     "output_type": "execute_result"
    }
   ],
   "source": [
    "x_i.std()"
   ]
  },
  {
   "cell_type": "markdown",
   "id": "6bcff5c3",
   "metadata": {},
   "source": [
    "## Varience"
   ]
  },
  {
   "cell_type": "markdown",
   "id": "932506a5",
   "metadata": {},
   "source": [
    "_вЭриенс_"
   ]
  },
  {
   "cell_type": "markdown",
   "id": "f7ce6766",
   "metadata": {},
   "source": [
    "### $$\\sigma^2=s^2=\\frac{\\sum (x_i-\\overline{x})^2}{n-1}$$"
   ]
  },
  {
   "cell_type": "code",
   "execution_count": 14,
   "id": "6b326b14",
   "metadata": {},
   "outputs": [
    {
     "data": {
      "text/plain": [
       "18.8"
      ]
     },
     "execution_count": 14,
     "metadata": {},
     "output_type": "execute_result"
    }
   ],
   "source": [
    "x_i.std() ** 2"
   ]
  },
  {
   "cell_type": "markdown",
   "id": "431f7c66",
   "metadata": {},
   "source": [
    "or we can use the built-in function:"
   ]
  },
  {
   "cell_type": "code",
   "execution_count": 13,
   "id": "03b1d9f0",
   "metadata": {},
   "outputs": [
    {
     "data": {
      "text/plain": [
       "18.8"
      ]
     },
     "execution_count": 13,
     "metadata": {},
     "output_type": "execute_result"
    }
   ],
   "source": [
    "x_i.var()"
   ]
  }
 ],
 "metadata": {
  "kernelspec": {
   "display_name": "Python 3",
   "language": "python",
   "name": "python3"
  },
  "language_info": {
   "codemirror_mode": {
    "name": "ipython",
    "version": 3
   },
   "file_extension": ".py",
   "mimetype": "text/x-python",
   "name": "python",
   "nbconvert_exporter": "python",
   "pygments_lexer": "ipython3",
   "version": "3.8.8"
  }
 },
 "nbformat": 4,
 "nbformat_minor": 5
}
