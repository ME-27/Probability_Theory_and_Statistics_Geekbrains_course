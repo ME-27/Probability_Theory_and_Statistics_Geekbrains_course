{
 "cells": [
  {
   "cell_type": "markdown",
   "id": "d4df910d",
   "metadata": {},
   "source": [
    "# Regression and R-Squared/R2"
   ]
  },
  {
   "cell_type": "markdown",
   "id": "972b1633",
   "metadata": {},
   "source": [
    "https://www.youtube.com/watch?v=Q-TtIPF0fCU"
   ]
  },
  {
   "cell_type": "markdown",
   "id": "d2ffb177",
   "metadata": {},
   "source": [
    "## $$\\hat y = b_0 +b_1x$$"
   ]
  },
  {
   "cell_type": "markdown",
   "id": "865679cc",
   "metadata": {},
   "source": [
    "where:\n",
    "\n",
    "$\\hat y$ - predicted value of y\n",
    "\n",
    "$b_0$ - y-intercept\n",
    "\n",
    "$b_1$ - slope\n",
    "\n",
    "x - any value of x"
   ]
  },
  {
   "cell_type": "markdown",
   "id": "e7db3593",
   "metadata": {},
   "source": [
    "### $$b_0 = \\overline{y} - b_1\\overline{x}$$"
   ]
  },
  {
   "cell_type": "markdown",
   "id": "96944f0c",
   "metadata": {},
   "source": [
    "### $$b_1 = r\\frac{s_y}{s_x}$$"
   ]
  },
  {
   "cell_type": "markdown",
   "id": "c438d62e",
   "metadata": {},
   "source": [
    "where:\n",
    "\n",
    "s_y - standard deviation of y\n",
    "\n",
    "s_x - standard deviation of x"
   ]
  },
  {
   "cell_type": "code",
   "execution_count": null,
   "id": "586c34b5",
   "metadata": {},
   "outputs": [],
   "source": []
  },
  {
   "cell_type": "markdown",
   "id": "a5d2d7ad",
   "metadata": {},
   "source": [
    "example:"
   ]
  },
  {
   "cell_type": "markdown",
   "id": "9cbabff7",
   "metadata": {},
   "source": [
    "suppose a researcher wants to predict a student's GPA from the amount of time they study each weak"
   ]
  },
  {
   "cell_type": "code",
   "execution_count": 1,
   "id": "1d3d7f21",
   "metadata": {},
   "outputs": [],
   "source": [
    "import numpy as np\n",
    "import pandas as pd\n",
    "from scipy.stats import pearsonr\n",
    "from matplotlib import pyplot as plt"
   ]
  },
  {
   "cell_type": "code",
   "execution_count": 2,
   "id": "d14c03b7",
   "metadata": {},
   "outputs": [],
   "source": [
    "study_time = x_i = pd.Series([1, 2, 3, 5, 6, 8, 10])\n",
    "GPA = y_i = pd.Series([2.0, 1.5, 2.5, 3.5, 3.0, 4.0, 4.5])"
   ]
  },
  {
   "cell_type": "code",
   "execution_count": 3,
   "id": "92154140",
   "metadata": {},
   "outputs": [
    {
     "data": {
      "image/png": "[encoded data removed]",
      "text/plain": [
       "<Figure size 432x288 with 1 Axes>"
      ]
     },
     "metadata": {
      "needs_background": "light"
     },
     "output_type": "display_data"
    }
   ],
   "source": [
    "plt.scatter(x_i, y_i)\n",
    "plt.show()"
   ]
  },
  {
   "cell_type": "code",
   "execution_count": 4,
   "id": "5e7f35ac",
   "metadata": {},
   "outputs": [
    {
     "data": {
      "text/plain": [
       "0.944911182523068"
      ]
     },
     "execution_count": 4,
     "metadata": {},
     "output_type": "execute_result"
    }
   ],
   "source": [
    "r, _ = pearsonr(x_i, y_i)  # correlation\n",
    "r"
   ]
  },
  {
   "cell_type": "code",
   "execution_count": 5,
   "id": "ed735152",
   "metadata": {},
   "outputs": [
    {
     "data": {
      "text/plain": [
       "(1.4375, 0.3125)"
      ]
     },
     "execution_count": 5,
     "metadata": {},
     "output_type": "execute_result"
    }
   ],
   "source": [
    "b1 = r * (y_i.std()/x_i.std())\n",
    "b0 = y_i.mean() - b1 * x_i.mean()\n",
    "\n",
    "b0, b1"
   ]
  },
  {
   "cell_type": "code",
   "execution_count": null,
   "id": "2e161a6f",
   "metadata": {},
   "outputs": [],
   "source": []
  },
  {
   "cell_type": "markdown",
   "id": "6eb3d203",
   "metadata": {},
   "source": [
    "let's verify with sklearn:"
   ]
  },
  {
   "cell_type": "code",
   "execution_count": 6,
   "id": "bbcc7c4a",
   "metadata": {},
   "outputs": [],
   "source": [
    "from sklearn.linear_model import LinearRegression"
   ]
  },
  {
   "cell_type": "code",
   "execution_count": 7,
   "id": "0c3f9559",
   "metadata": {},
   "outputs": [],
   "source": [
    "model = LinearRegression()"
   ]
  },
  {
   "cell_type": "code",
   "execution_count": 8,
   "id": "f19f3597",
   "metadata": {},
   "outputs": [],
   "source": [
    "df = pd.DataFrame({\n",
    "    'x_i': x_i,\n",
    "    'y_i': y_i\n",
    "})"
   ]
  },
  {
   "cell_type": "code",
   "execution_count": 9,
   "id": "b6e16c14",
   "metadata": {},
   "outputs": [
    {
     "data": {
      "text/plain": [
       "LinearRegression()"
      ]
     },
     "execution_count": 9,
     "metadata": {},
     "output_type": "execute_result"
    }
   ],
   "source": [
    "model.fit(df[['x_i']], df['y_i'])"
   ]
  },
  {
   "cell_type": "code",
   "execution_count": 10,
   "id": "56367913",
   "metadata": {},
   "outputs": [
    {
     "data": {
      "text/plain": [
       "(1.4375, array([0.3125]))"
      ]
     },
     "execution_count": 10,
     "metadata": {},
     "output_type": "execute_result"
    }
   ],
   "source": [
    "model.intercept_, model.coef_"
   ]
  },
  {
   "cell_type": "markdown",
   "id": "5bf6f1ae",
   "metadata": {},
   "source": [
    "it matched our calculations!"
   ]
  },
  {
   "cell_type": "code",
   "execution_count": null,
   "id": "e3e7812b",
   "metadata": {},
   "outputs": [],
   "source": []
  },
  {
   "cell_type": "markdown",
   "id": "fa95a08d",
   "metadata": {},
   "source": [
    "let's draw the regression line with b0 and b1 we've got:"
   ]
  },
  {
   "cell_type": "code",
   "execution_count": 11,
   "id": "50b87bc1",
   "metadata": {},
   "outputs": [
    {
     "data": {
      "image/png": "[encoded data removed]",
      "text/plain": [
       "<Figure size 432x288 with 1 Axes>"
      ]
     },
     "metadata": {
      "needs_background": "light"
     },
     "output_type": "display_data"
    }
   ],
   "source": [
    "x = np.linspace(0,10)\n",
    "y = b0 + b1 * x\n",
    "\n",
    "plt.scatter(x_i, y_i)\n",
    "plt.plot(x, y)\n",
    "plt.show()"
   ]
  },
  {
   "cell_type": "code",
   "execution_count": null,
   "id": "8d088976",
   "metadata": {},
   "outputs": [],
   "source": []
  },
  {
   "cell_type": "code",
   "execution_count": null,
   "id": "da8e7326",
   "metadata": {},
   "outputs": [],
   "source": []
  },
  {
   "cell_type": "markdown",
   "id": "182d66d8",
   "metadata": {},
   "source": [
    "# R2 or $r^2$"
   ]
  },
  {
   "cell_type": "markdown",
   "id": "9b799916",
   "metadata": {},
   "source": [
    "#### has values between 0 and 1"
   ]
  },
  {
   "cell_type": "markdown",
   "id": "95e8bd1d",
   "metadata": {},
   "source": [
    "#### is a measure how close each data point fits to the regression line"
   ]
  },
  {
   "cell_type": "markdown",
   "id": "eca65413",
   "metadata": {},
   "source": [
    "#### so, it tells how well the regression line predicts actual values"
   ]
  },
  {
   "cell_type": "code",
   "execution_count": 12,
   "id": "bf875084",
   "metadata": {},
   "outputs": [
    {
     "data": {
      "text/plain": [
       "0.8928571428571428"
      ]
     },
     "execution_count": 12,
     "metadata": {},
     "output_type": "execute_result"
    }
   ],
   "source": [
    "R2 = r ** 2\n",
    "R2"
   ]
  },
  {
   "cell_type": "markdown",
   "id": "e5e778a5",
   "metadata": {},
   "source": [
    "it says that 89% of the variation in GPA is accounted for by its regression on study time"
   ]
  },
  {
   "cell_type": "code",
   "execution_count": null,
   "id": "56afb805",
   "metadata": {},
   "outputs": [],
   "source": []
  }
 ],
 "metadata": {
  "kernelspec": {
   "display_name": "Python 3",
   "language": "python",
   "name": "python3"
  },
  "language_info": {
   "codemirror_mode": {
    "name": "ipython",
    "version": 3
   },
   "file_extension": ".py",
   "mimetype": "text/x-python",
   "name": "python",
   "nbconvert_exporter": "python",
   "pygments_lexer": "ipython3",
   "version": "3.8.8"
  }
 },
 "nbformat": 4,
 "nbformat_minor": 5
}
