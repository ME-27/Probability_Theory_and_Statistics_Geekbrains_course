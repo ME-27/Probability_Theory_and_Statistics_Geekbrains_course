{
 "cells": [
  {
   "cell_type": "markdown",
   "id": "e3c0c7e4",
   "metadata": {},
   "source": [
    "# Hypergeometric Distribution"
   ]
  },
  {
   "cell_type": "markdown",
   "id": "0960e71c",
   "metadata": {},
   "source": [
    "https://www.youtube.com/watch?v=upVJ4YqTlC4&list=PLTNMv857s9WVzutwxaMb0YZKW7hoveGLS&index=5"
   ]
  },
  {
   "cell_type": "code",
   "execution_count": 1,
   "id": "613a40f9",
   "metadata": {},
   "outputs": [],
   "source": [
    "from scipy.stats import hypergeom\n",
    "import matplotlib.pyplot as plt\n",
    "import seaborn as sb\n",
    "\n",
    "import pandas as pd"
   ]
  },
  {
   "cell_type": "code",
   "execution_count": 2,
   "id": "c68f3b40",
   "metadata": {},
   "outputs": [],
   "source": [
    "import warnings\n",
    "warnings.filterwarnings('ignore')"
   ]
  },
  {
   "cell_type": "markdown",
   "id": "8ea2ac11",
   "metadata": {},
   "source": [
    "### Quick Rundown:\n",
    "- discrete distribution\n",
    "- equivalent to the binomial distribution, but without replacement\n",
    "- the probability of success changes with each draw\n",
    "- defined for 3 parameters; N, A, and n:\n",
    "    - N - total population size\n",
    "    - A - total items of interest in population\n",
    "    - n - sample size"
   ]
  },
  {
   "cell_type": "markdown",
   "id": "2236f24b",
   "metadata": {},
   "source": [
    "### Probability Mass Function (PMF):"
   ]
  },
  {
   "cell_type": "markdown",
   "id": "d259ebe0",
   "metadata": {},
   "source": [
    "### $$P(X=x)=\\frac{C_x^{A}C_{n-x}^{N-A}}{C_n^{N}}$$"
   ]
  },
  {
   "cell_type": "markdown",
   "id": "ec1b7b0e",
   "metadata": {},
   "source": [
    "where:"
   ]
  },
  {
   "cell_type": "markdown",
   "id": "d25ad7d3",
   "metadata": {},
   "source": [
    "#### $$C_x^n=\\frac{n!}{x!(n-x)!}$$"
   ]
  },
  {
   "cell_type": "markdown",
   "id": "931e3e39",
   "metadata": {},
   "source": [
    "### Expected Value:"
   ]
  },
  {
   "cell_type": "markdown",
   "id": "809d2218",
   "metadata": {},
   "source": [
    "### $$E(X)=n\\frac{A}{N}$$"
   ]
  },
  {
   "cell_type": "markdown",
   "id": "82f7e114",
   "metadata": {},
   "source": [
    "### Variance:"
   ]
  },
  {
   "cell_type": "markdown",
   "id": "744d6784",
   "metadata": {},
   "source": [
    "### $$V(X)=n\\frac{A}{N}\\frac{N-A}{N}\\frac{N-n}{N-1}$$"
   ]
  },
  {
   "cell_type": "code",
   "execution_count": null,
   "id": "b9bc9c7f",
   "metadata": {},
   "outputs": [],
   "source": []
  },
  {
   "cell_type": "markdown",
   "id": "a2186ee5",
   "metadata": {},
   "source": [
    "### example 1:"
   ]
  },
  {
   "cell_type": "markdown",
   "id": "b720f5b3",
   "metadata": {},
   "source": [
    "let's visualize hypergeometric distribution of number of spades in a 5-card poker hand"
   ]
  },
  {
   "cell_type": "code",
   "execution_count": 3,
   "id": "b86782df",
   "metadata": {},
   "outputs": [],
   "source": [
    "from scipy.special import comb  # just combinations function"
   ]
  },
  {
   "cell_type": "code",
   "execution_count": 4,
   "id": "806f6212",
   "metadata": {},
   "outputs": [],
   "source": [
    "N = 52  # total number of cards in a deck\n",
    "A = 13  # total number of spades in a deck\n",
    "n = 5  # number of slots in a hand"
   ]
  },
  {
   "cell_type": "markdown",
   "id": "236d4e3d",
   "metadata": {},
   "source": [
    "here we have probability of having 2 spades in a hand:"
   ]
  },
  {
   "cell_type": "code",
   "execution_count": 5,
   "id": "9293dc2d",
   "metadata": {},
   "outputs": [
    {
     "data": {
      "text/plain": [
       "0.2742797118847539"
      ]
     },
     "execution_count": 5,
     "metadata": {},
     "output_type": "execute_result"
    }
   ],
   "source": [
    "x = 2\n",
    "(comb(A, x) * comb(N-A, n-x)) / comb(N, n)"
   ]
  },
  {
   "cell_type": "markdown",
   "id": "6d72381a",
   "metadata": {},
   "source": [
    "or we can use built-in __probability mass function (PMF)__:"
   ]
  },
  {
   "cell_type": "code",
   "execution_count": 6,
   "id": "4f6f2364",
   "metadata": {},
   "outputs": [
    {
     "data": {
      "text/plain": [
       "0.27427971188475375"
      ]
     },
     "execution_count": 6,
     "metadata": {},
     "output_type": "execute_result"
    }
   ],
   "source": [
    "hypergeom(M=N, n=A, N=n).pmf(2)"
   ]
  },
  {
   "cell_type": "markdown",
   "id": "bbdfb7fc",
   "metadata": {},
   "source": [
    "let's calculate probabilities of all possible variations:"
   ]
  },
  {
   "cell_type": "code",
   "execution_count": 7,
   "id": "612a975d",
   "metadata": {},
   "outputs": [
    {
     "data": {
      "text/plain": [
       "[0.22153361344537814,\n",
       " 0.41141956782713085,\n",
       " 0.2742797118847539,\n",
       " 0.08154261704681873,\n",
       " 0.010729291716686675,\n",
       " 0.0004951980792316927]"
      ]
     },
     "execution_count": 7,
     "metadata": {},
     "output_type": "execute_result"
    }
   ],
   "source": [
    "probabilities_of_spades_in_5_card_hand =\\\n",
    "    [(comb(A, x) * comb(N-A, n-x)) / comb(N, n) for x in [0, 1, 2, 3, 4, 5]]\n",
    "probabilities_of_spades_in_5_card_hand"
   ]
  },
  {
   "cell_type": "markdown",
   "id": "fa15a864",
   "metadata": {},
   "source": [
    "or we can use built-in PMF function:"
   ]
  },
  {
   "cell_type": "code",
   "execution_count": 8,
   "id": "8910889b",
   "metadata": {},
   "outputs": [
    {
     "data": {
      "text/plain": [
       "array([0.22153361, 0.41141957, 0.27427971, 0.08154262, 0.01072929,\n",
       "       0.0004952 ])"
      ]
     },
     "execution_count": 8,
     "metadata": {},
     "output_type": "execute_result"
    }
   ],
   "source": [
    "probabilities_of_spades_in_5_card_hand = hypergeom(M=N, n=A, N=n).pmf([0, 1, 2, 3, 4, 5])\n",
    "probabilities_of_spades_in_5_card_hand"
   ]
  },
  {
   "cell_type": "markdown",
   "id": "b5f37ed0",
   "metadata": {},
   "source": [
    "### let's visualize the hypergeometric distribution of those probabilities:"
   ]
  },
  {
   "cell_type": "code",
   "execution_count": 9,
   "id": "147950b8",
   "metadata": {},
   "outputs": [
    {
     "data": {
      "image/png": "[encoded data removed]",
      "text/plain": [
       "<Figure size 432x288 with 1 Axes>"
      ]
     },
     "metadata": {
      "needs_background": "light"
     },
     "output_type": "display_data"
    }
   ],
   "source": [
    "hypergeometric_distribution_of_cards = pd.Series(probabilities_of_spades_in_5_card_hand, index=[0, 1, 2, 3, 4, 5])\n",
    "\n",
    "hypergeometric_distribution_of_cards.plot(kind=\"bar\")\n",
    "plt.title('hypergeometric distribution of spades in a 5-card hand')\n",
    "plt.show()"
   ]
  },
  {
   "cell_type": "markdown",
   "id": "80c9f8bc",
   "metadata": {},
   "source": [
    "let's calculate of having from 0 to 2 spades in a hand:"
   ]
  },
  {
   "cell_type": "code",
   "execution_count": 10,
   "id": "f1bf6004",
   "metadata": {},
   "outputs": [
    {
     "data": {
      "text/plain": [
       "0.9072328931572632"
      ]
     },
     "execution_count": 10,
     "metadata": {},
     "output_type": "execute_result"
    }
   ],
   "source": [
    "hypergeom(M=N, n=A, N=n).pmf(0) + hypergeom(M=N, n=A, N=n).pmf(1) + hypergeom(M=N, n=A, N=n).pmf(2)"
   ]
  },
  {
   "cell_type": "markdown",
   "id": "73fbfa14",
   "metadata": {},
   "source": [
    "or we can use built-in __cumulative distribution function (CDF)__:"
   ]
  },
  {
   "cell_type": "code",
   "execution_count": 11,
   "id": "8852f0b0",
   "metadata": {},
   "outputs": [
    {
     "data": {
      "text/plain": [
       "0.9072328931572632"
      ]
     },
     "execution_count": 11,
     "metadata": {},
     "output_type": "execute_result"
    }
   ],
   "source": [
    "hypergeom(M=N, n=A, N=n).cdf(2)"
   ]
  },
  {
   "cell_type": "code",
   "execution_count": null,
   "id": "89edc058",
   "metadata": {},
   "outputs": [],
   "source": []
  },
  {
   "cell_type": "markdown",
   "id": "0774c295",
   "metadata": {},
   "source": [
    "### example 2:"
   ]
  },
  {
   "cell_type": "markdown",
   "id": "b63403dd",
   "metadata": {},
   "source": [
    "John is playing Texas Holdem and he has 2 diamonds in his hand. What is the probability that he scores a \"flush\"?"
   ]
  },
  {
   "cell_type": "markdown",
   "id": "a782229c",
   "metadata": {},
   "source": [
    "John needs at least 3 more diamonds from the five common cards."
   ]
  },
  {
   "cell_type": "code",
   "execution_count": 12,
   "id": "92b7933f",
   "metadata": {},
   "outputs": [],
   "source": [
    "N = 50  # total number of cards in a deck - 2 he already has\n",
    "A = 11  # total number of diamonds in a deck - 2 he already has\n",
    "n = 5  # number of slots in a hand\n",
    "x = [3, 4, 5]  # required amout of diamonds from the five common cards"
   ]
  },
  {
   "cell_type": "markdown",
   "id": "3dc0a8e1",
   "metadata": {},
   "source": [
    "let's get the probabilities of having 3, 4 and 5 diamonds from the five common cards:"
   ]
  },
  {
   "cell_type": "code",
   "execution_count": 13,
   "id": "4474d5c4",
   "metadata": {},
   "outputs": [
    {
     "data": {
      "text/plain": [
       "array([0.05770592, 0.00607431, 0.00021805])"
      ]
     },
     "execution_count": 13,
     "metadata": {},
     "output_type": "execute_result"
    }
   ],
   "source": [
    "hypergeom(M=N, n=A, N=n).pmf(x)"
   ]
  },
  {
   "cell_type": "markdown",
   "id": "99fb7a16",
   "metadata": {},
   "source": [
    "their sum will be the probability that he scores a \"flush\":"
   ]
  },
  {
   "cell_type": "code",
   "execution_count": 14,
   "id": "65834cc2",
   "metadata": {},
   "outputs": [
    {
     "data": {
      "text/plain": [
       "0.06399828201400831"
      ]
     },
     "execution_count": 14,
     "metadata": {},
     "output_type": "execute_result"
    }
   ],
   "source": [
    "sum(hypergeom(M=N, n=A, N=n).pmf(x))"
   ]
  },
  {
   "cell_type": "markdown",
   "id": "f4d17529",
   "metadata": {},
   "source": [
    "or we can find cumulative probability of having 2 and less diamonds in a hand and subtract it from 1:"
   ]
  },
  {
   "cell_type": "code",
   "execution_count": 15,
   "id": "13792483",
   "metadata": {},
   "outputs": [
    {
     "data": {
      "text/plain": [
       "0.06399828201400604"
      ]
     },
     "execution_count": 15,
     "metadata": {},
     "output_type": "execute_result"
    }
   ],
   "source": [
    "1 - hypergeom(M=N, n=A, N=n).cdf(2)"
   ]
  },
  {
   "cell_type": "markdown",
   "id": "0bd7f372",
   "metadata": {},
   "source": [
    "or we can use survival function:"
   ]
  },
  {
   "cell_type": "code",
   "execution_count": 16,
   "id": "81159c4c",
   "metadata": {},
   "outputs": [
    {
     "data": {
      "text/plain": [
       "0.06399828201400831"
      ]
     },
     "execution_count": 16,
     "metadata": {},
     "output_type": "execute_result"
    }
   ],
   "source": [
    "hypergeom(M=N, n=A, N=n).sf(2)"
   ]
  },
  {
   "cell_type": "code",
   "execution_count": null,
   "id": "da8f9fbc",
   "metadata": {},
   "outputs": [],
   "source": []
  },
  {
   "cell_type": "markdown",
   "id": "9e089891",
   "metadata": {},
   "source": [
    "#### BUT! John may get a \"flush\" if all the five common cards are of the same suit!!!"
   ]
  },
  {
   "cell_type": "code",
   "execution_count": 17,
   "id": "800d8401",
   "metadata": {},
   "outputs": [],
   "source": [
    "N = 50  # total number of cards in a deck - 2 he already has\n",
    "A = 13  # total number of diamonds in a deck - 2 he already has\n",
    "n = 5  # number of slots in a hand\n",
    "x = 5  # required amout of diamonds from the five common cards"
   ]
  },
  {
   "cell_type": "markdown",
   "id": "27e916fb",
   "metadata": {},
   "source": [
    "probability of a \"flush\" of spades:"
   ]
  },
  {
   "cell_type": "code",
   "execution_count": 18,
   "id": "91073169",
   "metadata": {},
   "outputs": [
    {
     "data": {
      "text/plain": [
       "0.0006074307613887378"
      ]
     },
     "execution_count": 18,
     "metadata": {},
     "output_type": "execute_result"
    }
   ],
   "source": [
    "hypergeom(M=N, n=A, N=n).pmf(x)"
   ]
  },
  {
   "cell_type": "markdown",
   "id": "c9093c11",
   "metadata": {},
   "source": [
    "probability of a \"flush\" of spades or clubs or hearts:"
   ]
  },
  {
   "cell_type": "code",
   "execution_count": 19,
   "id": "68dfd818",
   "metadata": {},
   "outputs": [
    {
     "data": {
      "text/plain": [
       "0.0018222922841662134"
      ]
     },
     "execution_count": 19,
     "metadata": {},
     "output_type": "execute_result"
    }
   ],
   "source": [
    "hypergeom(M=N, n=A, N=n).pmf(x) * 3"
   ]
  },
  {
   "cell_type": "code",
   "execution_count": null,
   "id": "f433c6d8",
   "metadata": {},
   "outputs": [],
   "source": []
  },
  {
   "cell_type": "code",
   "execution_count": 20,
   "id": "9d63f578",
   "metadata": {},
   "outputs": [
    {
     "data": {
      "text/plain": [
       "0.06582057429817452"
      ]
     },
     "execution_count": 20,
     "metadata": {},
     "output_type": "execute_result"
    }
   ],
   "source": [
    "total_probaility_of_a_flush = hypergeom(M=50, n=11, N=5).sf(2) + hypergeom(M=50, n=13, N=5).pmf(5) * 3\n",
    "total_probaility_of_a_flush"
   ]
  },
  {
   "cell_type": "code",
   "execution_count": null,
   "id": "41628b3e",
   "metadata": {},
   "outputs": [],
   "source": []
  }
 ],
 "metadata": {
  "kernelspec": {
   "display_name": "Python 3",
   "language": "python",
   "name": "python3"
  },
  "language_info": {
   "codemirror_mode": {
    "name": "ipython",
    "version": 3
   },
   "file_extension": ".py",
   "mimetype": "text/x-python",
   "name": "python",
   "nbconvert_exporter": "python",
   "pygments_lexer": "ipython3",
   "version": "3.8.8"
  }
 },
 "nbformat": 4,
 "nbformat_minor": 5
}
