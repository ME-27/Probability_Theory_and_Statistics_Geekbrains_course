{
 "cells": [
  {
   "cell_type": "markdown",
   "id": "b238489a",
   "metadata": {},
   "source": [
    "# Quartiles, Boxplots and Outliers"
   ]
  },
  {
   "cell_type": "code",
   "execution_count": 1,
   "id": "b8a0fdb9",
   "metadata": {},
   "outputs": [],
   "source": [
    "import numpy as np\n",
    "import pandas as pd\n",
    "\n",
    "import matplotlib.pyplot as plt\n",
    "import seaborn as sns"
   ]
  },
  {
   "cell_type": "code",
   "execution_count": 2,
   "id": "d39d44e3",
   "metadata": {},
   "outputs": [],
   "source": [
    "import warnings\n",
    "warnings.simplefilter(action=\"ignore\", category=FutureWarning)"
   ]
  },
  {
   "cell_type": "code",
   "execution_count": 3,
   "id": "19d7d91f",
   "metadata": {},
   "outputs": [],
   "source": [
    "values = [10, 20, 80, 90, 100, 102, 110, 111, 120, 121, 122, 150, 200]"
   ]
  },
  {
   "cell_type": "markdown",
   "id": "9b115013",
   "metadata": {},
   "source": [
    "let's find min, Q1, Q2/median, Q3 and max:"
   ]
  },
  {
   "cell_type": "code",
   "execution_count": 4,
   "id": "02c1aabd",
   "metadata": {},
   "outputs": [
    {
     "name": "stdout",
     "output_type": "stream",
     "text": [
      "[ 10.  90. 110. 121. 200.]\n"
     ]
    }
   ],
   "source": [
    "quartiles = np.quantile(values, [0, 0.25, 0.5, 0.75, 1])\n",
    "\n",
    "print(quartiles)"
   ]
  },
  {
   "cell_type": "markdown",
   "id": "91fa3c61",
   "metadata": {},
   "source": [
    "### Interquartile range refers to the middle 50% of a dataset"
   ]
  },
  {
   "cell_type": "markdown",
   "id": "f8f2181d",
   "metadata": {},
   "source": [
    "### IQR = Q3 - Q1"
   ]
  },
  {
   "cell_type": "markdown",
   "id": "b02b8f59",
   "metadata": {},
   "source": [
    "### a data value is considered to be an outlier if:\n",
    "    \n",
    "- data value < Q1 - 1.5(IQR)\n",
    "- data value > Q3 + 1.5(IQR)"
   ]
  },
  {
   "cell_type": "code",
   "execution_count": 5,
   "id": "80f0b081",
   "metadata": {},
   "outputs": [
    {
     "data": {
      "image/png": "[encoded data removed]",
      "text/plain": [
       "<Figure size 720x216 with 1 Axes>"
      ]
     },
     "metadata": {
      "needs_background": "light"
     },
     "output_type": "display_data"
    }
   ],
   "source": [
    "plt.figure(figsize=(10, 3))\n",
    "\n",
    "sns.boxplot(values, whis=1.5)  # 'whis=1.5' means 1.5*IQR and establishes boundaries for values to be considered as outliers\n",
    "\n",
    "plt.xlabel('values')\n",
    "plt.show()"
   ]
  },
  {
   "cell_type": "code",
   "execution_count": null,
   "id": "41bdea55",
   "metadata": {},
   "outputs": [],
   "source": []
  }
 ],
 "metadata": {
  "kernelspec": {
   "display_name": "Python 3",
   "language": "python",
   "name": "python3"
  },
  "language_info": {
   "codemirror_mode": {
    "name": "ipython",
    "version": 3
   },
   "file_extension": ".py",
   "mimetype": "text/x-python",
   "name": "python",
   "nbconvert_exporter": "python",
   "pygments_lexer": "ipython3",
   "version": "3.8.8"
  }
 },
 "nbformat": 4,
 "nbformat_minor": 5
}
