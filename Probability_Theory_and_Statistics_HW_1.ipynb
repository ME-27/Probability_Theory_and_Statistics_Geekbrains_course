{
 "cells": [
  {
   "cell_type": "markdown",
   "id": "d18eb15d",
   "metadata": {},
   "source": [
    "# Домашнее задание № 1"
   ]
  },
  {
   "cell_type": "markdown",
   "id": "aa42a846",
   "metadata": {},
   "source": [
    "## по дисциплине: Теория вероятностей и математическая статистика"
   ]
  },
  {
   "cell_type": "markdown",
   "id": "b3af4d1c",
   "metadata": {},
   "source": [
    "## Тема: Случайные события. Условная вероятность. Формула Байеса.  Независимые испытания"
   ]
  },
  {
   "cell_type": "markdown",
   "id": "9eef51b5",
   "metadata": {},
   "source": [
    "### выполнил: Евгений Кириллов"
   ]
  },
  {
   "cell_type": "code",
   "execution_count": null,
   "id": "623eba55",
   "metadata": {},
   "outputs": [],
   "source": []
  },
  {
   "cell_type": "code",
   "execution_count": 1,
   "id": "c5504e5f",
   "metadata": {},
   "outputs": [],
   "source": [
    "import numpy as np"
   ]
  },
  {
   "cell_type": "markdown",
   "id": "a76e39f2",
   "metadata": {},
   "source": [
    "__Задача 1__\n",
    "\n",
    "Группа студентов изучает 10 различных дисциплин. Сколькими способами можно составить расписание на понедельник, если в этот день должно быть 4 разных занятия?"
   ]
  },
  {
   "cell_type": "markdown",
   "id": "5b1c1f21",
   "metadata": {},
   "source": [
    "воспользуемся формулой размещений:"
   ]
  },
  {
   "cell_type": "markdown",
   "id": "898863ee",
   "metadata": {},
   "source": [
    "### $$A_n^k = \\frac{n!}{(n - k)!}$$"
   ]
  },
  {
   "cell_type": "code",
   "execution_count": 2,
   "id": "e9ef9570",
   "metadata": {},
   "outputs": [],
   "source": [
    "def arrangements(n, k):\n",
    "    return np.math.factorial(n) // np.math.factorial(n - k)"
   ]
  },
  {
   "cell_type": "markdown",
   "id": "71c435b0",
   "metadata": {},
   "source": [
    "### $$A_{10}^4 = \\frac{10!}{(10 - 4)!}=7\\cdot 8\\cdot 9\\cdot 10=5040$$"
   ]
  },
  {
   "cell_type": "code",
   "execution_count": 3,
   "id": "caef1e53",
   "metadata": {},
   "outputs": [
    {
     "data": {
      "text/plain": [
       "5040"
      ]
     },
     "execution_count": 3,
     "metadata": {},
     "output_type": "execute_result"
    }
   ],
   "source": [
    "arrangements(10, 4)"
   ]
  },
  {
   "cell_type": "code",
   "execution_count": null,
   "id": "a3605863",
   "metadata": {},
   "outputs": [],
   "source": []
  },
  {
   "cell_type": "markdown",
   "id": "6d53dd96",
   "metadata": {},
   "source": [
    "__Задача 2__\n",
    "\n",
    "Из колоды в 52 карты вынимают случайным образом 4 карты. Найти число исходов, соответствующих тому, что был вытянут хотя бы один туз."
   ]
  },
  {
   "cell_type": "markdown",
   "id": "be8b3b6a",
   "metadata": {},
   "source": [
    "воспользуемся формулой сочетаний:"
   ]
  },
  {
   "cell_type": "markdown",
   "id": "8f96264d",
   "metadata": {},
   "source": [
    "### $$C_n^k = \\frac{n!}{k!(n - k)!}$$"
   ]
  },
  {
   "cell_type": "code",
   "execution_count": 4,
   "id": "eafa917c",
   "metadata": {},
   "outputs": [],
   "source": [
    "def combinations(n, k):\n",
    "    return np.math.factorial(n) // (np.math.factorial(k) * np.math.factorial(n - k))"
   ]
  },
  {
   "cell_type": "markdown",
   "id": "0a91383d",
   "metadata": {},
   "source": [
    "чтобы решить эту задачу, нужно сначала рассмотреть ситуацию, когда выбирается один туз из четырёх:"
   ]
  },
  {
   "cell_type": "markdown",
   "id": "a4aa1b0c",
   "metadata": {},
   "source": [
    "### $$C_{4}^1 = \\frac{4!}{1!(4 - 1)!}=4$$"
   ]
  },
  {
   "cell_type": "code",
   "execution_count": 5,
   "id": "b9513b65",
   "metadata": {},
   "outputs": [
    {
     "data": {
      "text/plain": [
       "4"
      ]
     },
     "execution_count": 5,
     "metadata": {},
     "output_type": "execute_result"
    }
   ],
   "source": [
    "combinations(4, 1)"
   ]
  },
  {
   "cell_type": "markdown",
   "id": "779f79a3",
   "metadata": {},
   "source": [
    "остальные три карты выбираются из 48 карт — тузы не рассматриваются, так как они уже выбраны:"
   ]
  },
  {
   "cell_type": "markdown",
   "id": "5b5a9881",
   "metadata": {},
   "source": [
    "### $$C_{48}^3 = \\frac{48!}{3!(48 - 3)!}=\\frac{48!}{3!(45)!}=\\frac{46\\cdot 47\\cdot 48}{3!}=\\frac{46\\cdot 47\\cdot 48}{6}=17296$$"
   ]
  },
  {
   "cell_type": "code",
   "execution_count": 6,
   "id": "9bd07c50",
   "metadata": {},
   "outputs": [
    {
     "data": {
      "text/plain": [
       "17296"
      ]
     },
     "execution_count": 6,
     "metadata": {},
     "output_type": "execute_result"
    }
   ],
   "source": [
    "combinations(48, 3)"
   ]
  },
  {
   "cell_type": "code",
   "execution_count": 7,
   "id": "305ee127",
   "metadata": {},
   "outputs": [
    {
     "name": "stdout",
     "output_type": "stream",
     "text": [
      "69184\n"
     ]
    }
   ],
   "source": [
    "a = combinations(4, 1) * combinations(48, 3)\n",
    "\n",
    "print(a)"
   ]
  },
  {
   "cell_type": "markdown",
   "id": "9d8262f2",
   "metadata": {},
   "source": [
    "аналогично считаются ситуации, когда тузов 2, 3 и 4:"
   ]
  },
  {
   "cell_type": "code",
   "execution_count": 8,
   "id": "08f11dd1",
   "metadata": {},
   "outputs": [
    {
     "name": "stdout",
     "output_type": "stream",
     "text": [
      "6768\n",
      "192\n",
      "1\n"
     ]
    }
   ],
   "source": [
    "b = combinations(4, 2) * combinations(48, 2)\n",
    "c = combinations(4, 3) * combinations(48, 1)\n",
    "d = combinations(4, 4) * combinations(48, 0)\n",
    "\n",
    "print(b)\n",
    "print(c)\n",
    "print(d)"
   ]
  },
  {
   "cell_type": "markdown",
   "id": "63321d09",
   "metadata": {},
   "source": [
    "итоговым ответом на задание будет сумма всех рассчитанных выше сочетаний:"
   ]
  },
  {
   "cell_type": "code",
   "execution_count": 9,
   "id": "59347892",
   "metadata": {},
   "outputs": [
    {
     "data": {
      "text/plain": [
       "76145"
      ]
     },
     "execution_count": 9,
     "metadata": {},
     "output_type": "execute_result"
    }
   ],
   "source": [
    "a + b + c + d"
   ]
  },
  {
   "cell_type": "code",
   "execution_count": null,
   "id": "5b1148a5",
   "metadata": {},
   "outputs": [],
   "source": []
  },
  {
   "cell_type": "markdown",
   "id": "a2ee66a2",
   "metadata": {},
   "source": [
    "__Задача 3__\n",
    "\n",
    "Семь человек рассаживаются наудачу на скамейке. Какова вероятность того, что два определённых человека будут сидеть рядом?"
   ]
  },
  {
   "cell_type": "markdown",
   "id": "15792197",
   "metadata": {},
   "source": [
    "упростим задачу, вычислим для начала вероятность того, что два определённых человека будут сидеть рядом слева, т.е. на 1-й и 2-й позиции скамейки:"
   ]
  },
  {
   "cell_type": "markdown",
   "id": "84af3848",
   "metadata": {},
   "source": [
    "в таком случае получается, что количество всех возможных вариантов рассадки 7 человек на скамейке будет вычисляться по формуле перестановок:"
   ]
  },
  {
   "cell_type": "markdown",
   "id": "f611a44d",
   "metadata": {},
   "source": [
    "### $$P_n = n!$$"
   ]
  },
  {
   "cell_type": "code",
   "execution_count": 10,
   "id": "ece258ea",
   "metadata": {},
   "outputs": [],
   "source": [
    "def permutations(n):\n",
    "    return np.math.factorial(n)"
   ]
  },
  {
   "cell_type": "markdown",
   "id": "852d26a6",
   "metadata": {},
   "source": [
    "### $$P_7 = 7!=5040$$"
   ]
  },
  {
   "cell_type": "code",
   "execution_count": 11,
   "id": "a155b88c",
   "metadata": {},
   "outputs": [
    {
     "data": {
      "text/plain": [
       "5040"
      ]
     },
     "execution_count": 11,
     "metadata": {},
     "output_type": "execute_result"
    }
   ],
   "source": [
    "permutations(7)"
   ]
  },
  {
   "cell_type": "markdown",
   "id": "7dbb122e",
   "metadata": {},
   "source": [
    "а количество вариантов при которых два определённых человека будут сидеть на 1-й и 2-й позиции скамейки, а остальные справа от них, будет вычислено по формуле:"
   ]
  },
  {
   "cell_type": "markdown",
   "id": "8839ee7e",
   "metadata": {},
   "source": [
    "### $$P_2\\cdot P_5 = 2!\\cdot 5!=240$$"
   ]
  },
  {
   "cell_type": "code",
   "execution_count": 12,
   "id": "f3ff276d",
   "metadata": {},
   "outputs": [
    {
     "data": {
      "text/plain": [
       "240"
      ]
     },
     "execution_count": 12,
     "metadata": {},
     "output_type": "execute_result"
    }
   ],
   "source": [
    "permutations(2) * permutations(5)"
   ]
  },
  {
   "cell_type": "markdown",
   "id": "8d03d71b",
   "metadata": {},
   "source": [
    "соответственно, вероятность того, что два определённых человека будут сидеть рядом слева, т.е. на 1-й и 2-й позиции скамейки вычисляется по формуле:"
   ]
  },
  {
   "cell_type": "markdown",
   "id": "9f4c76dd",
   "metadata": {},
   "source": [
    "### $$P = \\frac{m}{n}=\\frac{240}{5040}\\approx0.0476190476190476$$"
   ]
  },
  {
   "cell_type": "markdown",
   "id": "15bfa960",
   "metadata": {},
   "source": [
    "т.к. на скамейке для семи человек имеется 6 вариантов размещения двух людей для того, чтобы они сидели вместе (без учёта порядка в котором сидят эти два человека), то тогда итоговая формула для решения задачи приобретает следующий вид:"
   ]
  },
  {
   "cell_type": "markdown",
   "id": "4b7c596a",
   "metadata": {},
   "source": [
    "### $$P=\\frac{6\\cdot P_2\\cdot P_5}{P_7}=\\frac{6\\cdot 240}{5040}\\approx 0.2857142857142857$$"
   ]
  },
  {
   "cell_type": "markdown",
   "id": "7729a8f4",
   "metadata": {},
   "source": [
    "проверим ответ численно:"
   ]
  },
  {
   "cell_type": "code",
   "execution_count": 13,
   "id": "43b1d707",
   "metadata": {},
   "outputs": [
    {
     "data": {
      "text/plain": [
       "0.2857142857142857"
      ]
     },
     "execution_count": 13,
     "metadata": {},
     "output_type": "execute_result"
    }
   ],
   "source": [
    "# считаем все возможные исходы\n",
    "all_outcomes = [str(i) for i in range(1234567, 7654322)]\n",
    "for i in range(1, 8):\n",
    "    all_outcomes = [ii for ii in all_outcomes if ii.count(str(i)) == 1]\n",
    "\n",
    "# считаем исходы которые удовлетворяют условию задания\n",
    "required_outcomes = []\n",
    "for i in all_outcomes:\n",
    "    try:\n",
    "        if i[list(i).index('1') - 1] == '2' and list(i).index('1') - 1 >= 0:\n",
    "            required_outcomes.append(i)\n",
    "            continue\n",
    "    except:\n",
    "        None\n",
    "\n",
    "    try:\n",
    "        if i[list(i).index('1') + 1] == '2':\n",
    "            required_outcomes.append(i)\n",
    "            continue\n",
    "    except:\n",
    "        None\n",
    "\n",
    "# считаем вероятность\n",
    "probability = len(required_outcomes) / len(all_outcomes)\n",
    "probability"
   ]
  },
  {
   "cell_type": "markdown",
   "id": "1d85a57b",
   "metadata": {},
   "source": [
    "всё верно!"
   ]
  },
  {
   "cell_type": "code",
   "execution_count": null,
   "id": "9880a292",
   "metadata": {},
   "outputs": [],
   "source": []
  },
  {
   "cell_type": "markdown",
   "id": "6e1e4685",
   "metadata": {},
   "source": [
    "__Задача 4__\n",
    "\n",
    "Из 60 вопросов, входящих в экзаменационные билеты, студент знает 50. Какова вероятность того, что среди трёх наугад выбранных вопросов студент знает: а) все? б) два?"
   ]
  },
  {
   "cell_type": "markdown",
   "id": "cf588f21",
   "metadata": {},
   "source": [
    "посчитаем количество всех возможных вариантов, для чего используем формулу сочетаний:"
   ]
  },
  {
   "cell_type": "markdown",
   "id": "37e0b6c6",
   "metadata": {},
   "source": [
    "### $$C_n^k = \\frac{n!}{k!(n - k)!}$$"
   ]
  },
  {
   "cell_type": "code",
   "execution_count": 14,
   "id": "67d6b763",
   "metadata": {},
   "outputs": [],
   "source": [
    "def combinations(n, k):\n",
    "    return np.math.factorial(n) // (np.math.factorial(k) * np.math.factorial(n - k))"
   ]
  },
  {
   "cell_type": "markdown",
   "id": "eb8f83b3",
   "metadata": {},
   "source": [
    "### $$C_{60}^3 = \\frac{60!}{3!(60 - 3)!}=\\frac{58\\cdot 59\\cdot 60}{6}=34220$$"
   ]
  },
  {
   "cell_type": "code",
   "execution_count": 15,
   "id": "af5aa452",
   "metadata": {},
   "outputs": [
    {
     "data": {
      "text/plain": [
       "34220"
      ]
     },
     "execution_count": 15,
     "metadata": {},
     "output_type": "execute_result"
    }
   ],
   "source": [
    "combinations(60, 3)"
   ]
  },
  {
   "cell_type": "markdown",
   "id": "debdfef0",
   "metadata": {},
   "source": [
    "теперь посчитаем количество сочетаний билетов, которые знает студент:"
   ]
  },
  {
   "cell_type": "markdown",
   "id": "3e29036a",
   "metadata": {},
   "source": [
    "### $$C_{50}^3 = \\frac{50!}{3!(50 - 3)!}=\\frac{48\\cdot 49\\cdot 50}{6}=19600$$"
   ]
  },
  {
   "cell_type": "code",
   "execution_count": 16,
   "id": "1b78b29c",
   "metadata": {},
   "outputs": [
    {
     "data": {
      "text/plain": [
       "19600"
      ]
     },
     "execution_count": 16,
     "metadata": {},
     "output_type": "execute_result"
    }
   ],
   "source": [
    "combinations(50, 3)"
   ]
  },
  {
   "cell_type": "markdown",
   "id": "ceed2903",
   "metadata": {},
   "source": [
    "посчитаем вероятность того, что студент вытянет все билеты, которые он знает:"
   ]
  },
  {
   "cell_type": "markdown",
   "id": "f2e1bdd9",
   "metadata": {},
   "source": [
    "### $$P = \\frac{m}{n}=\\frac{C_{50}^3}{C_{60}^3}=\\frac{19600}{34220}\\approx0.5727644652250146$$"
   ]
  },
  {
   "cell_type": "markdown",
   "id": "5ce67b55",
   "metadata": {},
   "source": [
    "теперь посчитаем количество сочетаний билетов, когда студент знает только 2 билета:"
   ]
  },
  {
   "cell_type": "markdown",
   "id": "fa02b345",
   "metadata": {},
   "source": [
    "### $$C_{50}^2\\cdot C_{10}^1 = \\frac{50!}{2!(50 - 2)!}\\cdot 10=\\frac{49\\cdot 50}{2}\\cdot 10=12250$$"
   ]
  },
  {
   "cell_type": "code",
   "execution_count": 17,
   "id": "16e46b78",
   "metadata": {},
   "outputs": [
    {
     "data": {
      "text/plain": [
       "12250"
      ]
     },
     "execution_count": 17,
     "metadata": {},
     "output_type": "execute_result"
    }
   ],
   "source": [
    "combinations(50, 2) * combinations(10, 1)"
   ]
  },
  {
   "cell_type": "markdown",
   "id": "310d2128",
   "metadata": {},
   "source": [
    "посчитаем вероятность того, что студент вытянет 2 билета, которые он знает:"
   ]
  },
  {
   "cell_type": "markdown",
   "id": "b7c88297",
   "metadata": {},
   "source": [
    "### $$P = \\frac{m}{n}=\\frac{C_{50}^2\\cdot C_{10}^1}{C_{60}^3}=\\frac{12250}{34220}\\approx0.3579777907656341$$"
   ]
  },
  {
   "cell_type": "code",
   "execution_count": 18,
   "id": "c20b1e09",
   "metadata": {},
   "outputs": [
    {
     "data": {
      "text/plain": [
       "0.35797779076563413"
      ]
     },
     "execution_count": 18,
     "metadata": {},
     "output_type": "execute_result"
    }
   ],
   "source": [
    "combinations(50, 2) * combinations(10, 1) / combinations(60, 3)"
   ]
  },
  {
   "cell_type": "markdown",
   "id": "73c9c34a",
   "metadata": {},
   "source": [
    "ответ:\n",
    "\n",
    "a) 0.5727644652250146\n",
    "\n",
    "б) 0.3579777907656341"
   ]
  },
  {
   "cell_type": "code",
   "execution_count": null,
   "id": "c50c6341",
   "metadata": {},
   "outputs": [],
   "source": []
  },
  {
   "cell_type": "markdown",
   "id": "8bd32e99",
   "metadata": {},
   "source": [
    "__Задача 5__\n",
    "\n",
    "Бросается игральная кость. Пусть событие `A` - появление чётного числа, событие `B` - появление числа больше трёх. Являются ли эти события независимыми?"
   ]
  },
  {
   "cell_type": "markdown",
   "id": "45bfadd8",
   "metadata": {},
   "source": [
    "ответ: нет, эти события зависимые, т.к. кость бросается только один раз"
   ]
  },
  {
   "cell_type": "code",
   "execution_count": null,
   "id": "24c536eb",
   "metadata": {},
   "outputs": [],
   "source": []
  },
  {
   "cell_type": "markdown",
   "id": "9fe39f13",
   "metadata": {},
   "source": [
    "__Задача 6__\n",
    "\n",
    "Допустим, имеется некоторая очень редкая болезнь (поражает 0.1 % населения). Вы приходите к врачу, вам делают тест на эту болезнь, и тест оказывается положительным. Врач говорит вам, что этот тест верно выявляет 99 % больных этой болезнью и всего лишь в 1 % случаев даёт ложный положительный ответ.\n",
    "\n",
    "_Вопрос_: какова вероятность, что вы действительно больны ей?\n",
    "\n",
    "_Подсказка_: вновь используйте формулу Байеса с раскрытием знаменателя с помощью формулы полной вероятности."
   ]
  },
  {
   "cell_type": "markdown",
   "id": "a3743045",
   "metadata": {},
   "source": [
    "ответ: Т.к. тест является положительным, то уже нет никакой надобности принимать во внимание факт, что очень редкая болезнь поражает 0.1 % населения. Соответственно, вероятность того, что человек с положительным тестом болен = 0.99"
   ]
  },
  {
   "cell_type": "code",
   "execution_count": null,
   "id": "7ed69fb5",
   "metadata": {},
   "outputs": [],
   "source": []
  },
  {
   "cell_type": "code",
   "execution_count": null,
   "id": "c20b8fc8",
   "metadata": {},
   "outputs": [],
   "source": []
  },
  {
   "cell_type": "code",
   "execution_count": null,
   "id": "dd1349db",
   "metadata": {},
   "outputs": [],
   "source": []
  },
  {
   "cell_type": "code",
   "execution_count": null,
   "id": "ca9a8272",
   "metadata": {},
   "outputs": [],
   "source": []
  },
  {
   "cell_type": "code",
   "execution_count": null,
   "id": "f7eed06b",
   "metadata": {},
   "outputs": [],
   "source": []
  },
  {
   "cell_type": "code",
   "execution_count": null,
   "id": "35048a46",
   "metadata": {},
   "outputs": [],
   "source": []
  },
  {
   "cell_type": "code",
   "execution_count": null,
   "id": "a8d3ef68",
   "metadata": {},
   "outputs": [],
   "source": []
  },
  {
   "cell_type": "code",
   "execution_count": null,
   "id": "fc9c66f1",
   "metadata": {},
   "outputs": [],
   "source": []
  },
  {
   "cell_type": "code",
   "execution_count": null,
   "id": "463a1c84",
   "metadata": {},
   "outputs": [],
   "source": []
  },
  {
   "cell_type": "code",
   "execution_count": null,
   "id": "2440c88a",
   "metadata": {},
   "outputs": [],
   "source": []
  },
  {
   "cell_type": "code",
   "execution_count": null,
   "id": "d14ccf1a",
   "metadata": {},
   "outputs": [],
   "source": []
  },
  {
   "cell_type": "code",
   "execution_count": null,
   "id": "7630e90c",
   "metadata": {},
   "outputs": [],
   "source": []
  }
 ],
 "metadata": {
  "kernelspec": {
   "display_name": "Python 3",
   "language": "python",
   "name": "python3"
  },
  "language_info": {
   "codemirror_mode": {
    "name": "ipython",
    "version": 3
   },
   "file_extension": ".py",
   "mimetype": "text/x-python",
   "name": "python",
   "nbconvert_exporter": "python",
   "pygments_lexer": "ipython3",
   "version": "3.8.8"
  }
 },
 "nbformat": 4,
 "nbformat_minor": 5
}
