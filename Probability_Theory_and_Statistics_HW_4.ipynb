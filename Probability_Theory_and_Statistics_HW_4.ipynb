{
 "cells": [
  {
   "cell_type": "markdown",
   "id": "d18eb15d",
   "metadata": {},
   "source": [
    "# Домашнее задание № 4"
   ]
  },
  {
   "cell_type": "markdown",
   "id": "aa42a846",
   "metadata": {},
   "source": [
    "## по дисциплине: Теория вероятностей и математическая статистика"
   ]
  },
  {
   "cell_type": "markdown",
   "id": "b3af4d1c",
   "metadata": {},
   "source": [
    "## Тема: Непрерывные случайные величины. Функция распределения и функция плотности. Нормальное распределение. Центральная предельная теорема"
   ]
  },
  {
   "cell_type": "markdown",
   "id": "9eef51b5",
   "metadata": {},
   "source": [
    "### выполнил: Евгений Кириллов"
   ]
  },
  {
   "cell_type": "code",
   "execution_count": null,
   "id": "cc96cb74",
   "metadata": {},
   "outputs": [],
   "source": []
  },
  {
   "cell_type": "markdown",
   "id": "9988d918",
   "metadata": {},
   "source": [
    "__Задача 1.__\n",
    "\n",
    "Случайная непрерывная величина A имеет равномерное распределение на\n",
    "промежутке (200, 800].\n",
    "Найдите ее среднее значение и дисперсию."
   ]
  },
  {
   "cell_type": "code",
   "execution_count": null,
   "id": "4fc2715d",
   "metadata": {},
   "outputs": [],
   "source": []
  },
  {
   "cell_type": "markdown",
   "id": "f23b6acd",
   "metadata": {},
   "source": [
    "плотность распределения f(x) непрерывной случайной величины:"
   ]
  },
  {
   "cell_type": "markdown",
   "id": "94104de8",
   "metadata": {},
   "source": [
    "$$f(x) = \\begin{cases} \\frac{1}{b-a}, & x \\in (a, b), \\\\ 0, & x \\notin (a, b). \\end{cases}$$"
   ]
  },
  {
   "cell_type": "markdown",
   "id": "5a68e0b8",
   "metadata": {},
   "source": [
    "формула математического ожидания для непрерывной случайной величины:"
   ]
  },
  {
   "cell_type": "markdown",
   "id": "37ebedbd",
   "metadata": {},
   "source": [
    "$$M(X) = \\displaystyle\\int_{-\\infty}^\\infty x \\cdot f(x) \\: dx$$"
   ]
  },
  {
   "cell_type": "markdown",
   "id": "4271a321",
   "metadata": {},
   "source": [
    "тогда, в нашем случае:"
   ]
  },
  {
   "cell_type": "markdown",
   "id": "50e2efed",
   "metadata": {},
   "source": [
    "$$M(A) = \\displaystyle\\int_{a}^b x \\cdot \\frac{1}{b-a} \\: dx=\\frac{1}{b-a}\\cdot \\frac{x^2}{2}\\bigg|_a^{b}=\\frac{1}{b-a}\\cdot \\frac{b^2-a^2}{2}=\\frac{b+a}{2}$$"
   ]
  },
  {
   "cell_type": "markdown",
   "id": "cb3b63d1",
   "metadata": {},
   "source": [
    "$$M(A) =\\frac{800+200}{2}=500$$"
   ]
  },
  {
   "cell_type": "markdown",
   "id": "5380c0ea",
   "metadata": {},
   "source": [
    "формула дисперсии для непрерывной случайной величины:"
   ]
  },
  {
   "cell_type": "markdown",
   "id": "e6f71ba6",
   "metadata": {},
   "source": [
    "$$D(X) = M(X^2) - (M(X))^2$$"
   ]
  },
  {
   "cell_type": "markdown",
   "id": "bab3bcbe",
   "metadata": {},
   "source": [
    "где:"
   ]
  },
  {
   "cell_type": "markdown",
   "id": "0c5ff8b2",
   "metadata": {},
   "source": [
    "$$M(X^2)=\\displaystyle\\int_{-\\infty}^\\infty x^2 \\cdot f(x) \\: dx$$"
   ]
  },
  {
   "cell_type": "markdown",
   "id": "1f92f600",
   "metadata": {},
   "source": [
    "тогда, в нашем случае:"
   ]
  },
  {
   "cell_type": "markdown",
   "id": "b6afc07d",
   "metadata": {},
   "source": [
    "$$M(A^2) = \\displaystyle\\int_{a}^b x^2 \\cdot \\frac{1}{b-a} \\: dx=\\frac{1}{b-a}\\cdot \\frac{x^3}{3}\\bigg|_a^{b}=\\frac{1}{b-a}\\cdot \\frac{b^3-a^3}{3}=\\frac{b^2+ab+a^2}{3}$$"
   ]
  },
  {
   "cell_type": "markdown",
   "id": "4685cdf5",
   "metadata": {},
   "source": [
    "$$D(A) = M(A^2) - (M(A))^2=\\frac{b^2+ab+a^2}{3} - (\\frac{b+a}{2})^2=\\frac{(b-a)^2}{12}$$"
   ]
  },
  {
   "cell_type": "markdown",
   "id": "41897149",
   "metadata": {},
   "source": [
    "$$D(A)=\\frac{(800-200)^2}{12}=\\frac{600^2}{12}=30000$$"
   ]
  },
  {
   "cell_type": "markdown",
   "id": "15fda0f4",
   "metadata": {},
   "source": [
    "ответ: среднее значение = 500, дисперсия = 30000"
   ]
  },
  {
   "cell_type": "code",
   "execution_count": null,
   "id": "0106e44e",
   "metadata": {},
   "outputs": [],
   "source": []
  },
  {
   "cell_type": "markdown",
   "id": "85f106e1",
   "metadata": {},
   "source": [
    "__Задача 2.__ \n",
    "\n",
    "\n",
    "О случайной непрерывной равномерно распределенной величине B известно, что ее\n",
    "дисперсия равна 0.2.\n",
    "Можно ли найти правую границу величины B и ее среднее значение зная, что левая\n",
    "граница равна 0.5?\n",
    "Если да, найдите ее."
   ]
  },
  {
   "cell_type": "code",
   "execution_count": null,
   "id": "17ff1d21",
   "metadata": {},
   "outputs": [],
   "source": []
  },
  {
   "cell_type": "markdown",
   "id": "3076c978",
   "metadata": {},
   "source": [
    "т.к. формула дисперсии для непрерывной случайной величины B на промежутке (a, b] :"
   ]
  },
  {
   "cell_type": "markdown",
   "id": "299500f2",
   "metadata": {},
   "source": [
    "$$D(B)=\\frac{(b-a)^2}{12}$$"
   ]
  },
  {
   "cell_type": "markdown",
   "id": "c0f0aaea",
   "metadata": {},
   "source": [
    "зная, что $D(B)=0.2$ и $a=0.5$, получаем уравнение:"
   ]
  },
  {
   "cell_type": "markdown",
   "id": "cfcb7984",
   "metadata": {},
   "source": [
    "$$0.2=\\frac{(b-0.5)^2}{12}$$"
   ]
  },
  {
   "cell_type": "markdown",
   "id": "8fcaf4ca",
   "metadata": {},
   "source": [
    "$$b^2-b-2.15=0$$"
   ]
  },
  {
   "cell_type": "markdown",
   "id": "5120b340",
   "metadata": {},
   "source": [
    "решив квадратное уравнение получаем два корня: ~2.05 и ~-1.05"
   ]
  },
  {
   "cell_type": "markdown",
   "id": "0c1f4c21",
   "metadata": {},
   "source": [
    "т.к. корень ~-1.05 меньше левой границы a=0.5, то остаётся корень ~2.05, т.е. правая граница $b\\approx 2.05$"
   ]
  },
  {
   "cell_type": "markdown",
   "id": "433f7576",
   "metadata": {},
   "source": [
    "$$M(B)=\\frac{b+a}{2}\\approx \\frac{2.05+0.5}{2}\\approx 1.275$$"
   ]
  },
  {
   "cell_type": "markdown",
   "id": "581f289f",
   "metadata": {},
   "source": [
    "ответ: правая граница $\\approx 2.05$ и среднее значение $\\approx 1.275$"
   ]
  },
  {
   "cell_type": "code",
   "execution_count": null,
   "id": "a1cc6077",
   "metadata": {},
   "outputs": [],
   "source": []
  },
  {
   "cell_type": "markdown",
   "id": "d2393a00",
   "metadata": {},
   "source": [
    "__Задача 3.__\n",
    "\n",
    "\n",
    "Непрерывная случайная величина X распределена нормально и задана плотностью\n",
    "распределения\n",
    "f(x) = (1 / (4 * sqrt(2*pi))) * (exp(-(x+2) ^ 2) / 32)\n",
    "\n",
    "Найдите:\n",
    "\n",
    "а). M(X)\n",
    "\n",
    "б). D(X)\n",
    "\n",
    "в). std(X) (среднее квадратичное отклонение)"
   ]
  },
  {
   "cell_type": "markdown",
   "id": "f86e4fc8",
   "metadata": {},
   "source": []
  },
  {
   "cell_type": "markdown",
   "id": "5e44212f",
   "metadata": {},
   "source": [
    "т.к. плотность распределения непрерывной случайной величины $X$ с нормальным распределением задаётся формулой:"
   ]
  },
  {
   "cell_type": "markdown",
   "id": "7c5f4e3c",
   "metadata": {},
   "source": [
    "$$f(x) = \\dfrac{1}{\\sqrt{2 \\pi \\sigma^2}} \\cdot \\exp \\left(- \\frac{(x - \\mu)^2}{2 \\sigma^2} \\right)$$"
   ]
  },
  {
   "cell_type": "markdown",
   "id": "97f66b6e",
   "metadata": {},
   "source": [
    "приведём формулу из задания к виду указанному выше:"
   ]
  },
  {
   "cell_type": "markdown",
   "id": "ade47bf9",
   "metadata": {},
   "source": [
    "$$f(x)=\\frac{1}{4 \\sqrt{2\\pi}}\\cdot \\exp(\\frac{-(x+2)^2}{32})=\\frac{1}{\\sqrt{2\\pi\\cdot 4^2}}\\cdot \\exp(\\frac{-(x-(-2))^2}{2\\cdot 4^2})$$"
   ]
  },
  {
   "cell_type": "markdown",
   "id": "66e743e0",
   "metadata": {},
   "source": [
    "из формулы выходит, что:"
   ]
  },
  {
   "cell_type": "markdown",
   "id": "45e6f440",
   "metadata": {},
   "source": [
    "$$M(X)=-2$$"
   ]
  },
  {
   "cell_type": "markdown",
   "id": "ba7f933d",
   "metadata": {},
   "source": [
    "$$D(X)=16$$"
   ]
  },
  {
   "cell_type": "markdown",
   "id": "cd735742",
   "metadata": {},
   "source": [
    "$$std(X)=4$$"
   ]
  },
  {
   "cell_type": "code",
   "execution_count": null,
   "id": "547b23a9",
   "metadata": {},
   "outputs": [],
   "source": []
  },
  {
   "cell_type": "markdown",
   "id": "81d3d8f0",
   "metadata": {},
   "source": [
    "__Задача 4.__\n",
    "\n",
    "\n",
    "Рост взрослого населения города X имеет нормальное распределение.\n",
    "Причем, средний рост равен 174 см, а среднее квадратичное отклонение равно 8 см.\n",
    "Какова вероятность того, что случайным образом выбранный взрослый человек имеет\n",
    "рост:\n",
    "\n",
    "а). больше 182 см\n",
    "\n",
    "б). больше 190 см\n",
    "\n",
    "в). от 166 см до 190 см\n",
    "\n",
    "г). от 166 см до 182 см\n",
    "\n",
    "д). от 158 см до 190 см\n",
    "\n",
    "е). не выше 150 см или не ниже 190 см\n",
    "\n",
    "ё). не выше 150 см или не ниже 198 см\n",
    "\n",
    "ж). ниже 166 см."
   ]
  },
  {
   "cell_type": "code",
   "execution_count": null,
   "id": "9c675618",
   "metadata": {},
   "outputs": [],
   "source": []
  },
  {
   "cell_type": "markdown",
   "id": "9a211777",
   "metadata": {},
   "source": [
    "вероятности в данном задании будут площади под отрезками кривой заданной формулой плотности непрерывной случайной величины  𝑋  с нормальным распределением:"
   ]
  },
  {
   "cell_type": "markdown",
   "id": "a7daa734",
   "metadata": {},
   "source": [
    "$$f(x) = \\dfrac{1}{\\sqrt{2 \\pi \\sigma^2}} \\cdot \\exp \\left(- \\frac{(x - \\mu)^2}{2 \\sigma^2} \\right)$$"
   ]
  },
  {
   "cell_type": "markdown",
   "id": "1df2f42a",
   "metadata": {},
   "source": [
    "т.е. в случае __а)__ получается следующий определённый интеграл:"
   ]
  },
  {
   "cell_type": "markdown",
   "id": "c3c65ba8",
   "metadata": {},
   "source": [
    "\n",
    "$$P(x>182)=\\displaystyle\\int_{182}^{\\infty} \\dfrac{1}{\\sqrt{2 \\pi \\sigma^2}} \\cdot \\exp \\left(- \\frac{(x - \\mu)^2}{2 \\sigma^2} \\right) \\: dx=$$"
   ]
  },
  {
   "cell_type": "markdown",
   "id": "78654852",
   "metadata": {},
   "source": [
    "$$=\\displaystyle\\int_{182}^{\\infty} \\dfrac{1}{\\sqrt{2 \\pi \\cdot 8^2}} \\cdot \\exp \\left(- \\frac{(x - 174)^2}{2 \\cdot 8^2} \\right) \\: dx$$"
   ]
  },
  {
   "cell_type": "markdown",
   "id": "68a4f4c1",
   "metadata": {},
   "source": [
    "вычислим данный интеграл с помощью библиотеки sympy:"
   ]
  },
  {
   "cell_type": "code",
   "execution_count": 1,
   "id": "16080827",
   "metadata": {},
   "outputs": [
    {
     "data": {
      "image/png": "[encoded data removed]",
      "text/latex": [
       "$\\displaystyle \\frac{0.0883883476483184 e^{- \\frac{\\left(x - 174\\right)^{2}}{128}}}{\\pi^{0.5}}$"
      ],
      "text/plain": [
       "                                    2 \n",
       "                          -(x - 174)  \n",
       "                          ────────────\n",
       "                    -0.5      128     \n",
       "0.0883883476483184⋅π    ⋅ℯ            "
      ]
     },
     "execution_count": 1,
     "metadata": {},
     "output_type": "execute_result"
    }
   ],
   "source": [
    "from sympy import *\n",
    "\n",
    "\n",
    "init_printing()\n",
    "x=Symbol('x')\n",
    "f = (1 / ((2 * pi * 8 ** 2) ** 0.5)) * (exp(-((x - 174) ** 2) / (2 * 8 ** 2)))\n",
    "f"
   ]
  },
  {
   "cell_type": "code",
   "execution_count": 2,
   "id": "03c01e29",
   "metadata": {},
   "outputs": [
    {
     "data": {
      "image/png": "[encoded data removed]",
      "text/latex": [
       "$\\displaystyle \\frac{0.353553390593274 \\left(- \\sqrt{2} \\sqrt{\\pi} \\operatorname{erf}{\\left(\\frac{\\sqrt{2}}{2} \\right)} + \\sqrt{2} \\sqrt{\\pi}\\right)}{\\pi^{0.5}}$"
      ],
      "text/plain": [
       "                   -0.5 ⎛           ⎛√2⎞        ⎞\n",
       "0.353553390593274⋅π    ⋅⎜- √2⋅√π⋅erf⎜──⎟ + √2⋅√π⎟\n",
       "                        ⎝           ⎝2 ⎠        ⎠"
      ]
     },
     "execution_count": 2,
     "metadata": {},
     "output_type": "execute_result"
    }
   ],
   "source": [
    "integrate(f,(x, 182, float('inf')))"
   ]
  },
  {
   "cell_type": "markdown",
   "id": "e3bfd7f0",
   "metadata": {},
   "source": [
    "__a)__ $\\approx 0.1586$"
   ]
  },
  {
   "cell_type": "code",
   "execution_count": 3,
   "id": "429b0a49",
   "metadata": {},
   "outputs": [
    {
     "data": {
      "image/png": "[encoded data removed]",
      "text/latex": [
       "$\\displaystyle \\frac{0.707106781186547 \\left(- \\frac{\\sqrt{2} \\sqrt{\\pi} \\operatorname{erf}{\\left(\\sqrt{2} \\right)}}{2} + \\frac{\\sqrt{2} \\sqrt{\\pi}}{2}\\right)}{\\pi^{0.5}}$"
      ],
      "text/plain": [
       "                   -0.5 ⎛  √2⋅√π⋅erf(√2)   √2⋅√π⎞\n",
       "0.707106781186547⋅π    ⋅⎜- ───────────── + ─────⎟\n",
       "                        ⎝        2           2  ⎠"
      ]
     },
     "execution_count": 3,
     "metadata": {},
     "output_type": "execute_result"
    }
   ],
   "source": [
    "integrate(f,(x, 190, float('inf')))"
   ]
  },
  {
   "cell_type": "markdown",
   "id": "da2ae88d",
   "metadata": {},
   "source": [
    "__б)__ $\\approx 0.0227$"
   ]
  },
  {
   "cell_type": "code",
   "execution_count": 4,
   "id": "767020db",
   "metadata": {},
   "outputs": [
    {
     "data": {
      "image/png": "[encoded data removed]",
      "text/latex": [
       "$\\displaystyle 0.353553390593274 \\sqrt{2} \\operatorname{erf}{\\left(\\frac{\\sqrt{2}}{2} \\right)} + 0.353553390593274 \\sqrt{2} \\operatorname{erf}{\\left(\\sqrt{2} \\right)}$"
      ],
      "text/plain": [
       "                        ⎛√2⎞                               \n",
       "0.353553390593274⋅√2⋅erf⎜──⎟ + 0.353553390593274⋅√2⋅erf(√2)\n",
       "                        ⎝2 ⎠                               "
      ]
     },
     "execution_count": 4,
     "metadata": {},
     "output_type": "execute_result"
    }
   ],
   "source": [
    "integrate(f,(x, 166, 190))"
   ]
  },
  {
   "cell_type": "markdown",
   "id": "db2c934b",
   "metadata": {},
   "source": [
    "__в)__ $\\approx 0.8185$"
   ]
  },
  {
   "cell_type": "code",
   "execution_count": 5,
   "id": "d742440c",
   "metadata": {},
   "outputs": [
    {
     "data": {
      "image/png": "[encoded data removed]",
      "text/latex": [
       "$\\displaystyle 0.707106781186547 \\sqrt{2} \\operatorname{erf}{\\left(\\frac{\\sqrt{2}}{2} \\right)}$"
      ],
      "text/plain": [
       "                        ⎛√2⎞\n",
       "0.707106781186547⋅√2⋅erf⎜──⎟\n",
       "                        ⎝2 ⎠"
      ]
     },
     "execution_count": 5,
     "metadata": {},
     "output_type": "execute_result"
    }
   ],
   "source": [
    "integrate(f,(x, 166, 182))"
   ]
  },
  {
   "cell_type": "markdown",
   "id": "d7d5191b",
   "metadata": {},
   "source": [
    "__г)__ $\\approx 0.6826$"
   ]
  },
  {
   "cell_type": "code",
   "execution_count": 6,
   "id": "7b8cf126",
   "metadata": {},
   "outputs": [
    {
     "data": {
      "image/png": "[encoded data removed]",
      "text/latex": [
       "$\\displaystyle 0.707106781186547 \\sqrt{2} \\operatorname{erf}{\\left(\\sqrt{2} \\right)}$"
      ],
      "text/plain": [
       "0.707106781186547⋅√2⋅erf(√2)"
      ]
     },
     "execution_count": 6,
     "metadata": {},
     "output_type": "execute_result"
    }
   ],
   "source": [
    "integrate(f,(x, 158, 190))"
   ]
  },
  {
   "cell_type": "markdown",
   "id": "b03cba63",
   "metadata": {},
   "source": [
    "__д)__ $\\approx 0.9545$"
   ]
  },
  {
   "cell_type": "code",
   "execution_count": 7,
   "id": "9b704abf",
   "metadata": {},
   "outputs": [
    {
     "data": {
      "image/png": "[encoded data removed]",
      "text/latex": [
       "$\\displaystyle - 0.353553390593274 \\sqrt{2} \\operatorname{erf}{\\left(\\frac{3 \\sqrt{2}}{2} \\right)} + \\frac{0.707106781186547 \\left(- \\frac{\\sqrt{2} \\sqrt{\\pi} \\operatorname{erf}{\\left(\\sqrt{2} \\right)}}{2} + \\frac{\\sqrt{2} \\sqrt{\\pi}}{2}\\right)}{\\pi^{0.5}} + 0.353553390593274 \\sqrt{2} \\operatorname{erf}{\\left(\\frac{87 \\sqrt{2}}{8} \\right)}$"
      ],
      "text/plain": [
       "                          ⎛3⋅√2⎞                      -0.5 ⎛  √2⋅√π⋅erf(√2)   \n",
       "- 0.353553390593274⋅√2⋅erf⎜────⎟ + 0.707106781186547⋅π    ⋅⎜- ───────────── + \n",
       "                          ⎝ 2  ⎠                           ⎝        2         \n",
       "\n",
       "√2⋅√π⎞                           ⎛87⋅√2⎞\n",
       "─────⎟ + 0.353553390593274⋅√2⋅erf⎜─────⎟\n",
       "  2  ⎠                           ⎝  8  ⎠"
      ]
     },
     "execution_count": 7,
     "metadata": {},
     "output_type": "execute_result"
    }
   ],
   "source": [
    "integrate(f,(x, 0, 150)) + integrate(f,(x, 190, float('inf')))"
   ]
  },
  {
   "cell_type": "markdown",
   "id": "1cdda542",
   "metadata": {},
   "source": [
    "__е)__ $\\approx 0.0241$"
   ]
  },
  {
   "cell_type": "code",
   "execution_count": 8,
   "id": "d303ae6c",
   "metadata": {},
   "outputs": [
    {
     "data": {
      "image/png": "[encoded data removed]",
      "text/latex": [
       "$\\displaystyle - 0.353553390593274 \\sqrt{2} \\operatorname{erf}{\\left(\\frac{3 \\sqrt{2}}{2} \\right)} + \\frac{1.06066017177982 \\left(- \\frac{\\sqrt{2} \\sqrt{\\pi} \\operatorname{erf}{\\left(\\frac{3 \\sqrt{2}}{2} \\right)}}{3} + \\frac{\\sqrt{2} \\sqrt{\\pi}}{3}\\right)}{\\pi^{0.5}} + 0.353553390593274 \\sqrt{2} \\operatorname{erf}{\\left(\\frac{87 \\sqrt{2}}{8} \\right)}$"
      ],
      "text/plain": [
       "                                                          ⎛           ⎛3⋅√2⎞  \n",
       "                                                          ⎜  √2⋅√π⋅erf⎜────⎟  \n",
       "                          ⎛3⋅√2⎞                     -0.5 ⎜           ⎝ 2  ⎠  \n",
       "- 0.353553390593274⋅√2⋅erf⎜────⎟ + 1.06066017177982⋅π    ⋅⎜- ─────────────── +\n",
       "                          ⎝ 2  ⎠                          ⎝         3         \n",
       "\n",
       "      ⎞                                  \n",
       "      ⎟                                  \n",
       " √2⋅√π⎟                           ⎛87⋅√2⎞\n",
       " ─────⎟ + 0.353553390593274⋅√2⋅erf⎜─────⎟\n",
       "   3  ⎠                           ⎝  8  ⎠"
      ]
     },
     "execution_count": 8,
     "metadata": {},
     "output_type": "execute_result"
    }
   ],
   "source": [
    "integrate(f,(x, 0, 150)) + integrate(f,(x, 198, float('inf')))"
   ]
  },
  {
   "cell_type": "markdown",
   "id": "d57b70dc",
   "metadata": {},
   "source": [
    "__ё)__ $\\approx 0.0027$"
   ]
  },
  {
   "cell_type": "code",
   "execution_count": 9,
   "id": "ccb838f0",
   "metadata": {},
   "outputs": [
    {
     "data": {
      "image/png": "[encoded data removed]",
      "text/latex": [
       "$\\displaystyle - 0.353553390593274 \\sqrt{2} \\operatorname{erf}{\\left(\\frac{\\sqrt{2}}{2} \\right)} + 0.353553390593274 \\sqrt{2} \\operatorname{erf}{\\left(\\frac{87 \\sqrt{2}}{8} \\right)}$"
      ],
      "text/plain": [
       "                          ⎛√2⎞                           ⎛87⋅√2⎞\n",
       "- 0.353553390593274⋅√2⋅erf⎜──⎟ + 0.353553390593274⋅√2⋅erf⎜─────⎟\n",
       "                          ⎝2 ⎠                           ⎝  8  ⎠"
      ]
     },
     "execution_count": 9,
     "metadata": {},
     "output_type": "execute_result"
    }
   ],
   "source": [
    "integrate(f,(x, 0, 166))"
   ]
  },
  {
   "cell_type": "markdown",
   "id": "ae94aaf4",
   "metadata": {},
   "source": [
    "__ж)__ $\\approx 0.1586$"
   ]
  },
  {
   "cell_type": "markdown",
   "id": "58a907ca",
   "metadata": {},
   "source": [
    "проиллюстрируем для наглядности нормальное распределение взрослого населения города X: "
   ]
  },
  {
   "cell_type": "code",
   "execution_count": 10,
   "id": "c762f388",
   "metadata": {},
   "outputs": [],
   "source": [
    "import numpy as np\n",
    "from matplotlib import pyplot as plt"
   ]
  },
  {
   "cell_type": "code",
   "execution_count": 11,
   "id": "52b4f88b",
   "metadata": {},
   "outputs": [
    {
     "data": {
      "image/png": "[encoded data removed]",
      "text/latex": [
       "$\\displaystyle \\left( 174, \\  8\\right)$"
      ],
      "text/plain": [
       "(174, 8)"
      ]
     },
     "execution_count": 11,
     "metadata": {},
     "output_type": "execute_result"
    }
   ],
   "source": [
    "loc = 174\n",
    "scale = 8\n",
    "\n",
    "loc, scale"
   ]
  },
  {
   "cell_type": "code",
   "execution_count": 12,
   "id": "adede904",
   "metadata": {},
   "outputs": [],
   "source": [
    "def pdf_normal(loc: float, scale: float, x: float) -> float:\n",
    "    \"\"\"Функция плотности для нормального распределения.\n",
    "    \"\"\"\n",
    "    \n",
    "    return np.exp(- ((x - loc) ** 2) / (2 * scale ** 2)) / (scale * np.sqrt(2 * np.pi))"
   ]
  },
  {
   "cell_type": "code",
   "execution_count": 13,
   "id": "3bc5cbba",
   "metadata": {
    "scrolled": true
   },
   "outputs": [
    {
     "data": {
      "image/png": "[encoded data removed]",
      "text/plain": [
       "<Figure size 576x288 with 1 Axes>"
      ]
     },
     "metadata": {
      "needs_background": "light"
     },
     "output_type": "display_data"
    }
   ],
   "source": [
    "plt.figure(figsize=(8, 4))\n",
    "ox = np.linspace(140, 220, 1000)\n",
    "oy = np.array([pdf_normal(loc, scale, x) for x in ox])\n",
    "\n",
    "plt.plot(ox, oy)\n",
    "plt.show()"
   ]
  },
  {
   "cell_type": "code",
   "execution_count": null,
   "id": "1e7d385f",
   "metadata": {},
   "outputs": [],
   "source": []
  },
  {
   "cell_type": "markdown",
   "id": "48fe2227",
   "metadata": {},
   "source": [
    "__Задача 5.__\n",
    "\n",
    "\n",
    "На сколько сигм (средних квадратичных отклонений) отклоняется рост человека,\n",
    "равный 190 см, от\n",
    "математического ожидания роста в популяции, в которой M(X) = 178 см и D(X) = 25\n",
    "кв.см?"
   ]
  },
  {
   "cell_type": "code",
   "execution_count": null,
   "id": "6e8c3bf0",
   "metadata": {},
   "outputs": [],
   "source": []
  },
  {
   "cell_type": "markdown",
   "id": "b9c7d418",
   "metadata": {},
   "source": [
    "так как известна дисперсия D(X) (или сигма в квадрате $\\sigma^2$), то среднеквадратическое отконение (или сигма $\\sigma$) будет корнем из дисперсии, т.е. $\\sqrt{25}=5$"
   ]
  },
  {
   "cell_type": "markdown",
   "id": "3f48cdc4",
   "metadata": {},
   "source": [
    "тогда, зная расстояние между математическим ожиданием роста в популяции или M(X) = 178 и ростом некоего человека = 190, можно будет посчитать отклонение в сигмах от математического ожидания, которое будет равно равнице модулю разности между математическим ожиданием и ростом человека поделённому на значение среднеквадратического отклонения:"
   ]
  },
  {
   "cell_type": "markdown",
   "id": "f67a0463",
   "metadata": {},
   "source": [
    "$$\\frac{|M(X) - 190|}{\\sigma}=\\frac{|178 - 190|}{5}=\\frac{12}{5}=2.4$$"
   ]
  },
  {
   "cell_type": "markdown",
   "id": "55743712",
   "metadata": {},
   "source": [
    "ответ: $2.4\\cdot\\sigma$"
   ]
  },
  {
   "cell_type": "code",
   "execution_count": null,
   "id": "a9ca2e43",
   "metadata": {},
   "outputs": [],
   "source": []
  }
 ],
 "metadata": {
  "kernelspec": {
   "display_name": "Python 3",
   "language": "python",
   "name": "python3"
  },
  "language_info": {
   "codemirror_mode": {
    "name": "ipython",
    "version": 3
   },
   "file_extension": ".py",
   "mimetype": "text/x-python",
   "name": "python",
   "nbconvert_exporter": "python",
   "pygments_lexer": "ipython3",
   "version": "3.8.8"
  }
 },
 "nbformat": 4,
 "nbformat_minor": 5
}
