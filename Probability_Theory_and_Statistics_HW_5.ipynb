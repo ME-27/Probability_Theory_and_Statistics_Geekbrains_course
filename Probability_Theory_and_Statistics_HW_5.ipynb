{
 "cells": [
  {
   "cell_type": "markdown",
   "id": "d18eb15d",
   "metadata": {},
   "source": [
    "# Домашнее задание № 5"
   ]
  },
  {
   "cell_type": "markdown",
   "id": "aa42a846",
   "metadata": {},
   "source": [
    "## по дисциплине: Теория вероятностей и математическая статистика"
   ]
  },
  {
   "cell_type": "markdown",
   "id": "b3af4d1c",
   "metadata": {},
   "source": [
    "## Тема: Проверка статистических гипотез. P-значения. Доверительные интервалы"
   ]
  },
  {
   "cell_type": "markdown",
   "id": "9eef51b5",
   "metadata": {},
   "source": [
    "### выполнил: Евгений Кириллов"
   ]
  },
  {
   "cell_type": "code",
   "execution_count": null,
   "id": "cc96cb74",
   "metadata": {},
   "outputs": [],
   "source": []
  },
  {
   "cell_type": "markdown",
   "id": "9988d918",
   "metadata": {},
   "source": [
    "__Задача 1__\n",
    "\n",
    "Известно, что генеральная совокупность распределена нормально с известным средним квадратическим отклонением 16. Найти ширину доверительного интервала для оценки математического ожидания `mu` с надёжностью 0.95, если выборочное среднее равно 80, а объём выборки равен 256.\n",
    "\n",
    "__Ответ__: 3.91992797"
   ]
  },
  {
   "cell_type": "code",
   "execution_count": 1,
   "id": "e3c63ce6",
   "metadata": {},
   "outputs": [],
   "source": [
    "import numpy as np\n",
    "from scipy import stats"
   ]
  },
  {
   "cell_type": "code",
   "execution_count": 2,
   "id": "40154050",
   "metadata": {},
   "outputs": [],
   "source": [
    "n = 256\n",
    "samples_mean = 80\n",
    "std = 16\n",
    "p = 0.95\n",
    "alpha = 1 - p"
   ]
  },
  {
   "cell_type": "markdown",
   "id": "2336262e",
   "metadata": {},
   "source": [
    "найдём границы критической области:"
   ]
  },
  {
   "cell_type": "code",
   "execution_count": 3,
   "id": "b3b82a12",
   "metadata": {},
   "outputs": [
    {
     "data": {
      "text/plain": [
       "(-1.959963984540054, 1.959963984540054)"
      ]
     },
     "execution_count": 3,
     "metadata": {},
     "output_type": "execute_result"
    }
   ],
   "source": [
    "t1 = stats.norm.ppf(alpha / 2)\n",
    "t2 = stats.norm.ppf(1 - alpha / 2)\n",
    "\n",
    "t1, t2"
   ]
  },
  {
   "cell_type": "markdown",
   "id": "bffc5be1",
   "metadata": {},
   "source": [
    "найдём границы доверительного интервала:"
   ]
  },
  {
   "cell_type": "code",
   "execution_count": 4,
   "id": "c138f01a",
   "metadata": {},
   "outputs": [
    {
     "data": {
      "text/plain": [
       "(78.04003601545995, 81.95996398454005)"
      ]
     },
     "execution_count": 4,
     "metadata": {},
     "output_type": "execute_result"
    }
   ],
   "source": [
    "(samples_mean + t1 * std / np.sqrt(n), samples_mean + t2 * std / np.sqrt(n))"
   ]
  },
  {
   "cell_type": "markdown",
   "id": "e7891799",
   "metadata": {},
   "source": [
    "посчитаем ширину доверительного интервала:"
   ]
  },
  {
   "cell_type": "code",
   "execution_count": 5,
   "id": "36b742e4",
   "metadata": {},
   "outputs": [
    {
     "data": {
      "text/plain": [
       "3.9199279690801063"
      ]
     },
     "execution_count": 5,
     "metadata": {},
     "output_type": "execute_result"
    }
   ],
   "source": [
    "(samples_mean + t2 * std / np.sqrt(n)) - (samples_mean + t1 * std / np.sqrt(n))"
   ]
  },
  {
   "cell_type": "code",
   "execution_count": null,
   "id": "51c1a393",
   "metadata": {},
   "outputs": [],
   "source": []
  },
  {
   "cell_type": "markdown",
   "id": "315e58b8",
   "metadata": {},
   "source": [
    "__Задача 2__\n",
    "\n",
    "Продавец утверждает, что средний вес пачки печенья составляет 200 г. Из партии извлечена выборка из 10 пачек. Вес каждой пачки составляет:\n",
    "```\n",
    "202, 203, 199, 197, 195, 201, 200, 204, 194, 190\n",
    "```\n",
    "Известно, что их веса распределены нормально. Верно ли утверждение продавца, если учитывать, что уровень значимости равен 1%? Найдите P-значение для данного теста и укажите его в качестве ответа.\n",
    "\n",
    "__Ответ__: 0.3145666"
   ]
  },
  {
   "cell_type": "code",
   "execution_count": 6,
   "id": "802af2a3",
   "metadata": {},
   "outputs": [
    {
     "data": {
      "text/plain": [
       "array([202, 203, 199, 197, 195, 201, 200, 204, 194, 190])"
      ]
     },
     "execution_count": 6,
     "metadata": {},
     "output_type": "execute_result"
    }
   ],
   "source": [
    "samples = np.array([202, 203, 199, 197, 195, 201, 200, 204, 194, 190])\n",
    "samples"
   ]
  },
  {
   "cell_type": "code",
   "execution_count": 7,
   "id": "35560055",
   "metadata": {},
   "outputs": [
    {
     "data": {
      "text/plain": [
       "10"
      ]
     },
     "execution_count": 7,
     "metadata": {},
     "output_type": "execute_result"
    }
   ],
   "source": [
    "n = samples.shape[0]\n",
    "n"
   ]
  },
  {
   "cell_type": "code",
   "execution_count": 8,
   "id": "d3cffc63",
   "metadata": {},
   "outputs": [],
   "source": [
    "alpha = 0.01"
   ]
  },
  {
   "cell_type": "markdown",
   "id": "0f4b46a8",
   "metadata": {},
   "source": [
    "находим значение статистики:"
   ]
  },
  {
   "cell_type": "code",
   "execution_count": 9,
   "id": "7fdf3fa1",
   "metadata": {},
   "outputs": [],
   "source": [
    "def statistic(samples: np.ndarray) -> float:\n",
    "    return (samples.mean() - 200) / (samples.std(ddof=1) / np.sqrt(samples.shape[0]))"
   ]
  },
  {
   "cell_type": "code",
   "execution_count": 10,
   "id": "d49aa109",
   "metadata": {},
   "outputs": [
    {
     "data": {
      "text/plain": [
       "-1.0651074037450896"
      ]
     },
     "execution_count": 10,
     "metadata": {},
     "output_type": "execute_result"
    }
   ],
   "source": [
    "S = statistic(samples)\n",
    "S"
   ]
  },
  {
   "cell_type": "markdown",
   "id": "94c8df14",
   "metadata": {},
   "source": [
    "находим P-значение:"
   ]
  },
  {
   "cell_type": "code",
   "execution_count": 11,
   "id": "57870f9d",
   "metadata": {},
   "outputs": [
    {
     "data": {
      "text/plain": [
       "0.31456660352472854"
      ]
     },
     "execution_count": 11,
     "metadata": {},
     "output_type": "execute_result"
    }
   ],
   "source": [
    "p_left = stats.t.cdf(S, df=n - 1)\n",
    "p_right = 1 - stats.t.cdf(S, df=n - 1)\n",
    "\n",
    "pvalue = 2 * min(p_left, p_right)\n",
    "\n",
    "pvalue"
   ]
  },
  {
   "cell_type": "markdown",
   "id": "ed76bf38",
   "metadata": {},
   "source": [
    "#### или:"
   ]
  },
  {
   "cell_type": "code",
   "execution_count": 12,
   "id": "134ee53f",
   "metadata": {},
   "outputs": [
    {
     "data": {
      "text/plain": [
       "Ttest_1sampResult(statistic=-1.0651074037450896, pvalue=0.31456660352472854)"
      ]
     },
     "execution_count": 12,
     "metadata": {},
     "output_type": "execute_result"
    }
   ],
   "source": [
    "stats.ttest_1samp(samples, popmean=200)"
   ]
  },
  {
   "cell_type": "code",
   "execution_count": null,
   "id": "9418af9a",
   "metadata": {},
   "outputs": [],
   "source": []
  },
  {
   "cell_type": "markdown",
   "id": "b329714d",
   "metadata": {},
   "source": [
    "__Задача 3__\n",
    "\n",
    "Дана выборка диаметров подшипников из примера 1 с занятия 5:\n",
    "```\n",
    "samples = [0.6603, 0.9466, 0.5968, 1.3792, 1.5481, 0.7515, 1.0681, 1.1134,\n",
    "           1.2088, 1.701 , 1.0282, 1.3579, 1.0191, 1.1784, 1.1168, 1.1372,\n",
    "           0.7273, 1.3958, 0.8665, 1.5112, 1.161 , 1.0232, 1.0865, 1.02  ]\n",
    "```\n",
    "Предполагая, что диаметры подшипников распределены нормально, проверьте гипотезу о том, что дисперсия случайной величины равна `0.0625` при уровне значимости `alpha = 0.05`. Что для этого нужно знать:\n",
    "1. Альтернативная гипотеза двухсторонняя.\n",
    "2. Статистика для теста: `H = (n - 1) * sample_variance / variance`, где `n` - число элементов в выборке, `sample_variance` - несмещённая оценка дисперсии, `variance` - утверждаемая нулевой гипотезой дисперсия.\n",
    "3. Эта статистика в предположении верности нулевой гипотезы имеет распределение хи-квадрат с параметром `df = n - 1`. Её квантили можно найти с помощью функции `scipy.stats.chi2.ppf`.\n",
    "\n",
    "В качестве ответа запишите 1, если нулевая гипотеза верна, и 0 иначе.\n",
    "\n",
    "__Ответ__: 1\n"
   ]
  },
  {
   "cell_type": "code",
   "execution_count": 13,
   "id": "9287e68c",
   "metadata": {},
   "outputs": [
    {
     "data": {
      "text/plain": [
       "array([0.6603, 0.9466, 0.5968, 1.3792, 1.5481, 0.7515, 1.0681, 1.1134,\n",
       "       1.2088, 1.701 , 1.0282, 1.3579, 1.0191, 1.1784, 1.1168, 1.1372,\n",
       "       0.7273, 1.3958, 0.8665, 1.5112, 1.161 , 1.0232, 1.0865, 1.02  ])"
      ]
     },
     "execution_count": 13,
     "metadata": {},
     "output_type": "execute_result"
    }
   ],
   "source": [
    "samples = np.array([0.6603, 0.9466, 0.5968, 1.3792, 1.5481, 0.7515, 1.0681, 1.1134,\n",
    "                    1.2088, 1.701 , 1.0282, 1.3579, 1.0191, 1.1784, 1.1168, 1.1372,\n",
    "                    0.7273, 1.3958, 0.8665, 1.5112, 1.161 , 1.0232, 1.0865, 1.02])\n",
    "samples"
   ]
  },
  {
   "cell_type": "code",
   "execution_count": 14,
   "id": "1de00ff3",
   "metadata": {},
   "outputs": [
    {
     "data": {
      "text/plain": [
       "24"
      ]
     },
     "execution_count": 14,
     "metadata": {},
     "output_type": "execute_result"
    }
   ],
   "source": [
    "n = samples.shape[0]\n",
    "n"
   ]
  },
  {
   "cell_type": "code",
   "execution_count": 15,
   "id": "fcfa33bb",
   "metadata": {},
   "outputs": [],
   "source": [
    "variance = 0.0625\n",
    "alpha = 0.05"
   ]
  },
  {
   "cell_type": "markdown",
   "id": "3a9a3034",
   "metadata": {},
   "source": [
    "находим границы критической области:"
   ]
  },
  {
   "cell_type": "code",
   "execution_count": 16,
   "id": "a15e5e99",
   "metadata": {},
   "outputs": [
    {
     "data": {
      "text/plain": [
       "(11.688551922452438, 38.0756272503558)"
      ]
     },
     "execution_count": 16,
     "metadata": {},
     "output_type": "execute_result"
    }
   ],
   "source": [
    "t1 = stats.chi2.ppf(alpha / 2, df = n - 1)\n",
    "t2 = stats.chi2.ppf(1 - alpha / 2, df = n - 1)\n",
    "\n",
    "t1, t2"
   ]
  },
  {
   "cell_type": "markdown",
   "id": "c2440794",
   "metadata": {},
   "source": [
    "находим sample_variance:"
   ]
  },
  {
   "cell_type": "code",
   "execution_count": 17,
   "id": "fca421cd",
   "metadata": {},
   "outputs": [
    {
     "data": {
      "text/plain": [
       "0.07804495041666669"
      ]
     },
     "execution_count": 17,
     "metadata": {},
     "output_type": "execute_result"
    }
   ],
   "source": [
    "sample_variance = samples.std(ddof=1) ** 2\n",
    "sample_variance"
   ]
  },
  {
   "cell_type": "markdown",
   "id": "5be7881f",
   "metadata": {},
   "source": [
    "находим значение статистики:"
   ]
  },
  {
   "cell_type": "code",
   "execution_count": 18,
   "id": "37472a74",
   "metadata": {},
   "outputs": [
    {
     "data": {
      "text/plain": [
       "28.720541753333343"
      ]
     },
     "execution_count": 18,
     "metadata": {},
     "output_type": "execute_result"
    }
   ],
   "source": [
    "H = (n - 1) * sample_variance / variance\n",
    "H"
   ]
  },
  {
   "cell_type": "markdown",
   "id": "d1a60fa7",
   "metadata": {},
   "source": [
    "т.к. 11.688551922452438 < 28.720541753333343 < 38.0756272503558\n",
    "\n",
    "или, другими словами, значение статистики не попало в критическую область, \n",
    "\n",
    "то значит, нулевая гипотеза верна (ответ: 1)"
   ]
  },
  {
   "cell_type": "code",
   "execution_count": null,
   "id": "1b87b44e",
   "metadata": {},
   "outputs": [],
   "source": []
  }
 ],
 "metadata": {
  "kernelspec": {
   "display_name": "Python 3",
   "language": "python",
   "name": "python3"
  },
  "language_info": {
   "codemirror_mode": {
    "name": "ipython",
    "version": 3
   },
   "file_extension": ".py",
   "mimetype": "text/x-python",
   "name": "python",
   "nbconvert_exporter": "python",
   "pygments_lexer": "ipython3",
   "version": "3.8.8"
  }
 },
 "nbformat": 4,
 "nbformat_minor": 5
}
