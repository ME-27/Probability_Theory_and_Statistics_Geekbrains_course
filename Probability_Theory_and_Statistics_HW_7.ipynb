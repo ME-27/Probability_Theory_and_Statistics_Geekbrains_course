{
 "cells": [
  {
   "cell_type": "markdown",
   "id": "d18eb15d",
   "metadata": {},
   "source": [
    "# Домашнее задание № 7"
   ]
  },
  {
   "cell_type": "markdown",
   "id": "aa42a846",
   "metadata": {},
   "source": [
    "## по дисциплине: Теория вероятностей и математическая статистика"
   ]
  },
  {
   "cell_type": "markdown",
   "id": "b3af4d1c",
   "metadata": {},
   "source": [
    "## Тема: Линейная регрессия. Двухвыборочный t-тест. A/B-тестирование"
   ]
  },
  {
   "cell_type": "markdown",
   "id": "9eef51b5",
   "metadata": {},
   "source": [
    "### выполнил: Евгений Кириллов"
   ]
  },
  {
   "cell_type": "code",
   "execution_count": null,
   "id": "cc96cb74",
   "metadata": {},
   "outputs": [],
   "source": []
  },
  {
   "cell_type": "markdown",
   "id": "9988d918",
   "metadata": {},
   "source": [
    "__Задача 1__\n",
    "\n",
    "Дана матрица объект-признак\n",
    "```\n",
    "X = [[ 1.22401313,  2.30868478,  3.03636353,  2.69287214],\n",
    "     [-0.18757272,  1.30337355,  5.12093014,  3.46363202],\n",
    "     [-0.81094525,  1.82463398,  5.79686488,  1.86159445],\n",
    "     [ 0.75129018,  2.67392052,  3.65529809,  1.66746094],\n",
    "     [ 0.00972362,  1.97367255,  2.50594319,  1.69755173],\n",
    "     [-0.62972637,  0.77750764,  2.84124027,  4.54410559],\n",
    "     [ 2.29536229,  1.81206697,  1.95026215,  1.51874636],\n",
    "     [ 0.0920418 ,  2.26971361,  7.47708735,  2.61081203],\n",
    "     [ 2.39252799,  3.17563985,  3.61420599,  5.10773362],\n",
    "     [ 0.54983815,  2.87988651,  1.65752765,  1.59635987]]\n",
    "```\n",
    "и значения целевой переменной\n",
    "```\n",
    "y = [ 9.26193358,  9.700363  ,  8.67214805,  8.74796974,  6.18689108,\n",
    "      7.53312713,  7.57643777, 12.44965478, 14.29010746,  6.68361218]\n",
    "```\n",
    "\n",
    "Подберите два признака (из четырёх) так, чтобы уровень линейной зависимости целевой переменной от значений этих признаков был максимальным. Другими словами, модель линейной регрессии на этих признаках должна давать наилучший результат. В качестве ответа запишите значение коэффициента детерминации для модели на этих признаках.\n",
    "\n",
    "__Ответ__: 0.76342462"
   ]
  },
  {
   "cell_type": "code",
   "execution_count": null,
   "id": "0300ca6f",
   "metadata": {},
   "outputs": [],
   "source": []
  },
  {
   "cell_type": "code",
   "execution_count": 1,
   "id": "c45c4899",
   "metadata": {},
   "outputs": [],
   "source": [
    "import numpy as np\n",
    "from itertools import combinations\n",
    "from scipy import stats"
   ]
  },
  {
   "cell_type": "code",
   "execution_count": 2,
   "id": "0435eab6",
   "metadata": {},
   "outputs": [],
   "source": [
    "X = [[ 1.22401313,  2.30868478,  3.03636353,  2.69287214],\n",
    "     [-0.18757272,  1.30337355,  5.12093014,  3.46363202],\n",
    "     [-0.81094525,  1.82463398,  5.79686488,  1.86159445],\n",
    "     [ 0.75129018,  2.67392052,  3.65529809,  1.66746094],\n",
    "     [ 0.00972362,  1.97367255,  2.50594319,  1.69755173],\n",
    "     [-0.62972637,  0.77750764,  2.84124027,  4.54410559],\n",
    "     [ 2.29536229,  1.81206697,  1.95026215,  1.51874636],\n",
    "     [ 0.0920418 ,  2.26971361,  7.47708735,  2.61081203],\n",
    "     [ 2.39252799,  3.17563985,  3.61420599,  5.10773362],\n",
    "     [ 0.54983815,  2.87988651,  1.65752765,  1.59635987]]\n",
    "\n",
    "y = [ 9.26193358,  9.700363  ,  8.67214805,  8.74796974,  6.18689108,\n",
    "      7.53312713,  7.57643777, 12.44965478, 14.29010746,  6.68361218]"
   ]
  },
  {
   "cell_type": "code",
   "execution_count": 3,
   "id": "ede8bbfe",
   "metadata": {},
   "outputs": [],
   "source": [
    "X = np.array(X)\n",
    "y = np.array(y)"
   ]
  },
  {
   "cell_type": "markdown",
   "id": "cd5c02c0",
   "metadata": {},
   "source": [
    "для решения задачи нужно найти коэффициент детерминации, напишем для этого функцию:"
   ]
  },
  {
   "cell_type": "code",
   "execution_count": 4,
   "id": "05f8cf6b",
   "metadata": {},
   "outputs": [],
   "source": [
    "def determination_coefficient(x, y):\n",
    "    # функция считает коэффициент детерминации\n",
    "    \n",
    "    def sum_of_squares(samples):\n",
    "        # функция считает сумму квадратов отклонений.\n",
    "\n",
    "        return ((samples - samples.mean()) ** 2).sum()\n",
    "    \n",
    "    x = np.hstack([np.ones((x.shape[0], 1)), x])\n",
    "    xtx = x.T.dot(x)\n",
    "    xtx_inv = np.linalg.inv(xtx)\n",
    "    b = xtx_inv.dot(x.T).dot(y)\n",
    "    z = x.dot(b)\n",
    "    E = y - z\n",
    "    \n",
    "    return 1 - sum_of_squares(E) / sum_of_squares(y)"
   ]
  },
  {
   "cell_type": "markdown",
   "id": "f6407bb7",
   "metadata": {},
   "source": [
    "посчитаем для каждой пары признаков коэффициент детерминации:"
   ]
  },
  {
   "cell_type": "code",
   "execution_count": 5,
   "id": "4456c2cb",
   "metadata": {},
   "outputs": [
    {
     "name": "stdout",
     "output_type": "stream",
     "text": [
      "0-1: 0.18113594742585204\n",
      "0-2: 0.7634246238793152\n",
      "0-3: 0.45329667831440745\n",
      "1-2: 0.5479482734039012\n",
      "1-3: 0.6062055761129932\n",
      "2-3: 0.6224419876505322\n"
     ]
    }
   ],
   "source": [
    "for feature_1, feature_2 in combinations(range(X.shape[1]), 2):\n",
    "    r = determination_coefficient(X[:, [feature_1, feature_2]], y)\n",
    "    print(f'{feature_1}-{feature_2}: {r}')"
   ]
  },
  {
   "cell_type": "markdown",
   "id": "5571c4f5",
   "metadata": {},
   "source": [
    "использование первого и третьего признаков (0-2) даёт наибольшее значение - 0.7634246238793152"
   ]
  },
  {
   "cell_type": "code",
   "execution_count": null,
   "id": "ac09b210",
   "metadata": {},
   "outputs": [],
   "source": []
  },
  {
   "cell_type": "markdown",
   "id": "e7078fee",
   "metadata": {},
   "source": [
    "__Задача 2__\n",
    "\n",
    "Является ли значимым уравнение регрессии, полученное в предыдущей задаче? В качестве ответа запишите 1, если является, и 0 иначе.\n",
    "\n",
    "__Ответ__: 1"
   ]
  },
  {
   "cell_type": "code",
   "execution_count": null,
   "id": "227fc2a5",
   "metadata": {},
   "outputs": [],
   "source": []
  },
  {
   "cell_type": "markdown",
   "id": "22e53547",
   "metadata": {},
   "source": [
    "для проверки статистической зависимости нам понадобится распределение Фишера:"
   ]
  },
  {
   "cell_type": "code",
   "execution_count": 6,
   "id": "d392ea5a",
   "metadata": {},
   "outputs": [
    {
     "data": {
      "text/plain": [
       "11.29443912292265"
      ]
     },
     "execution_count": 6,
     "metadata": {},
     "output_type": "execute_result"
    }
   ],
   "source": [
    "k1 = 2\n",
    "k2 = X.shape[0] - k1 - 1\n",
    "R = determination_coefficient(X[:, [0, 2]], y)\n",
    "\n",
    "F = (R / k1) / ((1 - R) / k2)\n",
    "F"
   ]
  },
  {
   "cell_type": "markdown",
   "id": "2db24682",
   "metadata": {},
   "source": [
    "найдём границу критической области:"
   ]
  },
  {
   "cell_type": "code",
   "execution_count": 7,
   "id": "32a4739e",
   "metadata": {},
   "outputs": [
    {
     "data": {
      "text/plain": [
       "4.73741412777588"
      ]
     },
     "execution_count": 7,
     "metadata": {},
     "output_type": "execute_result"
    }
   ],
   "source": [
    "alpha = 0.05\n",
    "stats.f.ppf(1 - alpha, k1, k2)"
   ]
  },
  {
   "cell_type": "markdown",
   "id": "c51ff2a3",
   "metadata": {},
   "source": [
    "4.73741412777588 < 11.29443912292265 - значение статистики попало в критическую область, а значит, уравнение регрессии является статистически значимым"
   ]
  },
  {
   "cell_type": "code",
   "execution_count": null,
   "id": "2d33777b",
   "metadata": {},
   "outputs": [],
   "source": []
  },
  {
   "cell_type": "markdown",
   "id": "33bd5563",
   "metadata": {},
   "source": [
    "__Задача 3__\n",
    "\n",
    "Для проведения A/B-тестирования сайта интернет-магазина были получены следующие данные: страница `A` была посещена 2509 раз, из них 77 закончились совершением покупки, страница `B` была посещена 1465 раз, 60 из них закончились совершением покупки. Является ли значимым отличие конверсии на страницах `A` и `B`? В качестве ответа запишите 1, если является, и 0 иначе.\n",
    "\n",
    "_Подсказка_. Реализуйте двухвыборочный t-тест. В качестве выборок здесь можно взять наборы меток совершения покупки (0 или 1) каждым посетителем.\n",
    "\n",
    "__Ответ__: 0"
   ]
  },
  {
   "cell_type": "code",
   "execution_count": null,
   "id": "07ff4cdb",
   "metadata": {},
   "outputs": [],
   "source": []
  },
  {
   "cell_type": "code",
   "execution_count": 8,
   "id": "e4f416a8",
   "metadata": {},
   "outputs": [],
   "source": [
    "x1 = np.zeros(2509)\n",
    "x1[np.arange(77)] = 1\n",
    "\n",
    "x2 = np.zeros(1465)\n",
    "x2[np.arange(60)] = 1"
   ]
  },
  {
   "cell_type": "markdown",
   "id": "742865c0",
   "metadata": {},
   "source": [
    "посчитаем $\\sigma_\\Delta$:"
   ]
  },
  {
   "cell_type": "code",
   "execution_count": 9,
   "id": "5a04ce57",
   "metadata": {},
   "outputs": [
    {
     "data": {
      "text/plain": [
       "0.006220171278295827"
      ]
     },
     "execution_count": 9,
     "metadata": {},
     "output_type": "execute_result"
    }
   ],
   "source": [
    "n1 = x1.size\n",
    "n2 = x2.size\n",
    "\n",
    "s1 = x1.std(ddof=1)\n",
    "s2 = x2.std(ddof=1)\n",
    "\n",
    "s_delta = np.sqrt(s1 ** 2 / n1 + s2 ** 2 / n2)\n",
    "s_delta"
   ]
  },
  {
   "cell_type": "markdown",
   "id": "46b1a268",
   "metadata": {},
   "source": [
    "значение статистики:"
   ]
  },
  {
   "cell_type": "code",
   "execution_count": 10,
   "id": "ef312aac",
   "metadata": {},
   "outputs": [
    {
     "data": {
      "text/plain": [
       "-1.6504551408398205"
      ]
     },
     "execution_count": 10,
     "metadata": {},
     "output_type": "execute_result"
    }
   ],
   "source": [
    "t = (x1.mean() - x2.mean()) / s_delta\n",
    "t"
   ]
  },
  {
   "cell_type": "markdown",
   "id": "98fccd16",
   "metadata": {},
   "source": [
    "посчитаем число степеней свободы:"
   ]
  },
  {
   "cell_type": "code",
   "execution_count": 11,
   "id": "18f4e928",
   "metadata": {},
   "outputs": [
    {
     "data": {
      "text/plain": [
       "2732.8025644352133"
      ]
     },
     "execution_count": 11,
     "metadata": {},
     "output_type": "execute_result"
    }
   ],
   "source": [
    "df = (s1 ** 2 / n1 + s2 ** 2 / n2) ** 2 / ((s1 ** 2 / n1) ** 2 / (n1 - 1) + (s2 ** 2 / n2) ** 2 / (n2 - 1))\n",
    "df"
   ]
  },
  {
   "cell_type": "markdown",
   "id": "01b51e23",
   "metadata": {},
   "source": [
    "посчитаем квантили распределения Стьюдента:"
   ]
  },
  {
   "cell_type": "code",
   "execution_count": 12,
   "id": "7f1f8301",
   "metadata": {},
   "outputs": [
    {
     "data": {
      "text/plain": [
       "(-1.9608324352746576, 1.9608324352746571)"
      ]
     },
     "execution_count": 12,
     "metadata": {},
     "output_type": "execute_result"
    }
   ],
   "source": [
    "alpha = 0.05\n",
    "stats.t.ppf(alpha / 2, df=df), stats.t.ppf(1 - alpha / 2, df=df)"
   ]
  },
  {
   "cell_type": "markdown",
   "id": "95452a96",
   "metadata": {},
   "source": [
    "-1.9608324352746576 < -1.6504551408398205 < 1.9608324352746571 - значение статистики в критическую область не попало, следовательно, значимого отличия между конверсией на страницах A и B нет"
   ]
  },
  {
   "cell_type": "code",
   "execution_count": null,
   "id": "09f5aaab",
   "metadata": {},
   "outputs": [],
   "source": []
  }
 ],
 "metadata": {
  "kernelspec": {
   "display_name": "Python 3",
   "language": "python",
   "name": "python3"
  },
  "language_info": {
   "codemirror_mode": {
    "name": "ipython",
    "version": 3
   },
   "file_extension": ".py",
   "mimetype": "text/x-python",
   "name": "python",
   "nbconvert_exporter": "python",
   "pygments_lexer": "ipython3",
   "version": "3.8.8"
  }
 },
 "nbformat": 4,
 "nbformat_minor": 5
}
