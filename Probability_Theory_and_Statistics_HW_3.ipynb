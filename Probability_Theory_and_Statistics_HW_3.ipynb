{
 "cells": [
  {
   "cell_type": "markdown",
   "id": "d18eb15d",
   "metadata": {},
   "source": [
    "# Домашнее задание № 3"
   ]
  },
  {
   "cell_type": "markdown",
   "id": "aa42a846",
   "metadata": {},
   "source": [
    "## по дисциплине: Теория вероятностей и математическая статистика"
   ]
  },
  {
   "cell_type": "markdown",
   "id": "b3af4d1c",
   "metadata": {},
   "source": [
    "## Тема: Основы математической статистики. Количественные характеристики популяции. Графическое представление данных"
   ]
  },
  {
   "cell_type": "markdown",
   "id": "9eef51b5",
   "metadata": {},
   "source": [
    "### выполнил: Евгений Кириллов"
   ]
  },
  {
   "cell_type": "code",
   "execution_count": null,
   "id": "d14ccf1a",
   "metadata": {},
   "outputs": [],
   "source": []
  },
  {
   "cell_type": "markdown",
   "id": "c660dd56",
   "metadata": {},
   "source": [
    "__Задача 1__\n",
    "\n",
    "\n",
    "Даны значения зарплат из выборки выпускников:\n",
    "\n",
    "100, 80, 75, 77, 89, 33, 45, 25, 65, 17, 30, 230, 24, 57, 55, 70,\n",
    "75, 65, 84, 90, 150\n",
    "\n",
    "Используя только встроенные питоновские функции и структуры\n",
    "данных (т.е. без библиотек numpy, pandas и др.), посчитайте\n",
    "(несмещённое) среднее квадратичное отклонение для данной\n",
    "выборки.\n",
    "\n",
    "Ответ: 47.34795214"
   ]
  },
  {
   "cell_type": "code",
   "execution_count": 1,
   "id": "224942aa",
   "metadata": {},
   "outputs": [],
   "source": [
    "salaries = [100, 80, 75, 77, 89, 33, 45, 25, 65, 17, 30, 230, 24, 57, 55, 70, 75, 65, 84, 90, 150]"
   ]
  },
  {
   "cell_type": "markdown",
   "id": "babb02d5",
   "metadata": {},
   "source": [
    "посчитаем выборочное среднее:"
   ]
  },
  {
   "cell_type": "markdown",
   "id": "d156902e",
   "metadata": {},
   "source": [
    "$$\\overline{X} = \\dfrac{1}{n} \\displaystyle\\sum_{i = 1}^n x_i$$"
   ]
  },
  {
   "cell_type": "code",
   "execution_count": 2,
   "id": "4f2b7684",
   "metadata": {},
   "outputs": [
    {
     "data": {
      "text/plain": [
       "73.14285714285714"
      ]
     },
     "execution_count": 2,
     "metadata": {},
     "output_type": "execute_result"
    }
   ],
   "source": [
    "salaries_mean = sum(salaries) / len(salaries)\n",
    "salaries_mean"
   ]
  },
  {
   "cell_type": "markdown",
   "id": "7fb48de7",
   "metadata": {},
   "source": [
    "посчитаем несмещённую выборочную дисперсию:"
   ]
  },
  {
   "cell_type": "markdown",
   "id": "523dad70",
   "metadata": {},
   "source": [
    "$$\\sigma_X^2 = \\dfrac{1}{n - 1} \\displaystyle\\sum_{i = 1}^n \\left( x_i - \\overline{X} \\right)^2$$"
   ]
  },
  {
   "cell_type": "code",
   "execution_count": 3,
   "id": "0da4131a",
   "metadata": {},
   "outputs": [
    {
     "data": {
      "text/plain": [
       "2241.8285714285716"
      ]
     },
     "execution_count": 3,
     "metadata": {},
     "output_type": "execute_result"
    }
   ],
   "source": [
    "salaries_varience = sum([(i - salaries_mean) ** 2 for i in salaries]) / (len(salaries) - 1)\n",
    "salaries_varience"
   ]
  },
  {
   "cell_type": "markdown",
   "id": "69547d58",
   "metadata": {},
   "source": [
    "посчитаем несмещённое среднее квадратическое отклонение:"
   ]
  },
  {
   "cell_type": "markdown",
   "id": "f983dc1d",
   "metadata": {},
   "source": [
    "$$\\sigma_X = \\sqrt{\\dfrac{1}{n - 1} \\displaystyle\\sum_{i = 1}^n \\left( x_i - \\overline{X} \\right)^2}$$"
   ]
  },
  {
   "cell_type": "code",
   "execution_count": 4,
   "id": "342e3bea",
   "metadata": {},
   "outputs": [
    {
     "data": {
      "text/plain": [
       "47.34795213553139"
      ]
     },
     "execution_count": 4,
     "metadata": {},
     "output_type": "execute_result"
    }
   ],
   "source": [
    "salaries_std = salaries_varience ** 0.5\n",
    "salaries_std"
   ]
  },
  {
   "cell_type": "markdown",
   "id": "3b3cb019",
   "metadata": {},
   "source": [
    "ответ: 47.34795213553139"
   ]
  },
  {
   "cell_type": "code",
   "execution_count": null,
   "id": "27f01769",
   "metadata": {},
   "outputs": [],
   "source": []
  },
  {
   "cell_type": "markdown",
   "id": "faee17ad",
   "metadata": {},
   "source": [
    "__Задача 2__\n",
    "\n",
    "\n",
    "Найдите число выбросов в выборке из задачи 1. Для определения\n",
    "выбросов используйте методику как при построении “усов” в boxplot,\n",
    "однако, как и в задаче 1, пользоваться можно только встроенными\n",
    "функциями и структурами данных.\n",
    "\n",
    "\n",
    "Ответ: 2"
   ]
  },
  {
   "cell_type": "code",
   "execution_count": 5,
   "id": "31237ef3",
   "metadata": {},
   "outputs": [
    {
     "data": {
      "text/plain": [
       "21"
      ]
     },
     "execution_count": 5,
     "metadata": {},
     "output_type": "execute_result"
    }
   ],
   "source": [
    "len(salaries)"
   ]
  },
  {
   "cell_type": "code",
   "execution_count": 6,
   "id": "b1a28a6b",
   "metadata": {},
   "outputs": [
    {
     "data": {
      "text/plain": [
       "[17,\n",
       " 24,\n",
       " 25,\n",
       " 30,\n",
       " 33,\n",
       " 45,\n",
       " 55,\n",
       " 57,\n",
       " 65,\n",
       " 65,\n",
       " 70,\n",
       " 75,\n",
       " 75,\n",
       " 77,\n",
       " 80,\n",
       " 84,\n",
       " 89,\n",
       " 90,\n",
       " 100,\n",
       " 150,\n",
       " 230]"
      ]
     },
     "execution_count": 6,
     "metadata": {},
     "output_type": "execute_result"
    }
   ],
   "source": [
    "sorted(salaries)"
   ]
  },
  {
   "cell_type": "markdown",
   "id": "b95c33d0",
   "metadata": {},
   "source": [
    "найдём Q1"
   ]
  },
  {
   "cell_type": "code",
   "execution_count": 7,
   "id": "ac9a0b56",
   "metadata": {},
   "outputs": [
    {
     "data": {
      "text/plain": [
       "45"
      ]
     },
     "execution_count": 7,
     "metadata": {},
     "output_type": "execute_result"
    }
   ],
   "source": [
    "q1 = sorted(salaries)[len(salaries) // 4]\n",
    "q1"
   ]
  },
  {
   "cell_type": "markdown",
   "id": "99c6c47c",
   "metadata": {},
   "source": [
    "найдём Q3"
   ]
  },
  {
   "cell_type": "code",
   "execution_count": 8,
   "id": "72a828d7",
   "metadata": {},
   "outputs": [
    {
     "data": {
      "text/plain": [
       "84"
      ]
     },
     "execution_count": 8,
     "metadata": {},
     "output_type": "execute_result"
    }
   ],
   "source": [
    "q3 = sorted(salaries)[3 * len(salaries) // 4]\n",
    "q3"
   ]
  },
  {
   "cell_type": "markdown",
   "id": "7868f58d",
   "metadata": {},
   "source": [
    "найдём интерквартильное расстояние IQR:"
   ]
  },
  {
   "cell_type": "code",
   "execution_count": 9,
   "id": "ee38f8e4",
   "metadata": {},
   "outputs": [
    {
     "data": {
      "text/plain": [
       "39"
      ]
     },
     "execution_count": 9,
     "metadata": {},
     "output_type": "execute_result"
    }
   ],
   "source": [
    "iqr = q3 - q1\n",
    "iqr"
   ]
  },
  {
   "cell_type": "markdown",
   "id": "ea19025b",
   "metadata": {},
   "source": [
    "вычислим диапазон ящика с усами boxplot_range:"
   ]
  },
  {
   "cell_type": "code",
   "execution_count": 10,
   "id": "2e61421e",
   "metadata": {},
   "outputs": [
    {
     "data": {
      "text/plain": [
       "(-13.5, 142.5)"
      ]
     },
     "execution_count": 10,
     "metadata": {},
     "output_type": "execute_result"
    }
   ],
   "source": [
    "boxplot_range = (q1 - 1.5 * iqr, q3 + 1.5 * iqr)\n",
    "boxplot_range"
   ]
  },
  {
   "cell_type": "markdown",
   "id": "9dde3d1e",
   "metadata": {},
   "source": [
    "найдём выбросы и посчитаем их количество:"
   ]
  },
  {
   "cell_type": "code",
   "execution_count": 11,
   "id": "f6a39d74",
   "metadata": {},
   "outputs": [
    {
     "data": {
      "text/plain": [
       "[230, 150]"
      ]
     },
     "execution_count": 11,
     "metadata": {},
     "output_type": "execute_result"
    }
   ],
   "source": [
    "outliers = [i for i in salaries if i < boxplot_range[0] or i > boxplot_range[1]]\n",
    "outliers"
   ]
  },
  {
   "cell_type": "code",
   "execution_count": 12,
   "id": "6b20014a",
   "metadata": {},
   "outputs": [
    {
     "data": {
      "text/plain": [
       "2"
      ]
     },
     "execution_count": 12,
     "metadata": {},
     "output_type": "execute_result"
    }
   ],
   "source": [
    "len(outliers)"
   ]
  },
  {
   "cell_type": "markdown",
   "id": "1528c5f5",
   "metadata": {},
   "source": [
    "ответ: 2"
   ]
  },
  {
   "cell_type": "code",
   "execution_count": null,
   "id": "9e613e14",
   "metadata": {},
   "outputs": [],
   "source": []
  },
  {
   "cell_type": "markdown",
   "id": "de92c46b",
   "metadata": {},
   "source": [
    "__Задача 3__\n",
    "\n",
    "\n",
    "В университет на факультет A поступило 100 человек, на факультет B - 90 человек и на факультет C - 45 человек. Вероятность того, что\n",
    "студент с факультета A сдаст первую сессию, равна 0.6. Для студента\n",
    "с факультета B эта вероятность равна 0.7, а для студента с\n",
    "факультета C - 0.8. Случайным образом выбирается студент, сдавший\n",
    "первую сессию. Какое событие наиболее вероятно:\n",
    "1. студент учится на факультете A,\n",
    "2. студент учится на факультете B,\n",
    "3. студент учится на факультете C?\n",
    "\n",
    "\n",
    "Замечание: да, эта задача не на тему статистики, но тема важная, и её\n",
    "стоит иногда освежать в памяти.\n",
    "\n",
    "\n",
    "Ответ: 2"
   ]
  },
  {
   "cell_type": "code",
   "execution_count": null,
   "id": "ba40b1f1",
   "metadata": {},
   "outputs": [],
   "source": []
  },
  {
   "cell_type": "code",
   "execution_count": 13,
   "id": "af09a391",
   "metadata": {},
   "outputs": [
    {
     "data": {
      "text/plain": [
       "235"
      ]
     },
     "execution_count": 13,
     "metadata": {},
     "output_type": "execute_result"
    }
   ],
   "source": [
    "number_of_all_students = 100 + 90 + 45\n",
    "number_of_all_students"
   ]
  },
  {
   "cell_type": "code",
   "execution_count": 14,
   "id": "19aa2e62",
   "metadata": {},
   "outputs": [
    {
     "data": {
      "text/plain": [
       "0.676595744680851"
      ]
     },
     "execution_count": 14,
     "metadata": {},
     "output_type": "execute_result"
    }
   ],
   "source": [
    "bayes_full_probability = (100 / number_of_all_students) * 0.6 +\\\n",
    "    (90 / number_of_all_students) * 0.7 + (45 / number_of_all_students) * 0.8\n",
    "bayes_full_probability"
   ]
  },
  {
   "cell_type": "code",
   "execution_count": 15,
   "id": "952670f7",
   "metadata": {},
   "outputs": [
    {
     "data": {
      "text/plain": [
       "0.3773584905660377"
      ]
     },
     "execution_count": 15,
     "metadata": {},
     "output_type": "execute_result"
    }
   ],
   "source": [
    "event_1 = (100 / number_of_all_students) * 0.6 / bayes_full_probability\n",
    "event_1"
   ]
  },
  {
   "cell_type": "code",
   "execution_count": 16,
   "id": "b2027102",
   "metadata": {},
   "outputs": [
    {
     "data": {
      "text/plain": [
       "0.39622641509433965"
      ]
     },
     "execution_count": 16,
     "metadata": {},
     "output_type": "execute_result"
    }
   ],
   "source": [
    "event_2 = (90 / number_of_all_students) * 0.7 / bayes_full_probability\n",
    "event_2"
   ]
  },
  {
   "cell_type": "code",
   "execution_count": 17,
   "id": "44de4e84",
   "metadata": {},
   "outputs": [
    {
     "data": {
      "text/plain": [
       "0.22641509433962265"
      ]
     },
     "execution_count": 17,
     "metadata": {},
     "output_type": "execute_result"
    }
   ],
   "source": [
    "event_3 = (45 / number_of_all_students) * 0.8 / bayes_full_probability\n",
    "event_3"
   ]
  },
  {
   "cell_type": "markdown",
   "id": "f4f49fcf",
   "metadata": {},
   "source": [
    "ответ: 2"
   ]
  },
  {
   "cell_type": "code",
   "execution_count": null,
   "id": "654222a4",
   "metadata": {},
   "outputs": [],
   "source": []
  }
 ],
 "metadata": {
  "kernelspec": {
   "display_name": "Python 3",
   "language": "python",
   "name": "python3"
  },
  "language_info": {
   "codemirror_mode": {
    "name": "ipython",
    "version": 3
   },
   "file_extension": ".py",
   "mimetype": "text/x-python",
   "name": "python",
   "nbconvert_exporter": "python",
   "pygments_lexer": "ipython3",
   "version": "3.8.8"
  }
 },
 "nbformat": 4,
 "nbformat_minor": 5
}
