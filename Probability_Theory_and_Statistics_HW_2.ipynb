{
 "cells": [
  {
   "cell_type": "markdown",
   "id": "d18eb15d",
   "metadata": {},
   "source": [
    "# Домашнее задание № 2"
   ]
  },
  {
   "cell_type": "markdown",
   "id": "aa42a846",
   "metadata": {},
   "source": [
    "## по дисциплине: Теория вероятностей и математическая статистика"
   ]
  },
  {
   "cell_type": "markdown",
   "id": "b3af4d1c",
   "metadata": {},
   "source": [
    "## Тема: Дискретные случайные величины. Закон распределения вероятностей.  Биномиальный закон распределения. Распределение Пуассона"
   ]
  },
  {
   "cell_type": "markdown",
   "id": "9eef51b5",
   "metadata": {},
   "source": [
    "### выполнил: Евгений Кириллов"
   ]
  },
  {
   "cell_type": "code",
   "execution_count": null,
   "id": "d14ccf1a",
   "metadata": {},
   "outputs": [],
   "source": []
  },
  {
   "cell_type": "markdown",
   "id": "715f5acf",
   "metadata": {},
   "source": [
    "__Задачи 1 и 2__\n",
    "\n",
    "\n",
    "Контрольная работа состоит из пяти вопросов. На каждый вопрос приведено четыре варианта ответа, один из которых правильный. Случайная величина X задаёт число правильных ответов при простом угадывании. Найдите математическое ожидание данной случайной величины. Найдите дисперсию случайной величины X.\n",
    "\n",
    "Подсказка: постройте закон распределения случайной величины X."
   ]
  },
  {
   "cell_type": "code",
   "execution_count": null,
   "id": "41e4f876",
   "metadata": {},
   "outputs": [],
   "source": []
  },
  {
   "cell_type": "code",
   "execution_count": 1,
   "id": "17bc8c6b",
   "metadata": {},
   "outputs": [],
   "source": [
    "import numpy as np\n",
    "import pandas as pd"
   ]
  },
  {
   "cell_type": "markdown",
   "id": "007e6326",
   "metadata": {},
   "source": [
    "для решения нам понадобится формула Бернулли:"
   ]
  },
  {
   "cell_type": "markdown",
   "id": "30402ca6",
   "metadata": {},
   "source": [
    "$$P(X = k) = C_n^k p^k (1 - p)^{n - k}$$"
   ]
  },
  {
   "cell_type": "markdown",
   "id": "12dcfabc",
   "metadata": {},
   "source": [
    "создадим соответсвующую функцию:"
   ]
  },
  {
   "cell_type": "code",
   "execution_count": 2,
   "id": "7f2025cb",
   "metadata": {},
   "outputs": [],
   "source": [
    "def bernulli(n, k, p):\n",
    "    \n",
    "    def combinations(n, k):\n",
    "        return np.math.factorial(n) // (np.math.factorial(k) * np.math.factorial(n - k))\n",
    "    \n",
    "    return combinations(n, k) * (p ** k) * ((1 - p) ** (n - k))"
   ]
  },
  {
   "cell_type": "markdown",
   "id": "6ae0c641",
   "metadata": {},
   "source": [
    "проверим, что сумма всех вероятностей равна 1:"
   ]
  },
  {
   "cell_type": "code",
   "execution_count": 3,
   "id": "575b6a75",
   "metadata": {},
   "outputs": [
    {
     "data": {
      "text/plain": [
       "1.0"
      ]
     },
     "execution_count": 3,
     "metadata": {},
     "output_type": "execute_result"
    }
   ],
   "source": [
    "sum(bernulli(5, k, 1 / 4) for k in range(0, 6))"
   ]
  },
  {
   "cell_type": "code",
   "execution_count": 4,
   "id": "b9214151",
   "metadata": {},
   "outputs": [
    {
     "data": {
      "text/plain": [
       "0    0.237305\n",
       "1    0.395508\n",
       "2    0.263672\n",
       "3    0.087891\n",
       "4    0.014648\n",
       "5    0.000977\n",
       "dtype: float64"
      ]
     },
     "execution_count": 4,
     "metadata": {},
     "output_type": "execute_result"
    }
   ],
   "source": [
    "distribution = pd.Series([bernulli(5, _, 1 / 4) for _ in range(0, 6)], index=[_ for _ in range(0, 6)])\n",
    "distribution"
   ]
  },
  {
   "cell_type": "markdown",
   "id": "5ad6c214",
   "metadata": {},
   "source": [
    "построим график распределения вероятностей случайной величины X:"
   ]
  },
  {
   "cell_type": "code",
   "execution_count": 5,
   "id": "43136fce",
   "metadata": {},
   "outputs": [
    {
     "data": {
      "image/png": "[encoded data removed]",
      "text/plain": [
       "<Figure size 576x360 with 1 Axes>"
      ]
     },
     "metadata": {
      "needs_background": "light"
     },
     "output_type": "display_data"
    }
   ],
   "source": [
    "from matplotlib import pyplot as plt\n",
    "plt.figure(figsize=(8, 5))\n",
    "plt.style.use('seaborn-whitegrid')\n",
    "# %config InlineBackend.figure_formats = ['svg']\n",
    "plt.plot(distribution)\n",
    "plt.show()"
   ]
  },
  {
   "cell_type": "markdown",
   "id": "98d43ee7",
   "metadata": {},
   "source": [
    "посчитаем математическое ожидание:"
   ]
  },
  {
   "cell_type": "markdown",
   "id": "53aba79f",
   "metadata": {},
   "source": [
    "$$M(X) = \\displaystyle\\sum_i p_i x_i = p_1 x_1 + p_2 x_2 + \\dots$$"
   ]
  },
  {
   "cell_type": "code",
   "execution_count": 6,
   "id": "70eb880c",
   "metadata": {},
   "outputs": [
    {
     "data": {
      "text/plain": [
       "1.25"
      ]
     },
     "execution_count": 6,
     "metadata": {},
     "output_type": "execute_result"
    }
   ],
   "source": [
    "x_values = distribution.index\n",
    "x_probabilities = distribution.values\n",
    "\n",
    "expectation = sum((x_values * x_probabilities))\n",
    "expectation"
   ]
  },
  {
   "cell_type": "markdown",
   "id": "95d3c4c3",
   "metadata": {},
   "source": [
    "посчитаем дисперсию:"
   ]
  },
  {
   "cell_type": "markdown",
   "id": "11a22e7d",
   "metadata": {},
   "source": [
    "$$D(X) = M \\left( (X - M(X))^2 \\right).$$"
   ]
  },
  {
   "cell_type": "code",
   "execution_count": 7,
   "id": "252dd398",
   "metadata": {},
   "outputs": [
    {
     "data": {
      "text/plain": [
       "0.9375"
      ]
     },
     "execution_count": 7,
     "metadata": {},
     "output_type": "execute_result"
    }
   ],
   "source": [
    "dispersion = sum(((x_values - expectation) ** 2) * x_probabilities)\n",
    "dispersion"
   ]
  },
  {
   "cell_type": "code",
   "execution_count": null,
   "id": "5d85e14b",
   "metadata": {},
   "outputs": [],
   "source": []
  },
  {
   "cell_type": "markdown",
   "id": "84b49db7",
   "metadata": {},
   "source": [
    "__Задача 3__\n",
    "\n",
    "\n",
    "Пользователь получает в среднем 10 писем со спамом на свой почтовый ящик за сутки. Найти число N, такое, что с вероятностью 0.95 пользователь получит не более N писем со спамом за текущий день."
   ]
  },
  {
   "cell_type": "markdown",
   "id": "936c376d",
   "metadata": {},
   "source": [
    "для решения нам понадобится формула Пуассона:"
   ]
  },
  {
   "cell_type": "markdown",
   "id": "3e512402",
   "metadata": {},
   "source": [
    "$$P(X = k) = \\dfrac{\\lambda^k e^{-\\lambda}}{k!}$$"
   ]
  },
  {
   "cell_type": "markdown",
   "id": "8240e6ea",
   "metadata": {},
   "source": [
    "создадим соответсвующую функцию:"
   ]
  },
  {
   "cell_type": "code",
   "execution_count": 8,
   "id": "0d0a12ce",
   "metadata": {},
   "outputs": [],
   "source": [
    "import math"
   ]
  },
  {
   "cell_type": "code",
   "execution_count": 9,
   "id": "5a549daf",
   "metadata": {},
   "outputs": [],
   "source": [
    "def poisson(lambda_, k):\n",
    "    return ((lambda_ ** k) * (math.e ** ((-1) * lambda_))) / np.math.factorial(k)"
   ]
  },
  {
   "cell_type": "markdown",
   "id": "a752577f",
   "metadata": {},
   "source": [
    "решим задачу путём увеличения числа N до получения требуемой суммы вероятностей:"
   ]
  },
  {
   "cell_type": "code",
   "execution_count": 10,
   "id": "7de0d9db",
   "metadata": {},
   "outputs": [
    {
     "name": "stdout",
     "output_type": "stream",
     "text": [
      "0 4.5399929762484875e-05\n",
      "1 0.0004993992273873337\n",
      "2 0.002769395715511577\n",
      "3 0.010336050675925723\n",
      "4 0.02925268807696109\n",
      "5 0.06708596287903182\n",
      "6 0.13014142088248304\n",
      "7 0.22022064660169904\n",
      "8 0.33281967875071905\n",
      "9 0.4579297144718524\n",
      "10 0.5830397501929857\n",
      "11 0.6967761463031069\n",
      "12 0.7915564763948746\n",
      "13 0.8644644226193112\n",
      "14 0.9165415270653374\n",
      "15 0.9512595966960216\n"
     ]
    }
   ],
   "source": [
    "n = 0\n",
    "probability = 0\n",
    "while True:\n",
    "    probability += poisson(10, n)\n",
    "    print(n, probability)\n",
    "    if probability >= 0.95:\n",
    "        break\n",
    "    n += 1"
   ]
  },
  {
   "cell_type": "markdown",
   "id": "86c15398",
   "metadata": {},
   "source": [
    "#### ответ: 15"
   ]
  },
  {
   "cell_type": "code",
   "execution_count": null,
   "id": "9cd3dc56",
   "metadata": {},
   "outputs": [],
   "source": []
  },
  {
   "cell_type": "markdown",
   "id": "1b0c1514",
   "metadata": {},
   "source": [
    "__Задача 4__\n",
    "\n",
    "\n",
    "Производятся выстрелы по мишени. Вероятность попадания в мишень при одном выстреле равна 0.01. Сколько выстрелов нужно сделать чтобы быть уверенным с вероятностью 0.9, что хотя бы 6 раз будет совершено попадание?\n",
    "\n",
    "Подсказка: 1) \"Вероятность попасть k раз при n выстрелах\" - на какое распределение это похоже? 2) А если нам нужна вероятность P(X >= k), а не P(X = k)? 3) Здесь предстоит немножко покодить."
   ]
  },
  {
   "cell_type": "markdown",
   "id": "9a71960a",
   "metadata": {},
   "source": [
    "# ДАННОЕ РЕШЕНИЕ - НЕПРАВИЛЬНОЕ - СМ. ОТВЕТЫ НА СЛЕДУЮЩЕМ УРОКЕ"
   ]
  },
  {
   "cell_type": "code",
   "execution_count": null,
   "id": "aeb0aa0c",
   "metadata": {},
   "outputs": [],
   "source": []
  },
  {
   "cell_type": "code",
   "execution_count": null,
   "id": "8913785b",
   "metadata": {},
   "outputs": [],
   "source": []
  },
  {
   "cell_type": "markdown",
   "id": "55e117fb",
   "metadata": {},
   "source": [
    "для того чтобы вероятность наступления 6-ти событий была равна 0.9, надо, чтобы вероятность каждого отдельного события была равна $\\sqrt[6]{0.9}$, т.к.:"
   ]
  },
  {
   "cell_type": "markdown",
   "id": "b7805361",
   "metadata": {},
   "source": [
    "$$x^6=0.9$$"
   ]
  },
  {
   "cell_type": "markdown",
   "id": "32e79b2b",
   "metadata": {},
   "source": [
    "вычислим вероятность каждого отдельного события:"
   ]
  },
  {
   "cell_type": "code",
   "execution_count": 11,
   "id": "a64ee441",
   "metadata": {},
   "outputs": [
    {
     "data": {
      "text/plain": [
       "0.9825931938526898"
      ]
     },
     "execution_count": 11,
     "metadata": {},
     "output_type": "execute_result"
    }
   ],
   "source": [
    "pow(0.9, (1 / 6))"
   ]
  },
  {
   "cell_type": "markdown",
   "id": "0d82417f",
   "metadata": {},
   "source": [
    "проверим:"
   ]
  },
  {
   "cell_type": "code",
   "execution_count": 12,
   "id": "377798d1",
   "metadata": {},
   "outputs": [
    {
     "data": {
      "text/plain": [
       "0.8999999999999999"
      ]
     },
     "execution_count": 12,
     "metadata": {},
     "output_type": "execute_result"
    }
   ],
   "source": [
    "0.9825931938526898 ** 6"
   ]
  },
  {
   "cell_type": "markdown",
   "id": "1fc22fa8",
   "metadata": {},
   "source": [
    "найдём количество выстрелов для достижения вероятности одного попадания с точностью 0.9825931938526898"
   ]
  },
  {
   "cell_type": "markdown",
   "id": "31c9d903",
   "metadata": {},
   "source": [
    "распределение в данном случае будет геометрическим:"
   ]
  },
  {
   "cell_type": "markdown",
   "id": "bee72995",
   "metadata": {},
   "source": [
    "$$P(X = k) = (1 - p)^{k-1} \\cdot p$$"
   ]
  },
  {
   "cell_type": "code",
   "execution_count": 804,
   "id": "062e8928",
   "metadata": {},
   "outputs": [],
   "source": [
    "def geometrical(k, p):\n",
    "    return ((1 - p) ** (k - 1)) * p"
   ]
  },
  {
   "cell_type": "code",
   "execution_count": 805,
   "id": "9a413a96",
   "metadata": {},
   "outputs": [
    {
     "name": "stdout",
     "output_type": "stream",
     "text": [
      "1 0.01\n",
      "2 0.0199\n",
      "3 0.029701\n",
      "4 0.03940399\n",
      "5 0.0490099501\n",
      "6 0.058519850599\n",
      "7 0.06793465209301\n",
      "8 0.07725530557207991\n",
      "9 0.0864827525163591\n",
      "10 0.09561792499119551\n",
      "11 0.10466174574128355\n",
      "12 0.11361512828387071\n",
      "13 0.12247897700103201\n",
      "14 0.1312541872310217\n",
      "15 0.13994164535871148\n",
      "16 0.14854222890512436\n",
      "17 0.15705680661607313\n",
      "18 0.1654862385499124\n",
      "19 0.17383137616441327\n",
      "20 0.18209306240276912\n",
      "21 0.19027213177874144\n",
      "22 0.19836941046095402\n",
      "23 0.20638571635634448\n",
      "24 0.21432185919278104\n",
      "25 0.22217864060085324\n",
      "26 0.2299568541948447\n",
      "27 0.23765728565289626\n",
      "28 0.2452807127963673\n",
      "29 0.25282790566840363\n",
      "30 0.26029962661171957\n",
      "31 0.26769663034560237\n",
      "32 0.27501966404214634\n",
      "33 0.28226946740172487\n",
      "34 0.28944677272770764\n",
      "35 0.29655230500043056\n",
      "36 0.30358678195042627\n",
      "37 0.310550914130922\n",
      "38 0.31744540498961277\n",
      "39 0.32427095093971664\n",
      "40 0.33102824143031945\n",
      "41 0.33771795901601626\n",
      "42 0.3443407794258561\n",
      "43 0.35089737163159757\n",
      "44 0.3573883979152816\n",
      "45 0.3638145139361288\n",
      "46 0.3701763687967675\n",
      "47 0.3764746051087998\n",
      "48 0.3827098590577118\n",
      "49 0.3888827604671347\n",
      "50 0.39499393286246337\n",
      "51 0.40104399353383874\n",
      "52 0.40703355359850035\n",
      "53 0.41296321806251535\n",
      "54 0.4188335858818902\n",
      "55 0.4246452500230713\n",
      "56 0.4303987975228406\n",
      "57 0.4360948095476122\n",
      "58 0.44173386145213606\n",
      "59 0.4473165228376147\n",
      "60 0.45284335760923855\n",
      "61 0.45831492403314616\n",
      "62 0.4637317747928147\n",
      "63 0.46909445704488656\n",
      "64 0.4744035124744377\n",
      "65 0.4796594773496933\n",
      "66 0.48486288257619636\n",
      "67 0.4900142537504344\n",
      "68 0.49511411121293003\n",
      "69 0.5001629701008007\n",
      "70 0.5051613403997927\n",
      "71 0.5101097269957947\n",
      "72 0.5150086297258367\n",
      "73 0.5198585434285784\n",
      "74 0.5246599579942927\n",
      "75 0.5294133584143498\n",
      "76 0.5341192248302062\n",
      "77 0.5387780325819042\n",
      "78 0.5433902522560851\n",
      "79 0.5479563497335243\n",
      "80 0.552476786236189\n",
      "81 0.5569520183738271\n",
      "82 0.5613824981900889\n",
      "83 0.565768673208188\n",
      "84 0.5701109864761061\n",
      "85 0.5744098766113451\n",
      "86 0.5786657778452317\n",
      "87 0.5828791200667793\n",
      "88 0.5870503288661115\n",
      "89 0.5911798255774504\n",
      "90 0.5952680273216759\n",
      "91 0.5993153470484591\n",
      "92 0.6033221935779746\n",
      "93 0.6072889716421949\n",
      "94 0.6112160819257729\n",
      "95 0.6151039211065152\n",
      "96 0.6189528818954501\n",
      "97 0.6227633530764956\n",
      "98 0.6265357195457306\n",
      "99 0.6302703623502733\n",
      "100 0.6339676587267706\n",
      "101 0.6376279821395029\n",
      "102 0.6412517023181079\n",
      "103 0.6448391852949268\n",
      "104 0.6483907934419775\n",
      "105 0.6519068855075577\n",
      "106 0.6553878166524821\n",
      "107 0.6588339384859573\n",
      "108 0.6622455991010977\n",
      "109 0.6656231431100867\n",
      "110 0.6689669116789859\n",
      "111 0.672277242562196\n",
      "112 0.675554470136574\n",
      "113 0.6787989254352083\n",
      "114 0.6820109361808562\n",
      "115 0.6851908268190476\n",
      "116 0.6883389185508572\n",
      "117 0.6914555293653486\n",
      "118 0.6945409740716951\n",
      "119 0.6975955643309781\n",
      "120 0.7006196086876684\n",
      "121 0.7036134126007917\n",
      "122 0.7065772784747838\n",
      "123 0.709511505690036\n",
      "124 0.7124163906331356\n",
      "125 0.7152922267268041\n",
      "126 0.7181393044595361\n",
      "127 0.7209579114149407\n",
      "128 0.7237483323007913\n",
      "129 0.7265108489777834\n",
      "130 0.7292457404880056\n",
      "131 0.7319532830831256\n",
      "132 0.7346337502522943\n",
      "133 0.7372874127497713\n",
      "134 0.7399145386222735\n",
      "135 0.7425153932360508\n",
      "136 0.7450902393036902\n",
      "137 0.7476393369106533\n",
      "138 0.7501629435415468\n",
      "139 0.7526613141061314\n",
      "140 0.7551347009650701\n",
      "141 0.7575833539554193\n",
      "142 0.7600075204158652\n",
      "143 0.7624074452117066\n",
      "144 0.7647833707595895\n",
      "145 0.7671355370519936\n",
      "146 0.7694641816814736\n",
      "147 0.7717695398646588\n",
      "148 0.7740518444660122\n",
      "149 0.776311326021352\n",
      "150 0.7785482127611385\n",
      "151 0.7807627306335271\n",
      "152 0.7829551033271918\n",
      "153 0.7851255522939198\n",
      "154 0.7872742967709806\n",
      "155 0.7894015538032708\n",
      "156 0.7915075382652381\n",
      "157 0.7935924628825858\n",
      "158 0.7956565382537599\n",
      "159 0.7976999728712223\n",
      "160 0.7997229731425101\n",
      "161 0.8017257434110849\n",
      "162 0.8037084859769741\n",
      "163 0.8056714011172044\n",
      "164 0.8076146871060323\n",
      "165 0.8095385402349721\n",
      "166 0.8114431548326223\n",
      "167 0.8133287232842961\n",
      "168 0.8151954360514531\n",
      "169 0.8170434816909385\n",
      "170 0.8188730468740292\n",
      "171 0.8206843164052888\n",
      "172 0.8224774732412359\n",
      "173 0.8242526985088235\n",
      "174 0.8260101715237353\n",
      "175 0.827750069808498\n",
      "176 0.829472569110413\n",
      "177 0.8311778434193089\n",
      "178 0.8328660649851158\n",
      "179 0.8345374043352647\n",
      "180 0.836192030291912\n",
      "181 0.8378301099889929\n",
      "182 0.839451808889103\n",
      "183 0.841057290800212\n",
      "184 0.8426467178922098\n",
      "185 0.8442202507132877\n",
      "186 0.8457780482061548\n",
      "187 0.8473202677240932\n",
      "188 0.8488470650468523\n",
      "189 0.8503585943963837\n",
      "190 0.8518550084524199\n",
      "191 0.8533364583678957\n",
      "192 0.8548030937842168\n",
      "193 0.8562550628463746\n",
      "194 0.8576925122179109\n",
      "195 0.8591155870957318\n",
      "196 0.8605244312247744\n",
      "197 0.8619191869125267\n",
      "198 0.8632999950434014\n",
      "199 0.8646669950929674\n",
      "200 0.8660203251420378\n",
      "201 0.8673601218906174\n",
      "202 0.8686865206717113\n",
      "203 0.8699996554649941\n",
      "204 0.8712996589103442\n",
      "205 0.8725866623212408\n",
      "206 0.8738607956980284\n",
      "207 0.8751221877410481\n",
      "208 0.8763709658636376\n",
      "209 0.8776072562050012\n",
      "210 0.8788311836429512\n",
      "211 0.8800428718065217\n",
      "212 0.8812424430884566\n",
      "213 0.882430018657572\n",
      "214 0.8836057184709962\n",
      "215 0.8847696612862863\n",
      "216 0.8859219646734234\n",
      "217 0.8870627450266892\n",
      "218 0.8881921175764224\n",
      "219 0.8893101964006581\n",
      "220 0.8904170944366515\n",
      "221 0.891512923492285\n",
      "222 0.8925977942573621\n",
      "223 0.8936718163147884\n",
      "224 0.8947350981516405\n",
      "225 0.8957877471701241\n",
      "226 0.8968298696984228\n",
      "227 0.8978615710014386\n",
      "228 0.8988829552914243\n",
      "229 0.89989412573851\n",
      "230 0.9008951844811249\n",
      "231 0.9018862326363137\n",
      "232 0.9028673703099506\n",
      "233 0.903838696606851\n",
      "234 0.9048003096407825\n",
      "235 0.9057523065443747\n",
      "236 0.906694783478931\n",
      "237 0.9076278356441416\n",
      "238 0.9085515572877002\n",
      "239 0.9094660417148231\n",
      "240 0.9103713812976749\n",
      "241 0.9112676674846981\n",
      "242 0.9121549908098512\n",
      "243 0.9130334409017526\n",
      "244 0.9139031064927351\n",
      "245 0.9147640754278077\n",
      "246 0.9156164346735296\n",
      "247 0.9164602703267943\n",
      "248 0.9172956676235264\n",
      "249 0.9181227109472911\n",
      "250 0.9189414838378183\n",
      "251 0.9197520689994401\n",
      "252 0.9205545483094456\n",
      "253 0.9213490028263511\n",
      "254 0.9221355127980876\n",
      "255 0.9229141576701066\n",
      "256 0.9236850160934056\n",
      "257 0.9244481659324715\n",
      "258 0.9252036842731468\n",
      "259 0.9259516474304154\n",
      "260 0.9266921309561112\n",
      "261 0.9274252096465502\n",
      "262 0.9281509575500847\n",
      "263 0.9288694479745838\n",
      "264 0.9295807534948379\n",
      "265 0.9302849459598895\n",
      "266 0.9309820965002906\n",
      "267 0.9316722755352878\n",
      "268 0.9323555527799349\n",
      "269 0.9330319972521355\n",
      "270 0.9337016772796142\n",
      "271 0.934364660506818\n",
      "272 0.9350210139017499\n",
      "273 0.9356708037627324\n",
      "274 0.936314095725105\n",
      "275 0.936950954767854\n",
      "276 0.9375814452201754\n",
      "277 0.9382056307679736\n",
      "278 0.9388235744602939\n",
      "279 0.939435338715691\n",
      "280 0.9400409853285341\n",
      "281 0.9406405754752487\n",
      "282 0.9412341697204962\n",
      "283 0.9418218280232913\n",
      "284 0.9424036097430584\n",
      "285 0.9429795736456278\n",
      "286 0.9435497779091715\n",
      "287 0.9441142801300798\n",
      "288 0.944673137328779\n",
      "289 0.9452264059554912\n",
      "290 0.9457741418959363\n",
      "291 0.946316400476977\n",
      "292 0.9468532364722072\n",
      "293 0.9473847041074851\n",
      "294 0.9479108570664102\n",
      "295 0.9484317484957461\n",
      "296 0.9489474310107886\n",
      "297 0.9494579567006807\n",
      "298 0.9499633771336738\n",
      "299 0.9504637433623371\n",
      "300 0.9509591059287137\n",
      "301 0.9514495148694265\n",
      "302 0.9519350197207322\n",
      "303 0.952415669523525\n",
      "304 0.9528915128282897\n",
      "305 0.9533625977000068\n",
      "306 0.9538289717230066\n",
      "307 0.9542906820057766\n",
      "308 0.9547477751857188\n",
      "309 0.9552002974338617\n",
      "310 0.955648294459523\n",
      "311 0.9560918115149278\n",
      "312 0.9565308933997786\n",
      "313 0.9569655844657808\n",
      "314 0.957395928621123\n",
      "315 0.9578219693349117\n",
      "316 0.9582437496415626\n",
      "317 0.9586613121451469\n",
      "318 0.9590746990236955\n",
      "319 0.9594839520334585\n",
      "320 0.9598891125131239\n",
      "321 0.9602902213879927\n",
      "322 0.9606873191741128\n",
      "323 0.9610804459823716\n",
      "324 0.9614696415225479\n",
      "325 0.9618549451073224\n",
      "326 0.9622363956562492\n",
      "327 0.9626140316996867\n",
      "328 0.9629878913826898\n",
      "329 0.9633580124688629\n",
      "330 0.9637244323441743\n",
      "331 0.9640871880207326\n",
      "332 0.9644463161405252\n",
      "333 0.96480185297912\n",
      "334 0.9651538344493288\n",
      "335 0.9655022961048355\n",
      "336 0.9658472731437872\n",
      "337 0.9661888004123492\n",
      "338 0.9665269124082257\n",
      "339 0.9668616432841435\n",
      "340 0.967193026851302\n",
      "341 0.9675210965827891\n",
      "342 0.9678458856169612\n",
      "343 0.9681674267607916\n",
      "344 0.9684857524931837\n",
      "345 0.9688008949682518\n",
      "346 0.9691128860185693\n",
      "347 0.9694217571583835\n",
      "348 0.9697275395867997\n",
      "349 0.9700302641909316\n",
      "350 0.9703299615490223\n",
      "351 0.9706266619335321\n",
      "352 0.9709203953141967\n",
      "353 0.9712111913610547\n",
      "354 0.9714990794474442\n",
      "355 0.9717840886529697\n",
      "356 0.97206624776644\n",
      "357 0.9723455852887756\n",
      "358 0.9726221294358878\n",
      "359 0.9728959081415289\n",
      "360 0.9731669490601136\n",
      "361 0.9734352795695125\n",
      "362 0.9737009267738174\n",
      "363 0.9739639175060791\n",
      "364 0.9742242783310183\n",
      "365 0.9744820355477082\n",
      "366 0.9747372151922311\n",
      "367 0.9749898430403088\n",
      "368 0.9752399446099057\n",
      "369 0.9754875451638066\n",
      "370 0.9757326697121685\n",
      "371 0.9759753430150468\n",
      "372 0.9762155895848964\n",
      "373 0.9764534336890475\n",
      "374 0.976688899352157\n",
      "375 0.9769220103586354\n",
      "376 0.977152790255049\n",
      "377 0.9773812623524984\n",
      "378 0.9776074497289735\n",
      "379 0.9778313752316837\n",
      "380 0.9780530614793669\n",
      "381 0.9782725308645732\n",
      "382 0.9784898055559275\n",
      "383 0.9787049075003682\n",
      "384 0.9789178584253645\n",
      "385 0.9791286798411108\n",
      "386 0.9793373930426997\n",
      "387 0.9795440191122727\n",
      "388 0.97974857892115\n",
      "389 0.9799510931319385\n",
      "390 0.9801515822006192\n",
      "391 0.980350066378613\n",
      "392 0.9805465657148269\n",
      "393 0.9807411000576787\n",
      "394 0.9809336890571019\n",
      "395 0.9811243521665308\n",
      "396 0.9813131086448655\n",
      "397 0.9814999775584169\n",
      "398 0.9816849777828327\n",
      "399 0.9818681280050043\n",
      "400 0.9820494467249543\n",
      "401 0.9822289522577048\n",
      "402 0.9824066627351278\n",
      "403 0.9825825961077765\n",
      "404 0.9827567701466988\n"
     ]
    }
   ],
   "source": [
    "k = 1\n",
    "probability = 0\n",
    "while True:\n",
    "    probability += geometrical(k, 0.01)\n",
    "    print(k, probability)\n",
    "    if probability >= 0.9825931938526898:\n",
    "        break\n",
    "    k += 1"
   ]
  },
  {
   "cell_type": "markdown",
   "id": "09b2193a",
   "metadata": {},
   "source": [
    "404 выстрелов надо для того, чтобы достичь вероятности попадания >= 0.9825931938526898"
   ]
  },
  {
   "cell_type": "markdown",
   "id": "601a1b42",
   "metadata": {},
   "source": [
    "соответственно, 404 * 6 = 2424 выстрелов надо для того, чтобы достичь вероятности >= 0.9 для 6 попаданий"
   ]
  },
  {
   "cell_type": "markdown",
   "id": "b8443eaf",
   "metadata": {},
   "source": [
    "#### ответ: 2424"
   ]
  },
  {
   "cell_type": "code",
   "execution_count": null,
   "id": "f1e140e3",
   "metadata": {},
   "outputs": [],
   "source": []
  }
 ],
 "metadata": {
  "kernelspec": {
   "display_name": "Python 3",
   "language": "python",
   "name": "python3"
  },
  "language_info": {
   "codemirror_mode": {
    "name": "ipython",
    "version": 3
   },
   "file_extension": ".py",
   "mimetype": "text/x-python",
   "name": "python",
   "nbconvert_exporter": "python",
   "pygments_lexer": "ipython3",
   "version": "3.8.8"
  }
 },
 "nbformat": 4,
 "nbformat_minor": 5
}
