{
 "cells": [
  {
   "cell_type": "markdown",
   "id": "d18eb15d",
   "metadata": {},
   "source": [
    "# Домашнее задание № 6"
   ]
  },
  {
   "cell_type": "markdown",
   "id": "aa42a846",
   "metadata": {},
   "source": [
    "## по дисциплине: Теория вероятностей и математическая статистика"
   ]
  },
  {
   "cell_type": "markdown",
   "id": "b3af4d1c",
   "metadata": {},
   "source": [
    "## Тема: Взаимосвязь величин. Показатели корреляции. Корреляционный анализ. Проверка на нормальность"
   ]
  },
  {
   "cell_type": "markdown",
   "id": "9eef51b5",
   "metadata": {},
   "source": [
    "### выполнил: Евгений Кириллов"
   ]
  },
  {
   "cell_type": "code",
   "execution_count": null,
   "id": "cc96cb74",
   "metadata": {},
   "outputs": [],
   "source": []
  },
  {
   "cell_type": "markdown",
   "id": "9988d918",
   "metadata": {},
   "source": [
    "__Задача 1__\n",
    "\n",
    "Даны значения величины заработной платы заемщиков банка (zp) и значения их\n",
    "поведенческого кредитного скоринга (ks):\n",
    "\n",
    "zp = [35, 45, 190, 200, 40, 70, 54, 150, 120, 110],\n",
    "\n",
    "ks = [401, 574, 874, 919, 459, 739, 653, 902, 746, 832].\n",
    "\n",
    "Найдите ковариацию этих двух величин с помощью элементарных действий, а затем с\n",
    "помощью функции cov из numpy.\n",
    "Полученные значения должны быть равны.\n",
    "Найдите коэффициент корреляции Пирсона с помощью ковариации и\n",
    "среднеквадратичных отклонений двух признаков,\n",
    "а затем с использованием функций из библиотек numpy и pandas."
   ]
  },
  {
   "cell_type": "code",
   "execution_count": null,
   "id": "98944c25",
   "metadata": {},
   "outputs": [],
   "source": []
  },
  {
   "cell_type": "code",
   "execution_count": 1,
   "id": "18e1a8b4",
   "metadata": {},
   "outputs": [],
   "source": [
    "zp = [35, 45, 190, 200, 40, 70, 54, 150, 120, 110]\n",
    "ks = [401, 574, 874, 919, 459, 739, 653, 902, 746, 832]"
   ]
  },
  {
   "cell_type": "markdown",
   "id": "8e610598",
   "metadata": {},
   "source": [
    "найдём ковариацию с помощью элементарных действий:"
   ]
  },
  {
   "cell_type": "code",
   "execution_count": 2,
   "id": "9f769aa5",
   "metadata": {},
   "outputs": [
    {
     "data": {
      "text/plain": [
       "(101.4, 709.9)"
      ]
     },
     "execution_count": 2,
     "metadata": {},
     "output_type": "execute_result"
    }
   ],
   "source": [
    "zp_mean = sum(zp) / len(zp)\n",
    "ks_mean = sum(ks) / len(ks)\n",
    "\n",
    "zp_mean, ks_mean"
   ]
  },
  {
   "cell_type": "code",
   "execution_count": 3,
   "id": "5451a369",
   "metadata": {},
   "outputs": [
    {
     "data": {
      "text/plain": [
       "10175.377777777778"
      ]
     },
     "execution_count": 3,
     "metadata": {},
     "output_type": "execute_result"
    }
   ],
   "source": [
    "zp_ks_cov = sum([(i[0] - zp_mean) * (i[1] - ks_mean) for i in zip(zp, ks)]) / (len(zp) - 1)\n",
    "zp_ks_cov"
   ]
  },
  {
   "cell_type": "markdown",
   "id": "b2c58a27",
   "metadata": {},
   "source": [
    "найдём ковариацию с помощью функции cov из numpy:"
   ]
  },
  {
   "cell_type": "code",
   "execution_count": 4,
   "id": "96757943",
   "metadata": {},
   "outputs": [],
   "source": [
    "import numpy as np"
   ]
  },
  {
   "cell_type": "code",
   "execution_count": 5,
   "id": "df2ad619",
   "metadata": {},
   "outputs": [
    {
     "data": {
      "text/plain": [
       "array([[ 3882.93333333, 10175.37777778],\n",
       "       [10175.37777778, 33854.32222222]])"
      ]
     },
     "execution_count": 5,
     "metadata": {},
     "output_type": "execute_result"
    }
   ],
   "source": [
    "np.cov(zp, ks, ddof=1)"
   ]
  },
  {
   "cell_type": "markdown",
   "id": "cd8b8c9f",
   "metadata": {},
   "source": [
    "полученные значения равны"
   ]
  },
  {
   "cell_type": "markdown",
   "id": "c8c66db6",
   "metadata": {},
   "source": [
    "найдём коэффициент корреляции Пирсона с помощью ковариации и среднеквадратичных отклонений двух признаков:"
   ]
  },
  {
   "cell_type": "code",
   "execution_count": 6,
   "id": "df845447",
   "metadata": {},
   "outputs": [
    {
     "data": {
      "text/plain": [
       "(62.31318747531162, 183.99544076477068)"
      ]
     },
     "execution_count": 6,
     "metadata": {},
     "output_type": "execute_result"
    }
   ],
   "source": [
    "zp_std = (sum([(i - zp_mean) ** 2 for i in zp]) / (len(zp) - 1)) ** 0.5\n",
    "ks_std = (sum([(i - ks_mean) ** 2 for i in ks]) / (len(ks) - 1)) ** 0.5\n",
    "\n",
    "zp_std, ks_std"
   ]
  },
  {
   "cell_type": "code",
   "execution_count": 7,
   "id": "d450fad9",
   "metadata": {},
   "outputs": [
    {
     "data": {
      "text/plain": [
       "0.8874900920739162"
      ]
     },
     "execution_count": 7,
     "metadata": {},
     "output_type": "execute_result"
    }
   ],
   "source": [
    "zp_ks_corr = zp_ks_cov / (zp_std * ks_std)\n",
    "zp_ks_corr"
   ]
  },
  {
   "cell_type": "markdown",
   "id": "ec46f290",
   "metadata": {},
   "source": [
    "найдём коэффициент корреляции Пирсона с помощью функции np.corrcoef() из библиотеки numpy:"
   ]
  },
  {
   "cell_type": "code",
   "execution_count": 8,
   "id": "f578dbf1",
   "metadata": {},
   "outputs": [
    {
     "data": {
      "text/plain": [
       "array([[1.        , 0.88749009],\n",
       "       [0.88749009, 1.        ]])"
      ]
     },
     "execution_count": 8,
     "metadata": {},
     "output_type": "execute_result"
    }
   ],
   "source": [
    "np.corrcoef(zp, ks)"
   ]
  },
  {
   "cell_type": "markdown",
   "id": "f091f6ba",
   "metadata": {},
   "source": [
    "найдём коэффициент корреляции Пирсона с помощью метода .corr() из библиотеки pandas:"
   ]
  },
  {
   "cell_type": "code",
   "execution_count": 9,
   "id": "51c1a393",
   "metadata": {},
   "outputs": [],
   "source": [
    "import pandas as pd"
   ]
  },
  {
   "cell_type": "code",
   "execution_count": 10,
   "id": "86df6536",
   "metadata": {},
   "outputs": [
    {
     "data": {
      "text/html": [
       "<div>\n",
       "<style scoped>\n",
       "    .dataframe tbody tr th:only-of-type {\n",
       "        vertical-align: middle;\n",
       "    }\n",
       "\n",
       "    .dataframe tbody tr th {\n",
       "        vertical-align: top;\n",
       "    }\n",
       "\n",
       "    .dataframe thead th {\n",
       "        text-align: right;\n",
       "    }\n",
       "</style>\n",
       "<table border=\"1\" class=\"dataframe\">\n",
       "  <thead>\n",
       "    <tr style=\"text-align: right;\">\n",
       "      <th></th>\n",
       "      <th>zp</th>\n",
       "      <th>ks</th>\n",
       "    </tr>\n",
       "  </thead>\n",
       "  <tbody>\n",
       "    <tr>\n",
       "      <th>zp</th>\n",
       "      <td>1.00000</td>\n",
       "      <td>0.88749</td>\n",
       "    </tr>\n",
       "    <tr>\n",
       "      <th>ks</th>\n",
       "      <td>0.88749</td>\n",
       "      <td>1.00000</td>\n",
       "    </tr>\n",
       "  </tbody>\n",
       "</table>\n",
       "</div>"
      ],
      "text/plain": [
       "         zp       ks\n",
       "zp  1.00000  0.88749\n",
       "ks  0.88749  1.00000"
      ]
     },
     "execution_count": 10,
     "metadata": {},
     "output_type": "execute_result"
    }
   ],
   "source": [
    "pd.DataFrame({'zp': zp, 'ks':ks}).corr()"
   ]
  },
  {
   "cell_type": "markdown",
   "id": "3ca23bf6",
   "metadata": {},
   "source": [
    "полученные значения равны"
   ]
  },
  {
   "cell_type": "code",
   "execution_count": null,
   "id": "5b7f9b7f",
   "metadata": {},
   "outputs": [],
   "source": []
  },
  {
   "cell_type": "markdown",
   "id": "e4efb6ea",
   "metadata": {},
   "source": [
    "__Задача 2__\n",
    "\n",
    "Проведите тест на значимость коэффициента корреляции Пирсона, найденного в предыдущей задаче. Что для этого нужно знать:\n",
    "* Нулевая гипотеза: реальный коэффициент корреляции равен 0. Альтернативная гипотеза двухсторонняя.\n",
    "* Статистика: `t = r * sqrt(n - 2) / sqrt(1 - r ** 2)`, где `r` - коэффициент корреляции Пирсона, посчитанный по выборке.\n",
    "* В предположении верности нулевой гипотезы эта статистика имеет распределение Стьюдента с параметром `df = n - 2`.\n",
    "\n",
    "В качестве ответа запишите 1, если нулевая гипотеза верна, и 0 иначе."
   ]
  },
  {
   "cell_type": "code",
   "execution_count": null,
   "id": "8a01e0b7",
   "metadata": {},
   "outputs": [],
   "source": []
  },
  {
   "cell_type": "code",
   "execution_count": 11,
   "id": "5bce0b1e",
   "metadata": {},
   "outputs": [],
   "source": [
    "from scipy import stats"
   ]
  },
  {
   "cell_type": "code",
   "execution_count": 12,
   "id": "3511b7eb",
   "metadata": {},
   "outputs": [],
   "source": [
    "alpha = 0.05\n",
    "n = len(zp)"
   ]
  },
  {
   "cell_type": "markdown",
   "id": "19f69383",
   "metadata": {},
   "source": [
    "найдём квантили:"
   ]
  },
  {
   "cell_type": "code",
   "execution_count": 13,
   "id": "ddeb8c00",
   "metadata": {},
   "outputs": [
    {
     "data": {
      "text/plain": [
       "(-2.306004135033371, 2.3060041350333704)"
      ]
     },
     "execution_count": 13,
     "metadata": {},
     "output_type": "execute_result"
    }
   ],
   "source": [
    "t1 = stats.t.ppf(alpha / 2, df=n - 2)\n",
    "t2 = stats.t.ppf(1 - alpha / 2, df=n - 2)\n",
    "\n",
    "t1, t2"
   ]
  },
  {
   "cell_type": "markdown",
   "id": "b7f52dca",
   "metadata": {},
   "source": [
    "найдём значение статистики t:"
   ]
  },
  {
   "cell_type": "code",
   "execution_count": 14,
   "id": "7fb0c0e6",
   "metadata": {},
   "outputs": [
    {
     "data": {
      "text/plain": [
       "5.447168150485575"
      ]
     },
     "execution_count": 14,
     "metadata": {},
     "output_type": "execute_result"
    }
   ],
   "source": [
    "r = zp_ks_corr\n",
    "t = r * np.sqrt(n - 2) / np.sqrt(1 - r ** 2)\n",
    "t"
   ]
  },
  {
   "cell_type": "markdown",
   "id": "192e1080",
   "metadata": {},
   "source": [
    "5.447168150485575 > 2.3060041350333704"
   ]
  },
  {
   "cell_type": "markdown",
   "id": "09b01113",
   "metadata": {},
   "source": [
    "статистика попала в критическую область, нулевая гипотеза отвергается"
   ]
  },
  {
   "cell_type": "code",
   "execution_count": null,
   "id": "148acc56",
   "metadata": {},
   "outputs": [],
   "source": []
  },
  {
   "cell_type": "markdown",
   "id": "315e58b8",
   "metadata": {},
   "source": [
    "__Задача 3__ \n",
    "\n",
    "Измерены значения IQ выборки студентов,\n",
    "обучающихся в местных технических вузах:\n",
    "\n",
    "131, 125, 115, 122, 131, 115, 107, 99, 125, 111.\n",
    "\n",
    "Известно, что в генеральной совокупности IQ распределен нормально.\n",
    "Найдите доверительный интервал для математического ожидания с надежностью 0.95."
   ]
  },
  {
   "cell_type": "code",
   "execution_count": null,
   "id": "ca74217a",
   "metadata": {},
   "outputs": [],
   "source": []
  },
  {
   "cell_type": "code",
   "execution_count": 15,
   "id": "fd626843",
   "metadata": {},
   "outputs": [],
   "source": [
    "from scipy import stats"
   ]
  },
  {
   "cell_type": "code",
   "execution_count": 16,
   "id": "d827446a",
   "metadata": {},
   "outputs": [],
   "source": [
    "iq = np.array([131, 125, 115, 122, 131, 115, 107, 99, 125, 111])"
   ]
  },
  {
   "cell_type": "code",
   "execution_count": 17,
   "id": "05a6ea52",
   "metadata": {},
   "outputs": [],
   "source": [
    "n = iq.shape[0]\n",
    "mean = iq.mean()\n",
    "std = iq.std(ddof=1)\n",
    "p = 0.95\n",
    "alpha = 1 - p"
   ]
  },
  {
   "cell_type": "markdown",
   "id": "845376fa",
   "metadata": {},
   "source": [
    "найдём границы критической области:"
   ]
  },
  {
   "cell_type": "markdown",
   "id": "cd383019",
   "metadata": {},
   "source": [
    "т.к. дисперсия генеральной совокупности неизвестна, то используем t-статистику"
   ]
  },
  {
   "cell_type": "code",
   "execution_count": 18,
   "id": "32d24204",
   "metadata": {},
   "outputs": [
    {
     "data": {
      "text/plain": [
       "(-2.2621571627409915, 2.2621571627409915)"
      ]
     },
     "execution_count": 18,
     "metadata": {},
     "output_type": "execute_result"
    }
   ],
   "source": [
    "t1 = stats.t.ppf(alpha / 2, df=n - 1)\n",
    "t2 = stats.t.ppf(1 - alpha / 2, df=n - 1)\n",
    "\n",
    "t1, t2"
   ]
  },
  {
   "cell_type": "markdown",
   "id": "a66d25db",
   "metadata": {},
   "source": [
    "найдём границы доверительного интервала:"
   ]
  },
  {
   "cell_type": "code",
   "execution_count": 19,
   "id": "5034f589",
   "metadata": {},
   "outputs": [
    {
     "data": {
      "text/plain": [
       "(110.55608365158724, 125.64391634841274)"
      ]
     },
     "execution_count": 19,
     "metadata": {},
     "output_type": "execute_result"
    }
   ],
   "source": [
    "(mean + t1 * std / np.sqrt(n), mean + t2 * std / np.sqrt(n))"
   ]
  },
  {
   "cell_type": "markdown",
   "id": "c3f3a273",
   "metadata": {},
   "source": [
    "и его ширину:"
   ]
  },
  {
   "cell_type": "code",
   "execution_count": 20,
   "id": "2b0a9eec",
   "metadata": {},
   "outputs": [
    {
     "data": {
      "text/plain": [
       "15.087832696825501"
      ]
     },
     "execution_count": 20,
     "metadata": {},
     "output_type": "execute_result"
    }
   ],
   "source": [
    "(mean + t2 * std / np.sqrt(n)) - (mean + t1 * std / np.sqrt(n))"
   ]
  },
  {
   "cell_type": "code",
   "execution_count": null,
   "id": "9418af9a",
   "metadata": {},
   "outputs": [],
   "source": []
  },
  {
   "cell_type": "markdown",
   "id": "b329714d",
   "metadata": {},
   "source": [
    "__Задача 4__\n",
    "\n",
    "Известно, что рост футболистов в сборной распределен нормально\n",
    "с дисперсией генеральной совокупности, равной 25 кв.см. Объем выборки равен 27,\n",
    "среднее выборочное составляет 174.2. Найдите доверительный интервал для\n",
    "математического ожидания с надежностью 0.95."
   ]
  },
  {
   "cell_type": "code",
   "execution_count": null,
   "id": "73b16b38",
   "metadata": {},
   "outputs": [],
   "source": []
  },
  {
   "cell_type": "code",
   "execution_count": 21,
   "id": "a464d79d",
   "metadata": {},
   "outputs": [],
   "source": [
    "n = 27\n",
    "mean = 174.2\n",
    "var = 25\n",
    "std = np.sqrt(var)\n",
    "p = 0.95\n",
    "alpha = 1 - p"
   ]
  },
  {
   "cell_type": "markdown",
   "id": "bf4660c2",
   "metadata": {},
   "source": [
    "найдём границы критической области:"
   ]
  },
  {
   "cell_type": "markdown",
   "id": "645f1764",
   "metadata": {},
   "source": [
    "т.к. дисперсия генеральной совокупности известна, то используем Z-статистику"
   ]
  },
  {
   "cell_type": "code",
   "execution_count": 22,
   "id": "85e0209a",
   "metadata": {},
   "outputs": [
    {
     "data": {
      "text/plain": [
       "(-1.959963984540054, 1.959963984540054)"
      ]
     },
     "execution_count": 22,
     "metadata": {},
     "output_type": "execute_result"
    }
   ],
   "source": [
    "t1 = stats.norm.ppf(alpha / 2)\n",
    "t2 = stats.norm.ppf(1 - alpha / 2)\n",
    "\n",
    "t1, t2"
   ]
  },
  {
   "cell_type": "markdown",
   "id": "10cca944",
   "metadata": {},
   "source": [
    "найдём границы доверительного интервала:"
   ]
  },
  {
   "cell_type": "code",
   "execution_count": 23,
   "id": "a6738d31",
   "metadata": {},
   "outputs": [
    {
     "data": {
      "text/plain": [
       "(172.3140237765397, 176.08597622346028)"
      ]
     },
     "execution_count": 23,
     "metadata": {},
     "output_type": "execute_result"
    }
   ],
   "source": [
    "(mean + t1 * std / np.sqrt(n), mean + t2 * std / np.sqrt(n))"
   ]
  },
  {
   "cell_type": "markdown",
   "id": "dff5593a",
   "metadata": {},
   "source": [
    "и его ширину:"
   ]
  },
  {
   "cell_type": "code",
   "execution_count": 24,
   "id": "a63de2a7",
   "metadata": {},
   "outputs": [
    {
     "data": {
      "text/plain": [
       "3.7719524469205794"
      ]
     },
     "execution_count": 24,
     "metadata": {},
     "output_type": "execute_result"
    }
   ],
   "source": [
    "(mean + t2 * std / np.sqrt(n)) - (mean + t1 * std / np.sqrt(n))"
   ]
  },
  {
   "cell_type": "code",
   "execution_count": null,
   "id": "1ae43496",
   "metadata": {},
   "outputs": [],
   "source": []
  }
 ],
 "metadata": {
  "kernelspec": {
   "display_name": "Python 3",
   "language": "python",
   "name": "python3"
  },
  "language_info": {
   "codemirror_mode": {
    "name": "ipython",
    "version": 3
   },
   "file_extension": ".py",
   "mimetype": "text/x-python",
   "name": "python",
   "nbconvert_exporter": "python",
   "pygments_lexer": "ipython3",
   "version": "3.8.8"
  }
 },
 "nbformat": 4,
 "nbformat_minor": 5
}
